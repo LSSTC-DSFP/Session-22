{
 "cells": [
  {
   "cell_type": "markdown",
   "metadata": {},
   "source": [
    "# Problem VII: Analyzing Policing Data from Chicago and California\n",
    "\n",
    "**Version 0.1**\n",
    "\n",
    "In this notebook you are asked to identify correlations in a data set that includes information about crimes that have been collected both in the city of Chicago and in California. You will find correlations between different variables and be asked to supply interpretations for the correlations that have been identified. \n",
    "\n",
    "* * *\n",
    "\n",
    "By Tiffany Nichols (Northeastern University)  \n",
    "24 October 2024"
   ]
  },
  {
   "cell_type": "code",
   "execution_count": 22,
   "metadata": {},
   "outputs": [
    {
     "name": "stdout",
     "output_type": "stream",
     "text": [
      "Warning: Cannot change to a different GUI toolkit: ipympl. Using notebook instead.\n"
     ]
    }
   ],
   "source": [
    "import numpy as np\n",
    "import pandas as pd\n",
    "import matplotlib.pyplot as plt\n",
    "\n",
    "%matplotlib ipympl\n",
    "# %matplotlib inline\n",
    "# %matplotlib notebook\n",
    "\n",
    "from scipy.stats.contingency import association\n",
    "import seaborn as sns\n",
    "from scipy.stats import chi2_contingency\n",
    "import plotly.express as px\n"
   ]
  },
  {
   "cell_type": "markdown",
   "metadata": {},
   "source": [
    "## Problem 1) Chicago PD Data\n",
    "\n",
    "**Problem 1a** \n",
    "\n",
    "Load the data from Chicago. What columns (i.e., variables) are present within the data? "
   ]
  },
  {
   "cell_type": "code",
   "execution_count": 13,
   "metadata": {},
   "outputs": [
    {
     "data": {
      "text/html": [
       "<div>\n",
       "<style scoped>\n",
       "    .dataframe tbody tr th:only-of-type {\n",
       "        vertical-align: middle;\n",
       "    }\n",
       "\n",
       "    .dataframe tbody tr th {\n",
       "        vertical-align: top;\n",
       "    }\n",
       "\n",
       "    .dataframe thead th {\n",
       "        text-align: right;\n",
       "    }\n",
       "</style>\n",
       "<table border=\"1\" class=\"dataframe\">\n",
       "  <thead>\n",
       "    <tr style=\"text-align: right;\">\n",
       "      <th></th>\n",
       "      <th>TIME_PERIOD</th>\n",
       "      <th>TIME_PERIOD_START</th>\n",
       "      <th>TIME_PERIOD_END</th>\n",
       "      <th>PRIMARY_TYPE</th>\n",
       "      <th>AGE</th>\n",
       "      <th>SEX</th>\n",
       "      <th>RACE</th>\n",
       "      <th>JUVENILE_I</th>\n",
       "      <th>DOMESTIC_I</th>\n",
       "      <th>GUNSHOT_INJURY_I</th>\n",
       "      <th>NUMBER_OF_VICTIMS</th>\n",
       "    </tr>\n",
       "  </thead>\n",
       "  <tbody>\n",
       "    <tr>\n",
       "      <th>0</th>\n",
       "      <td>2011 Q1</td>\n",
       "      <td>01/01/2011</td>\n",
       "      <td>03/31/2011</td>\n",
       "      <td>HOMICIDE</td>\n",
       "      <td>30-39</td>\n",
       "      <td>M</td>\n",
       "      <td>BLK</td>\n",
       "      <td>False</td>\n",
       "      <td>False</td>\n",
       "      <td>NO</td>\n",
       "      <td>1</td>\n",
       "    </tr>\n",
       "    <tr>\n",
       "      <th>1</th>\n",
       "      <td>2000 Q4</td>\n",
       "      <td>10/01/2000</td>\n",
       "      <td>12/31/2000</td>\n",
       "      <td>HOMICIDE</td>\n",
       "      <td>70-79</td>\n",
       "      <td>M</td>\n",
       "      <td>WHI</td>\n",
       "      <td>False</td>\n",
       "      <td>False</td>\n",
       "      <td>NO</td>\n",
       "      <td>2</td>\n",
       "    </tr>\n",
       "    <tr>\n",
       "      <th>2</th>\n",
       "      <td>1992 Q4</td>\n",
       "      <td>10/01/1992</td>\n",
       "      <td>12/31/1992</td>\n",
       "      <td>HOMICIDE</td>\n",
       "      <td>70-79</td>\n",
       "      <td>M</td>\n",
       "      <td>WHI</td>\n",
       "      <td>False</td>\n",
       "      <td>False</td>\n",
       "      <td>NO</td>\n",
       "      <td>1</td>\n",
       "    </tr>\n",
       "    <tr>\n",
       "      <th>3</th>\n",
       "      <td>2012 Q4</td>\n",
       "      <td>10/01/2012</td>\n",
       "      <td>12/31/2012</td>\n",
       "      <td>BATTERY</td>\n",
       "      <td>20-29</td>\n",
       "      <td>UNKNOWN</td>\n",
       "      <td>UNKNOWN</td>\n",
       "      <td>False</td>\n",
       "      <td>False</td>\n",
       "      <td>NO</td>\n",
       "      <td>1</td>\n",
       "    </tr>\n",
       "    <tr>\n",
       "      <th>4</th>\n",
       "      <td>2003 Q2</td>\n",
       "      <td>03/01/2003</td>\n",
       "      <td>06/30/2003</td>\n",
       "      <td>CRIMINAL SEXUAL ASSAULT</td>\n",
       "      <td>0-19</td>\n",
       "      <td>F</td>\n",
       "      <td>WWH</td>\n",
       "      <td>True</td>\n",
       "      <td>False</td>\n",
       "      <td>UNKNOWN</td>\n",
       "      <td>42</td>\n",
       "    </tr>\n",
       "    <tr>\n",
       "      <th>...</th>\n",
       "      <td>...</td>\n",
       "      <td>...</td>\n",
       "      <td>...</td>\n",
       "      <td>...</td>\n",
       "      <td>...</td>\n",
       "      <td>...</td>\n",
       "      <td>...</td>\n",
       "      <td>...</td>\n",
       "      <td>...</td>\n",
       "      <td>...</td>\n",
       "      <td>...</td>\n",
       "    </tr>\n",
       "    <tr>\n",
       "      <th>54856</th>\n",
       "      <td>2024 Q3</td>\n",
       "      <td>07/01/2024</td>\n",
       "      <td>09/30/2024</td>\n",
       "      <td>ROBBERY</td>\n",
       "      <td>30-39</td>\n",
       "      <td>F</td>\n",
       "      <td>WWH</td>\n",
       "      <td>False</td>\n",
       "      <td>True</td>\n",
       "      <td>NO</td>\n",
       "      <td>4</td>\n",
       "    </tr>\n",
       "    <tr>\n",
       "      <th>54857</th>\n",
       "      <td>2024 Q3</td>\n",
       "      <td>07/01/2024</td>\n",
       "      <td>09/30/2024</td>\n",
       "      <td>ROBBERY</td>\n",
       "      <td>0-19</td>\n",
       "      <td>M</td>\n",
       "      <td>BLK</td>\n",
       "      <td>False</td>\n",
       "      <td>False</td>\n",
       "      <td>YES</td>\n",
       "      <td>3</td>\n",
       "    </tr>\n",
       "    <tr>\n",
       "      <th>54858</th>\n",
       "      <td>2024 Q3</td>\n",
       "      <td>07/01/2024</td>\n",
       "      <td>09/30/2024</td>\n",
       "      <td>ASSAULT</td>\n",
       "      <td>20-29</td>\n",
       "      <td>M</td>\n",
       "      <td>WBH</td>\n",
       "      <td>False</td>\n",
       "      <td>False</td>\n",
       "      <td>NO</td>\n",
       "      <td>11</td>\n",
       "    </tr>\n",
       "    <tr>\n",
       "      <th>54859</th>\n",
       "      <td>2024 Q3</td>\n",
       "      <td>07/01/2024</td>\n",
       "      <td>09/30/2024</td>\n",
       "      <td>ROBBERY</td>\n",
       "      <td>30-39</td>\n",
       "      <td>F</td>\n",
       "      <td>WBH</td>\n",
       "      <td>False</td>\n",
       "      <td>False</td>\n",
       "      <td>NO</td>\n",
       "      <td>4</td>\n",
       "    </tr>\n",
       "    <tr>\n",
       "      <th>54860</th>\n",
       "      <td>2024 Q3</td>\n",
       "      <td>07/01/2024</td>\n",
       "      <td>09/30/2024</td>\n",
       "      <td>ROBBERY</td>\n",
       "      <td>20-29</td>\n",
       "      <td>F</td>\n",
       "      <td>WHI</td>\n",
       "      <td>False</td>\n",
       "      <td>True</td>\n",
       "      <td>NO</td>\n",
       "      <td>2</td>\n",
       "    </tr>\n",
       "  </tbody>\n",
       "</table>\n",
       "<p>54861 rows × 11 columns</p>\n",
       "</div>"
      ],
      "text/plain": [
       "      TIME_PERIOD TIME_PERIOD_START TIME_PERIOD_END             PRIMARY_TYPE  \\\n",
       "0         2011 Q1        01/01/2011      03/31/2011                 HOMICIDE   \n",
       "1         2000 Q4        10/01/2000      12/31/2000                 HOMICIDE   \n",
       "2         1992 Q4        10/01/1992      12/31/1992                 HOMICIDE   \n",
       "3         2012 Q4        10/01/2012      12/31/2012                  BATTERY   \n",
       "4         2003 Q2        03/01/2003      06/30/2003  CRIMINAL SEXUAL ASSAULT   \n",
       "...           ...               ...             ...                      ...   \n",
       "54856     2024 Q3        07/01/2024      09/30/2024                  ROBBERY   \n",
       "54857     2024 Q3        07/01/2024      09/30/2024                  ROBBERY   \n",
       "54858     2024 Q3        07/01/2024      09/30/2024                  ASSAULT   \n",
       "54859     2024 Q3        07/01/2024      09/30/2024                  ROBBERY   \n",
       "54860     2024 Q3        07/01/2024      09/30/2024                  ROBBERY   \n",
       "\n",
       "         AGE      SEX     RACE JUVENILE_I  DOMESTIC_I GUNSHOT_INJURY_I  \\\n",
       "0      30-39        M      BLK      False       False               NO   \n",
       "1      70-79        M      WHI      False       False               NO   \n",
       "2      70-79        M      WHI      False       False               NO   \n",
       "3      20-29  UNKNOWN  UNKNOWN      False       False               NO   \n",
       "4       0-19        F      WWH       True       False          UNKNOWN   \n",
       "...      ...      ...      ...        ...         ...              ...   \n",
       "54856  30-39        F      WWH      False        True               NO   \n",
       "54857   0-19        M      BLK      False       False              YES   \n",
       "54858  20-29        M      WBH      False       False               NO   \n",
       "54859  30-39        F      WBH      False       False               NO   \n",
       "54860  20-29        F      WHI      False        True               NO   \n",
       "\n",
       "       NUMBER_OF_VICTIMS  \n",
       "0                      1  \n",
       "1                      2  \n",
       "2                      1  \n",
       "3                      1  \n",
       "4                     42  \n",
       "...                  ...  \n",
       "54856                  4  \n",
       "54857                  3  \n",
       "54858                 11  \n",
       "54859                  4  \n",
       "54860                  2  \n",
       "\n",
       "[54861 rows x 11 columns]"
      ]
     },
     "execution_count": 13,
     "metadata": {},
     "output_type": "execute_result"
    }
   ],
   "source": [
    "chicago_df = pd.read_csv(\"ChicagoPolicingData.csv\")\n",
    "chicago_df"
   ]
  },
  {
   "cell_type": "code",
   "execution_count": 14,
   "metadata": {},
   "outputs": [
    {
     "data": {
      "text/plain": [
       "Index(['TIME_PERIOD', 'TIME_PERIOD_START', 'TIME_PERIOD_END', 'PRIMARY_TYPE',\n",
       "       'AGE', 'SEX', 'RACE', 'JUVENILE_I', 'DOMESTIC_I', 'GUNSHOT_INJURY_I',\n",
       "       'NUMBER_OF_VICTIMS'],\n",
       "      dtype='object')"
      ]
     },
     "execution_count": 14,
     "metadata": {},
     "output_type": "execute_result"
    }
   ],
   "source": [
    "chicago_df.columns"
   ]
  },
  {
   "cell_type": "code",
   "execution_count": 15,
   "metadata": {},
   "outputs": [
    {
     "name": "stdout",
     "output_type": "stream",
     "text": [
      "<class 'pandas.core.frame.DataFrame'>\n",
      "RangeIndex: 54861 entries, 0 to 54860\n",
      "Data columns (total 11 columns):\n",
      " #   Column             Non-Null Count  Dtype \n",
      "---  ------             --------------  ----- \n",
      " 0   TIME_PERIOD        54861 non-null  object\n",
      " 1   TIME_PERIOD_START  54861 non-null  object\n",
      " 2   TIME_PERIOD_END    54861 non-null  object\n",
      " 3   PRIMARY_TYPE       54861 non-null  object\n",
      " 4   AGE                54861 non-null  object\n",
      " 5   SEX                54861 non-null  object\n",
      " 6   RACE               54861 non-null  object\n",
      " 7   JUVENILE_I         51749 non-null  object\n",
      " 8   DOMESTIC_I         54861 non-null  bool  \n",
      " 9   GUNSHOT_INJURY_I   54861 non-null  object\n",
      " 10  NUMBER_OF_VICTIMS  54861 non-null  int64 \n",
      "dtypes: bool(1), int64(1), object(9)\n",
      "memory usage: 4.2+ MB\n"
     ]
    }
   ],
   "source": [
    "chicago_df.info()"
   ]
  },
  {
   "cell_type": "markdown",
   "metadata": {},
   "source": [
    "*write your response here*\n",
    "\n",
    "The variables in this data set are 'TIME_PERIOD', 'TIME_PERIOD_START', 'TIME_PERIOD_END', 'PRIMARY_TYPE', 'AGE', 'SEX', 'RACE', 'JUVENILE_I', 'DOMESTIC_I', 'GUNSHOT_INJURY_I', 'NUMBER_OF_VICTIMS'."
   ]
  },
  {
   "cell_type": "markdown",
   "metadata": {},
   "source": [
    "**Problem 1b**\n",
    "\n",
    "Prior to any numerical analysis which variable do you expect to be most strongly correlated with `PRIMARY TYPE` (the charge at the time of arrest)?"
   ]
  },
  {
   "cell_type": "markdown",
   "metadata": {},
   "source": [
    "*write your answer here*"
   ]
  },
  {
   "cell_type": "markdown",
   "metadata": {},
   "source": [
    "**Problem 1c**\n",
    "\n",
    "Using the available data identify any trends or correlations present within the data. \n",
    "\n",
    "Do you identify any particularly strong correlations? "
   ]
  },
  {
   "cell_type": "code",
   "execution_count": 29,
   "metadata": {},
   "outputs": [
    {
     "data": {
      "application/vnd.plotly.v1+json": {
       "config": {
        "plotlyServerURL": "https://plot.ly"
       },
       "data": [
        {
         "coloraxis": "coloraxis",
         "hovertemplate": "x: %{x}<br>y: %{y}<br>color: %{z}<extra></extra>",
         "name": "0",
         "texttemplate": "%{z}",
         "type": "heatmap",
         "x": [
          "TIME_PERIOD",
          "TIME_PERIOD_START",
          "TIME_PERIOD_END",
          "PRIMARY_TYPE",
          "AGE",
          "SEX",
          "RACE",
          "JUVENILE_I",
          "DOMESTIC_I",
          "GUNSHOT_INJURY_I",
          "NUMBER_OF_VICTIMS"
         ],
         "xaxis": "x",
         "y": [
          "TIME_PERIOD",
          "TIME_PERIOD_START",
          "TIME_PERIOD_END",
          "PRIMARY_TYPE",
          "AGE",
          "SEX",
          "RACE",
          "JUVENILE_I",
          "DOMESTIC_I",
          "GUNSHOT_INJURY_I",
          "NUMBER_OF_VICTIMS"
         ],
         "yaxis": "y",
         "z": [
          [
           1,
           1,
           1,
           0.4772258538307295,
           0.05533670779697383,
           0.07194703076010006,
           0.07688182728842458,
           0.044062106206131185,
           0.041410359895247384,
           0.6811720365765486,
           0.07863383456106152
          ],
          [
           1,
           1,
           0.9994516042145034,
           0.27580518560394446,
           0.054901157928864866,
           0.07104470061670173,
           0.07645650375083317,
           0.039723151150379186,
           0.04127596913667631,
           0.6799567680714614,
           0.07882724401350102
          ],
          [
           0.9999999999999999,
           0.9994516042145034,
           1,
           0.2672923673529032,
           0.05486030004421301,
           0.07106946766474705,
           0.07669539843383362,
           0.038694371439538765,
           0.04132741233273396,
           0.6811171311745645,
           0.07888990837680421
          ],
          [
           0.4772258538307295,
           0.27580518560394446,
           0.2672923673529032,
           1,
           0.08081624998122336,
           0.15461077163131914,
           0.11266616257257059,
           0.13151453821267411,
           0.22356860169612416,
           0.3701157581578828,
           0.12925640732365307
          ],
          [
           0.05533670779697384,
           0.054901157928864866,
           0.054860300044213,
           0.08081624998122336,
           1,
           0.15479600390738554,
           0.09985259950965676,
           0.7068558939199302,
           0.05159641278522601,
           0.10678537437355708,
           0.12021257176721749
          ],
          [
           0.07194703076010005,
           0.07104470061670173,
           0.07106946766474705,
           0.15461077163131912,
           0.15479600390738554,
           1,
           0.32085526881139276,
           0.031768120570570546,
           0.12106193106034778,
           0.09702567942484402,
           0.13224250162340254
          ],
          [
           0.07688182728842458,
           0.07645650375083317,
           0.07669539843383362,
           0.11266616257257059,
           0.09985259950965676,
           0.32085526881139276,
           1,
           0.0736885172195667,
           0.16807050938834756,
           0.13443654934304974,
           0.17410381927024066
          ],
          [
           0.044062106206131185,
           0.039723151150379186,
           0.038694371439538765,
           0.13151453821267411,
           0.7068558939199302,
           0.031768120570570546,
           0.0736885172195667,
           1,
           0.01769212708273103,
           0.011067975651931572,
           0.10433007037211849
          ],
          [
           0.041410359895247384,
           0.04127596913667631,
           0.04132741233273395,
           0.22356860169612416,
           0.05159641278522601,
           0.12106193106034778,
           0.16807050938834758,
           0.01769212708273103,
           1,
           0.1457934954798113,
           0.16598496295852447
          ],
          [
           0.6811720365765486,
           0.6799567680714614,
           0.6811171311745644,
           0.3701157581578828,
           0.10678537437355708,
           0.09702567942484402,
           0.13443654934304974,
           0.011067975651931572,
           0.1457934954798113,
           1,
           0.15345178870713994
          ],
          [
           0.07863383456106152,
           0.07882724401350102,
           0.0788899083768042,
           0.12925640732365307,
           0.12021257176721749,
           0.13224250162340254,
           0.17410381927024066,
           0.10433007037211849,
           0.16598496295852447,
           0.15345178870713994,
           1
          ]
         ]
        }
       ],
       "layout": {
        "coloraxis": {
         "colorscale": [
          [
           0,
           "#440154"
          ],
          [
           0.1111111111111111,
           "#482878"
          ],
          [
           0.2222222222222222,
           "#3e4989"
          ],
          [
           0.3333333333333333,
           "#31688e"
          ],
          [
           0.4444444444444444,
           "#26828e"
          ],
          [
           0.5555555555555556,
           "#1f9e89"
          ],
          [
           0.6666666666666666,
           "#35b779"
          ],
          [
           0.7777777777777778,
           "#6ece58"
          ],
          [
           0.8888888888888888,
           "#b5de2b"
          ],
          [
           1,
           "#fde725"
          ]
         ]
        },
        "height": 1200,
        "margin": {
         "t": 60
        },
        "paper_bgcolor": "rgba(0, 0, 0, 0)",
        "plot_bgcolor": "rgba(0, 0, 0, 0)",
        "template": {
         "data": {
          "bar": [
           {
            "error_x": {
             "color": "#2a3f5f"
            },
            "error_y": {
             "color": "#2a3f5f"
            },
            "marker": {
             "line": {
              "color": "#E5ECF6",
              "width": 0.5
             },
             "pattern": {
              "fillmode": "overlay",
              "size": 10,
              "solidity": 0.2
             }
            },
            "type": "bar"
           }
          ],
          "barpolar": [
           {
            "marker": {
             "line": {
              "color": "#E5ECF6",
              "width": 0.5
             },
             "pattern": {
              "fillmode": "overlay",
              "size": 10,
              "solidity": 0.2
             }
            },
            "type": "barpolar"
           }
          ],
          "carpet": [
           {
            "aaxis": {
             "endlinecolor": "#2a3f5f",
             "gridcolor": "white",
             "linecolor": "white",
             "minorgridcolor": "white",
             "startlinecolor": "#2a3f5f"
            },
            "baxis": {
             "endlinecolor": "#2a3f5f",
             "gridcolor": "white",
             "linecolor": "white",
             "minorgridcolor": "white",
             "startlinecolor": "#2a3f5f"
            },
            "type": "carpet"
           }
          ],
          "choropleth": [
           {
            "colorbar": {
             "outlinewidth": 0,
             "ticks": ""
            },
            "type": "choropleth"
           }
          ],
          "contour": [
           {
            "colorbar": {
             "outlinewidth": 0,
             "ticks": ""
            },
            "colorscale": [
             [
              0,
              "#0d0887"
             ],
             [
              0.1111111111111111,
              "#46039f"
             ],
             [
              0.2222222222222222,
              "#7201a8"
             ],
             [
              0.3333333333333333,
              "#9c179e"
             ],
             [
              0.4444444444444444,
              "#bd3786"
             ],
             [
              0.5555555555555556,
              "#d8576b"
             ],
             [
              0.6666666666666666,
              "#ed7953"
             ],
             [
              0.7777777777777778,
              "#fb9f3a"
             ],
             [
              0.8888888888888888,
              "#fdca26"
             ],
             [
              1,
              "#f0f921"
             ]
            ],
            "type": "contour"
           }
          ],
          "contourcarpet": [
           {
            "colorbar": {
             "outlinewidth": 0,
             "ticks": ""
            },
            "type": "contourcarpet"
           }
          ],
          "heatmap": [
           {
            "colorbar": {
             "outlinewidth": 0,
             "ticks": ""
            },
            "colorscale": [
             [
              0,
              "#0d0887"
             ],
             [
              0.1111111111111111,
              "#46039f"
             ],
             [
              0.2222222222222222,
              "#7201a8"
             ],
             [
              0.3333333333333333,
              "#9c179e"
             ],
             [
              0.4444444444444444,
              "#bd3786"
             ],
             [
              0.5555555555555556,
              "#d8576b"
             ],
             [
              0.6666666666666666,
              "#ed7953"
             ],
             [
              0.7777777777777778,
              "#fb9f3a"
             ],
             [
              0.8888888888888888,
              "#fdca26"
             ],
             [
              1,
              "#f0f921"
             ]
            ],
            "type": "heatmap"
           }
          ],
          "heatmapgl": [
           {
            "colorbar": {
             "outlinewidth": 0,
             "ticks": ""
            },
            "colorscale": [
             [
              0,
              "#0d0887"
             ],
             [
              0.1111111111111111,
              "#46039f"
             ],
             [
              0.2222222222222222,
              "#7201a8"
             ],
             [
              0.3333333333333333,
              "#9c179e"
             ],
             [
              0.4444444444444444,
              "#bd3786"
             ],
             [
              0.5555555555555556,
              "#d8576b"
             ],
             [
              0.6666666666666666,
              "#ed7953"
             ],
             [
              0.7777777777777778,
              "#fb9f3a"
             ],
             [
              0.8888888888888888,
              "#fdca26"
             ],
             [
              1,
              "#f0f921"
             ]
            ],
            "type": "heatmapgl"
           }
          ],
          "histogram": [
           {
            "marker": {
             "pattern": {
              "fillmode": "overlay",
              "size": 10,
              "solidity": 0.2
             }
            },
            "type": "histogram"
           }
          ],
          "histogram2d": [
           {
            "colorbar": {
             "outlinewidth": 0,
             "ticks": ""
            },
            "colorscale": [
             [
              0,
              "#0d0887"
             ],
             [
              0.1111111111111111,
              "#46039f"
             ],
             [
              0.2222222222222222,
              "#7201a8"
             ],
             [
              0.3333333333333333,
              "#9c179e"
             ],
             [
              0.4444444444444444,
              "#bd3786"
             ],
             [
              0.5555555555555556,
              "#d8576b"
             ],
             [
              0.6666666666666666,
              "#ed7953"
             ],
             [
              0.7777777777777778,
              "#fb9f3a"
             ],
             [
              0.8888888888888888,
              "#fdca26"
             ],
             [
              1,
              "#f0f921"
             ]
            ],
            "type": "histogram2d"
           }
          ],
          "histogram2dcontour": [
           {
            "colorbar": {
             "outlinewidth": 0,
             "ticks": ""
            },
            "colorscale": [
             [
              0,
              "#0d0887"
             ],
             [
              0.1111111111111111,
              "#46039f"
             ],
             [
              0.2222222222222222,
              "#7201a8"
             ],
             [
              0.3333333333333333,
              "#9c179e"
             ],
             [
              0.4444444444444444,
              "#bd3786"
             ],
             [
              0.5555555555555556,
              "#d8576b"
             ],
             [
              0.6666666666666666,
              "#ed7953"
             ],
             [
              0.7777777777777778,
              "#fb9f3a"
             ],
             [
              0.8888888888888888,
              "#fdca26"
             ],
             [
              1,
              "#f0f921"
             ]
            ],
            "type": "histogram2dcontour"
           }
          ],
          "mesh3d": [
           {
            "colorbar": {
             "outlinewidth": 0,
             "ticks": ""
            },
            "type": "mesh3d"
           }
          ],
          "parcoords": [
           {
            "line": {
             "colorbar": {
              "outlinewidth": 0,
              "ticks": ""
             }
            },
            "type": "parcoords"
           }
          ],
          "pie": [
           {
            "automargin": true,
            "type": "pie"
           }
          ],
          "scatter": [
           {
            "fillpattern": {
             "fillmode": "overlay",
             "size": 10,
             "solidity": 0.2
            },
            "type": "scatter"
           }
          ],
          "scatter3d": [
           {
            "line": {
             "colorbar": {
              "outlinewidth": 0,
              "ticks": ""
             }
            },
            "marker": {
             "colorbar": {
              "outlinewidth": 0,
              "ticks": ""
             }
            },
            "type": "scatter3d"
           }
          ],
          "scattercarpet": [
           {
            "marker": {
             "colorbar": {
              "outlinewidth": 0,
              "ticks": ""
             }
            },
            "type": "scattercarpet"
           }
          ],
          "scattergeo": [
           {
            "marker": {
             "colorbar": {
              "outlinewidth": 0,
              "ticks": ""
             }
            },
            "type": "scattergeo"
           }
          ],
          "scattergl": [
           {
            "marker": {
             "colorbar": {
              "outlinewidth": 0,
              "ticks": ""
             }
            },
            "type": "scattergl"
           }
          ],
          "scattermapbox": [
           {
            "marker": {
             "colorbar": {
              "outlinewidth": 0,
              "ticks": ""
             }
            },
            "type": "scattermapbox"
           }
          ],
          "scatterpolar": [
           {
            "marker": {
             "colorbar": {
              "outlinewidth": 0,
              "ticks": ""
             }
            },
            "type": "scatterpolar"
           }
          ],
          "scatterpolargl": [
           {
            "marker": {
             "colorbar": {
              "outlinewidth": 0,
              "ticks": ""
             }
            },
            "type": "scatterpolargl"
           }
          ],
          "scatterternary": [
           {
            "marker": {
             "colorbar": {
              "outlinewidth": 0,
              "ticks": ""
             }
            },
            "type": "scatterternary"
           }
          ],
          "surface": [
           {
            "colorbar": {
             "outlinewidth": 0,
             "ticks": ""
            },
            "colorscale": [
             [
              0,
              "#0d0887"
             ],
             [
              0.1111111111111111,
              "#46039f"
             ],
             [
              0.2222222222222222,
              "#7201a8"
             ],
             [
              0.3333333333333333,
              "#9c179e"
             ],
             [
              0.4444444444444444,
              "#bd3786"
             ],
             [
              0.5555555555555556,
              "#d8576b"
             ],
             [
              0.6666666666666666,
              "#ed7953"
             ],
             [
              0.7777777777777778,
              "#fb9f3a"
             ],
             [
              0.8888888888888888,
              "#fdca26"
             ],
             [
              1,
              "#f0f921"
             ]
            ],
            "type": "surface"
           }
          ],
          "table": [
           {
            "cells": {
             "fill": {
              "color": "#EBF0F8"
             },
             "line": {
              "color": "white"
             }
            },
            "header": {
             "fill": {
              "color": "#C8D4E3"
             },
             "line": {
              "color": "white"
             }
            },
            "type": "table"
           }
          ]
         },
         "layout": {
          "annotationdefaults": {
           "arrowcolor": "#2a3f5f",
           "arrowhead": 0,
           "arrowwidth": 1
          },
          "autotypenumbers": "strict",
          "coloraxis": {
           "colorbar": {
            "outlinewidth": 0,
            "ticks": ""
           }
          },
          "colorscale": {
           "diverging": [
            [
             0,
             "#8e0152"
            ],
            [
             0.1,
             "#c51b7d"
            ],
            [
             0.2,
             "#de77ae"
            ],
            [
             0.3,
             "#f1b6da"
            ],
            [
             0.4,
             "#fde0ef"
            ],
            [
             0.5,
             "#f7f7f7"
            ],
            [
             0.6,
             "#e6f5d0"
            ],
            [
             0.7,
             "#b8e186"
            ],
            [
             0.8,
             "#7fbc41"
            ],
            [
             0.9,
             "#4d9221"
            ],
            [
             1,
             "#276419"
            ]
           ],
           "sequential": [
            [
             0,
             "#0d0887"
            ],
            [
             0.1111111111111111,
             "#46039f"
            ],
            [
             0.2222222222222222,
             "#7201a8"
            ],
            [
             0.3333333333333333,
             "#9c179e"
            ],
            [
             0.4444444444444444,
             "#bd3786"
            ],
            [
             0.5555555555555556,
             "#d8576b"
            ],
            [
             0.6666666666666666,
             "#ed7953"
            ],
            [
             0.7777777777777778,
             "#fb9f3a"
            ],
            [
             0.8888888888888888,
             "#fdca26"
            ],
            [
             1,
             "#f0f921"
            ]
           ],
           "sequentialminus": [
            [
             0,
             "#0d0887"
            ],
            [
             0.1111111111111111,
             "#46039f"
            ],
            [
             0.2222222222222222,
             "#7201a8"
            ],
            [
             0.3333333333333333,
             "#9c179e"
            ],
            [
             0.4444444444444444,
             "#bd3786"
            ],
            [
             0.5555555555555556,
             "#d8576b"
            ],
            [
             0.6666666666666666,
             "#ed7953"
            ],
            [
             0.7777777777777778,
             "#fb9f3a"
            ],
            [
             0.8888888888888888,
             "#fdca26"
            ],
            [
             1,
             "#f0f921"
            ]
           ]
          },
          "colorway": [
           "#636efa",
           "#EF553B",
           "#00cc96",
           "#ab63fa",
           "#FFA15A",
           "#19d3f3",
           "#FF6692",
           "#B6E880",
           "#FF97FF",
           "#FECB52"
          ],
          "font": {
           "color": "#2a3f5f"
          },
          "geo": {
           "bgcolor": "white",
           "lakecolor": "white",
           "landcolor": "#E5ECF6",
           "showlakes": true,
           "showland": true,
           "subunitcolor": "white"
          },
          "hoverlabel": {
           "align": "left"
          },
          "hovermode": "closest",
          "mapbox": {
           "style": "light"
          },
          "paper_bgcolor": "white",
          "plot_bgcolor": "#E5ECF6",
          "polar": {
           "angularaxis": {
            "gridcolor": "white",
            "linecolor": "white",
            "ticks": ""
           },
           "bgcolor": "#E5ECF6",
           "radialaxis": {
            "gridcolor": "white",
            "linecolor": "white",
            "ticks": ""
           }
          },
          "scene": {
           "xaxis": {
            "backgroundcolor": "#E5ECF6",
            "gridcolor": "white",
            "gridwidth": 2,
            "linecolor": "white",
            "showbackground": true,
            "ticks": "",
            "zerolinecolor": "white"
           },
           "yaxis": {
            "backgroundcolor": "#E5ECF6",
            "gridcolor": "white",
            "gridwidth": 2,
            "linecolor": "white",
            "showbackground": true,
            "ticks": "",
            "zerolinecolor": "white"
           },
           "zaxis": {
            "backgroundcolor": "#E5ECF6",
            "gridcolor": "white",
            "gridwidth": 2,
            "linecolor": "white",
            "showbackground": true,
            "ticks": "",
            "zerolinecolor": "white"
           }
          },
          "shapedefaults": {
           "line": {
            "color": "#2a3f5f"
           }
          },
          "ternary": {
           "aaxis": {
            "gridcolor": "white",
            "linecolor": "white",
            "ticks": ""
           },
           "baxis": {
            "gridcolor": "white",
            "linecolor": "white",
            "ticks": ""
           },
           "bgcolor": "#E5ECF6",
           "caxis": {
            "gridcolor": "white",
            "linecolor": "white",
            "ticks": ""
           }
          },
          "title": {
           "x": 0.05
          },
          "xaxis": {
           "automargin": true,
           "gridcolor": "white",
           "linecolor": "white",
           "ticks": "",
           "title": {
            "standoff": 15
           },
           "zerolinecolor": "white",
           "zerolinewidth": 2
          },
          "yaxis": {
           "automargin": true,
           "gridcolor": "white",
           "linecolor": "white",
           "ticks": "",
           "title": {
            "standoff": 15
           },
           "zerolinecolor": "white",
           "zerolinewidth": 2
          }
         }
        },
        "width": 1200,
        "xaxis": {
         "anchor": "y",
         "constrain": "domain",
         "domain": [
          0,
          1
         ],
         "scaleanchor": "y"
        },
        "yaxis": {
         "anchor": "x",
         "autorange": "reversed",
         "constrain": "domain",
         "domain": [
          0,
          1
         ]
        }
       }
      }
     },
     "metadata": {},
     "output_type": "display_data"
    }
   ],
   "source": [
    "def cramers_v(confusion_matrix):\n",
    "    chi2, p, dof, expected = chi2_contingency(confusion_matrix)\n",
    "    n = confusion_matrix.sum().sum()\n",
    "    #print(n)\n",
    "    return np.sqrt(chi2 / (n * (min(confusion_matrix.shape) - 1)))\n",
    "\n",
    "# List of variables for the correlation\n",
    "variables = ['TIME_PERIOD', 'TIME_PERIOD_START', 'TIME_PERIOD_END', 'PRIMARY_TYPE', 'AGE', 'SEX', 'RACE', 'JUVENILE_I', 'DOMESTIC_I', 'GUNSHOT_INJURY_I', 'NUMBER_OF_VICTIMS']\n",
    "\n",
    "# Initialize an empty DataFrame to store Cramér's V values\n",
    "cramers_v_matrix = pd.DataFrame(index=variables, columns=variables)\n",
    "\n",
    "# Calculate pairwise Cramér's V for all variables\n",
    "for var1 in variables:\n",
    "    for var2 in variables:\n",
    "        if var1 == var2:\n",
    "            cramers_v_matrix.loc[var1, var2] = 1.0  # Cramér's V of a variable with itself is 1\n",
    "        else:\n",
    "            confusion_matrix = pd.crosstab(chicago_df[var1], chicago_df[var2])\n",
    "            cramers_v_matrix.loc[var1, var2] = cramers_v(confusion_matrix)\n",
    "            \n",
    "\n",
    "# Convert to numeric for the heatmap\n",
    "cramers_v_matrix = cramers_v_matrix.astype(float)\n",
    "cramers_v_matrix\n",
    "\n",
    "# Create a heatmap\n",
    "fig = px.imshow(cramers_v_matrix, text_auto=True,  width=1200, height=1200, color_continuous_scale='Viridis')\n",
    "fig.update_layout({\n",
    "    'plot_bgcolor': 'rgba(0, 0, 0, 0)',\n",
    "    'paper_bgcolor': 'rgba(0, 0, 0, 0)',\n",
    "    })\n",
    "fig.show()"
   ]
  },
  {
   "cell_type": "markdown",
   "metadata": {},
   "source": [
    "*write your answer here*"
   ]
  },
  {
   "cell_type": "markdown",
   "metadata": {},
   "source": [
    "## Problem 2) California Data\n",
    "\n",
    "The data from California is spread across multiple files. \n",
    "\n",
    "**Problem 2a** \n",
    "\n",
    "Load the table defining the columns in the data set.\n",
    "\n",
    "Take a moment to read the variables and their definitions."
   ]
  },
  {
   "cell_type": "code",
   "execution_count": 30,
   "metadata": {},
   "outputs": [
    {
     "data": {
      "text/html": [
       "<div>\n",
       "<style scoped>\n",
       "    .dataframe tbody tr th:only-of-type {\n",
       "        vertical-align: middle;\n",
       "    }\n",
       "\n",
       "    .dataframe tbody tr th {\n",
       "        vertical-align: top;\n",
       "    }\n",
       "\n",
       "    .dataframe thead th {\n",
       "        text-align: right;\n",
       "    }\n",
       "</style>\n",
       "<table border=\"1\" class=\"dataframe\">\n",
       "  <thead>\n",
       "    <tr style=\"text-align: right;\">\n",
       "      <th></th>\n",
       "      <th>Name</th>\n",
       "      <th>Definition</th>\n",
       "      <th>Type</th>\n",
       "      <th>Width/Format</th>\n",
       "      <th>Coding/Comments</th>\n",
       "    </tr>\n",
       "  </thead>\n",
       "  <tbody>\n",
       "    <tr>\n",
       "      <th>0</th>\n",
       "      <td>ind_id</td>\n",
       "      <td>Indicator ID</td>\n",
       "      <td>N</td>\n",
       "      <td>3</td>\n",
       "      <td>752</td>\n",
       "    </tr>\n",
       "    <tr>\n",
       "      <th>1</th>\n",
       "      <td>ind_definition</td>\n",
       "      <td>Definition of indicator in plain language</td>\n",
       "      <td>T</td>\n",
       "      <td>255</td>\n",
       "      <td>Free text</td>\n",
       "    </tr>\n",
       "    <tr>\n",
       "      <th>2</th>\n",
       "      <td>reportyear</td>\n",
       "      <td>Year(s) that the indicator was reported</td>\n",
       "      <td>N</td>\n",
       "      <td>4</td>\n",
       "      <td>2000, 2001, 2002, 2003, 2004, 2005, 2006, 2007...</td>\n",
       "    </tr>\n",
       "    <tr>\n",
       "      <th>3</th>\n",
       "      <td>race_eth_code</td>\n",
       "      <td>numeric code for a race/ethnicity group</td>\n",
       "      <td>N</td>\n",
       "      <td>1</td>\n",
       "      <td>9=Total</td>\n",
       "    </tr>\n",
       "    <tr>\n",
       "      <th>4</th>\n",
       "      <td>race_eth_name</td>\n",
       "      <td>Name of race/ethnic group</td>\n",
       "      <td>T</td>\n",
       "      <td>5</td>\n",
       "      <td>Total</td>\n",
       "    </tr>\n",
       "    <tr>\n",
       "      <th>5</th>\n",
       "      <td>geotype</td>\n",
       "      <td>Type of geographic unit</td>\n",
       "      <td>T</td>\n",
       "      <td>2</td>\n",
       "      <td>PL: Place (including city, town and census des...</td>\n",
       "    </tr>\n",
       "    <tr>\n",
       "      <th>6</th>\n",
       "      <td>geotypevalue</td>\n",
       "      <td>Value of geographic unit</td>\n",
       "      <td>N</td>\n",
       "      <td>5</td>\n",
       "      <td>5-digit FIPS place code, 5-digit FIPS county c...</td>\n",
       "    </tr>\n",
       "    <tr>\n",
       "      <th>7</th>\n",
       "      <td>geoname</td>\n",
       "      <td>Name of geographic unit</td>\n",
       "      <td>T</td>\n",
       "      <td>30</td>\n",
       "      <td>place name, county name, region name, state name</td>\n",
       "    </tr>\n",
       "    <tr>\n",
       "      <th>8</th>\n",
       "      <td>county_fips</td>\n",
       "      <td>Name of county that geotype is in</td>\n",
       "      <td>T</td>\n",
       "      <td>25</td>\n",
       "      <td>NA for geotype RE and CA</td>\n",
       "    </tr>\n",
       "    <tr>\n",
       "      <th>9</th>\n",
       "      <td>county_name</td>\n",
       "      <td>FIPS code of county that geotype is in</td>\n",
       "      <td>T</td>\n",
       "      <td>5</td>\n",
       "      <td>2-digit census state code (06) plus 3-digit ce...</td>\n",
       "    </tr>\n",
       "    <tr>\n",
       "      <th>10</th>\n",
       "      <td>region_code</td>\n",
       "      <td>MPO-based region name</td>\n",
       "      <td>T</td>\n",
       "      <td>30</td>\n",
       "      <td>See MPO_County List Tab</td>\n",
       "    </tr>\n",
       "    <tr>\n",
       "      <th>11</th>\n",
       "      <td>region_name</td>\n",
       "      <td>MPO-based region code</td>\n",
       "      <td>T</td>\n",
       "      <td>2</td>\n",
       "      <td>See MPO_County List Tab</td>\n",
       "    </tr>\n",
       "    <tr>\n",
       "      <th>12</th>\n",
       "      <td>strata_name_code</td>\n",
       "      <td>Code for the strata</td>\n",
       "      <td>N</td>\n",
       "      <td>2</td>\n",
       "      <td>1=Type of violent crime</td>\n",
       "    </tr>\n",
       "    <tr>\n",
       "      <th>13</th>\n",
       "      <td>strata_name</td>\n",
       "      <td>Name of the strata</td>\n",
       "      <td>T</td>\n",
       "      <td>25</td>\n",
       "      <td>Type of violent crime</td>\n",
       "    </tr>\n",
       "    <tr>\n",
       "      <th>14</th>\n",
       "      <td>strata_level_name_code</td>\n",
       "      <td>Code for the strata levels</td>\n",
       "      <td>N</td>\n",
       "      <td>2</td>\n",
       "      <td>1=Aggravated assault, 2=Forcible rape, 3=Murde...</td>\n",
       "    </tr>\n",
       "    <tr>\n",
       "      <th>15</th>\n",
       "      <td>strata_level_name</td>\n",
       "      <td>Nome of the strata levels</td>\n",
       "      <td>T</td>\n",
       "      <td>40</td>\n",
       "      <td>Aggravated assault, Forcible rape, Murder and ...</td>\n",
       "    </tr>\n",
       "    <tr>\n",
       "      <th>16</th>\n",
       "      <td>numerator</td>\n",
       "      <td>Number of crimes by type of crime</td>\n",
       "      <td>N</td>\n",
       "      <td>double prec.</td>\n",
       "      <td>NaN</td>\n",
       "    </tr>\n",
       "    <tr>\n",
       "      <th>17</th>\n",
       "      <td>denominator</td>\n",
       "      <td>Total population as reported by the Federal Bu...</td>\n",
       "      <td>N</td>\n",
       "      <td>double prec.</td>\n",
       "      <td>NaN</td>\n",
       "    </tr>\n",
       "    <tr>\n",
       "      <th>18</th>\n",
       "      <td>rate</td>\n",
       "      <td>Number of violent crimes per 1,000 population</td>\n",
       "      <td>N</td>\n",
       "      <td>double prec.</td>\n",
       "      <td>Calculated for the \"Violent crime total\" strat...</td>\n",
       "    </tr>\n",
       "    <tr>\n",
       "      <th>19</th>\n",
       "      <td>ll_95ci</td>\n",
       "      <td>Lower limit of 95% confidence interval</td>\n",
       "      <td>N</td>\n",
       "      <td>double prec.</td>\n",
       "      <td>Lower limit of 95% confidence interval.  The 9...</td>\n",
       "    </tr>\n",
       "    <tr>\n",
       "      <th>20</th>\n",
       "      <td>ul_95ci</td>\n",
       "      <td>Upper limit of 95% confidence interval</td>\n",
       "      <td>N</td>\n",
       "      <td>double prec.</td>\n",
       "      <td>Upper limit of 95% confidence interval.</td>\n",
       "    </tr>\n",
       "    <tr>\n",
       "      <th>21</th>\n",
       "      <td>se</td>\n",
       "      <td>Standard error of the rate</td>\n",
       "      <td>N</td>\n",
       "      <td>double prec.</td>\n",
       "      <td>The standard error (SE) of the mean is a measu...</td>\n",
       "    </tr>\n",
       "    <tr>\n",
       "      <th>22</th>\n",
       "      <td>rse</td>\n",
       "      <td>Relative standard error (se/percent * 100) exp...</td>\n",
       "      <td>N</td>\n",
       "      <td>double prec.</td>\n",
       "      <td>The relative standard error (RSE) provides the...</td>\n",
       "    </tr>\n",
       "    <tr>\n",
       "      <th>23</th>\n",
       "      <td>ca_decile</td>\n",
       "      <td>California decile</td>\n",
       "      <td>N</td>\n",
       "      <td>integer</td>\n",
       "      <td>'ca_decile' groups places into 10 groups (or d...</td>\n",
       "    </tr>\n",
       "    <tr>\n",
       "      <th>24</th>\n",
       "      <td>ca_rr</td>\n",
       "      <td>Rate ratio to California rate</td>\n",
       "      <td>N</td>\n",
       "      <td>double prec.</td>\n",
       "      <td>Ratio of local percentage to regional rate. Th...</td>\n",
       "    </tr>\n",
       "    <tr>\n",
       "      <th>25</th>\n",
       "      <td>dof_population</td>\n",
       "      <td>Total population from the California Departmen...</td>\n",
       "      <td>N</td>\n",
       "      <td>double prec.</td>\n",
       "      <td>Source: California Department of Finance, Demo...</td>\n",
       "    </tr>\n",
       "    <tr>\n",
       "      <th>26</th>\n",
       "      <td>version</td>\n",
       "      <td>Date/time stamp of version of data</td>\n",
       "      <td>D/T</td>\n",
       "      <td>mm/DD/CCYY hh:mm:ss</td>\n",
       "      <td>NaN</td>\n",
       "    </tr>\n",
       "  </tbody>\n",
       "</table>\n",
       "</div>"
      ],
      "text/plain": [
       "                     Name                                          Definition  \\\n",
       "0                   ind_id                                       Indicator ID   \n",
       "1           ind_definition          Definition of indicator in plain language   \n",
       "2               reportyear            Year(s) that the indicator was reported   \n",
       "3            race_eth_code            numeric code for a race/ethnicity group   \n",
       "4            race_eth_name                          Name of race/ethnic group   \n",
       "5                  geotype                            Type of geographic unit   \n",
       "6             geotypevalue                           Value of geographic unit   \n",
       "7                  geoname                            Name of geographic unit   \n",
       "8              county_fips                  Name of county that geotype is in   \n",
       "9              county_name             FIPS code of county that geotype is in   \n",
       "10             region_code                              MPO-based region name   \n",
       "11             region_name                              MPO-based region code   \n",
       "12        strata_name_code                                Code for the strata   \n",
       "13             strata_name                                 Name of the strata   \n",
       "14  strata_level_name_code                         Code for the strata levels   \n",
       "15       strata_level_name                          Nome of the strata levels   \n",
       "16               numerator                  Number of crimes by type of crime   \n",
       "17             denominator  Total population as reported by the Federal Bu...   \n",
       "18                    rate      Number of violent crimes per 1,000 population   \n",
       "19                 ll_95ci             Lower limit of 95% confidence interval   \n",
       "20                 ul_95ci             Upper limit of 95% confidence interval   \n",
       "21                      se                         Standard error of the rate   \n",
       "22                     rse  Relative standard error (se/percent * 100) exp...   \n",
       "23               ca_decile                                  California decile   \n",
       "24                   ca_rr                      Rate ratio to California rate   \n",
       "25          dof_population  Total population from the California Departmen...   \n",
       "26                 version                 Date/time stamp of version of data   \n",
       "\n",
       "   Type         Width/Format  \\\n",
       "0     N                    3   \n",
       "1     T                  255   \n",
       "2     N                    4   \n",
       "3     N                    1   \n",
       "4     T                    5   \n",
       "5     T                    2   \n",
       "6     N                    5   \n",
       "7     T                   30   \n",
       "8     T                   25   \n",
       "9     T                    5   \n",
       "10    T                   30   \n",
       "11    T                    2   \n",
       "12    N                    2   \n",
       "13    T                   25   \n",
       "14    N                    2   \n",
       "15    T                   40   \n",
       "16    N         double prec.   \n",
       "17    N         double prec.   \n",
       "18    N         double prec.   \n",
       "19    N         double prec.   \n",
       "20    N         double prec.   \n",
       "21    N         double prec.   \n",
       "22    N         double prec.   \n",
       "23    N              integer   \n",
       "24   N          double prec.   \n",
       "25   N          double prec.   \n",
       "26  D/T  mm/DD/CCYY hh:mm:ss   \n",
       "\n",
       "                                      Coding/Comments  \n",
       "0                                                 752  \n",
       "1                                           Free text  \n",
       "2   2000, 2001, 2002, 2003, 2004, 2005, 2006, 2007...  \n",
       "3                                             9=Total  \n",
       "4                                               Total  \n",
       "5   PL: Place (including city, town and census des...  \n",
       "6   5-digit FIPS place code, 5-digit FIPS county c...  \n",
       "7    place name, county name, region name, state name  \n",
       "8                            NA for geotype RE and CA  \n",
       "9   2-digit census state code (06) plus 3-digit ce...  \n",
       "10                            See MPO_County List Tab  \n",
       "11                            See MPO_County List Tab  \n",
       "12                            1=Type of violent crime  \n",
       "13                              Type of violent crime  \n",
       "14  1=Aggravated assault, 2=Forcible rape, 3=Murde...  \n",
       "15  Aggravated assault, Forcible rape, Murder and ...  \n",
       "16                                                NaN  \n",
       "17                                                NaN  \n",
       "18  Calculated for the \"Violent crime total\" strat...  \n",
       "19  Lower limit of 95% confidence interval.  The 9...  \n",
       "20          Upper limit of 95% confidence interval.    \n",
       "21  The standard error (SE) of the mean is a measu...  \n",
       "22  The relative standard error (RSE) provides the...  \n",
       "23  'ca_decile' groups places into 10 groups (or d...  \n",
       "24  Ratio of local percentage to regional rate. Th...  \n",
       "25  Source: California Department of Finance, Demo...  \n",
       "26                                                NaN  "
      ]
     },
     "execution_count": 30,
     "metadata": {},
     "output_type": "execute_result"
    }
   ],
   "source": [
    "dd_df = pd.read_csv(\"DataDictionary.csv\")\n",
    "dd_df"
   ]
  },
  {
   "cell_type": "markdown",
   "metadata": {},
   "source": [
    "**Problem 2b** \n",
    "\n",
    "Load the data on Violent Crime in California. "
   ]
  },
  {
   "cell_type": "code",
   "execution_count": 31,
   "metadata": {},
   "outputs": [
    {
     "data": {
      "text/html": [
       "<div>\n",
       "<style scoped>\n",
       "    .dataframe tbody tr th:only-of-type {\n",
       "        vertical-align: middle;\n",
       "    }\n",
       "\n",
       "    .dataframe tbody tr th {\n",
       "        vertical-align: top;\n",
       "    }\n",
       "\n",
       "    .dataframe thead th {\n",
       "        text-align: right;\n",
       "    }\n",
       "</style>\n",
       "<table border=\"1\" class=\"dataframe\">\n",
       "  <thead>\n",
       "    <tr style=\"text-align: right;\">\n",
       "      <th></th>\n",
       "      <th>ind_id</th>\n",
       "      <th>ind_definition</th>\n",
       "      <th>reportyear</th>\n",
       "      <th>race_eth_code</th>\n",
       "      <th>race_eth_name</th>\n",
       "      <th>geotype</th>\n",
       "      <th>geotypevalue</th>\n",
       "      <th>geoname</th>\n",
       "      <th>county_fips</th>\n",
       "      <th>county_name</th>\n",
       "      <th>...</th>\n",
       "      <th>denominator</th>\n",
       "      <th>rate</th>\n",
       "      <th>ll_95ci</th>\n",
       "      <th>ul_95ci</th>\n",
       "      <th>se</th>\n",
       "      <th>rse</th>\n",
       "      <th>ca_decile</th>\n",
       "      <th>ca_rr</th>\n",
       "      <th>dof_population</th>\n",
       "      <th>version</th>\n",
       "    </tr>\n",
       "  </thead>\n",
       "  <tbody>\n",
       "    <tr>\n",
       "      <th>0</th>\n",
       "      <td>752</td>\n",
       "      <td>Number of Violent Crimes per 1,000 Population</td>\n",
       "      <td>2000</td>\n",
       "      <td>9</td>\n",
       "      <td>Total</td>\n",
       "      <td>CA</td>\n",
       "      <td>6</td>\n",
       "      <td>California</td>\n",
       "      <td>NaN</td>\n",
       "      <td>NaN</td>\n",
       "      <td>...</td>\n",
       "      <td>33847694.0</td>\n",
       "      <td>NaN</td>\n",
       "      <td>NaN</td>\n",
       "      <td>NaN</td>\n",
       "      <td>NaN</td>\n",
       "      <td>NaN</td>\n",
       "      <td>NaN</td>\n",
       "      <td>NaN</td>\n",
       "      <td>33873086.0</td>\n",
       "      <td>10/21/15</td>\n",
       "    </tr>\n",
       "    <tr>\n",
       "      <th>1</th>\n",
       "      <td>752</td>\n",
       "      <td>Number of Violent Crimes per 1,000 Population</td>\n",
       "      <td>2000</td>\n",
       "      <td>9</td>\n",
       "      <td>Total</td>\n",
       "      <td>CA</td>\n",
       "      <td>6</td>\n",
       "      <td>California</td>\n",
       "      <td>NaN</td>\n",
       "      <td>NaN</td>\n",
       "      <td>...</td>\n",
       "      <td>33847694.0</td>\n",
       "      <td>NaN</td>\n",
       "      <td>NaN</td>\n",
       "      <td>NaN</td>\n",
       "      <td>NaN</td>\n",
       "      <td>NaN</td>\n",
       "      <td>NaN</td>\n",
       "      <td>NaN</td>\n",
       "      <td>33873086.0</td>\n",
       "      <td>10/21/15</td>\n",
       "    </tr>\n",
       "    <tr>\n",
       "      <th>2</th>\n",
       "      <td>752</td>\n",
       "      <td>Number of Violent Crimes per 1,000 Population</td>\n",
       "      <td>2000</td>\n",
       "      <td>9</td>\n",
       "      <td>Total</td>\n",
       "      <td>CA</td>\n",
       "      <td>6</td>\n",
       "      <td>California</td>\n",
       "      <td>NaN</td>\n",
       "      <td>NaN</td>\n",
       "      <td>...</td>\n",
       "      <td>33847694.0</td>\n",
       "      <td>NaN</td>\n",
       "      <td>NaN</td>\n",
       "      <td>NaN</td>\n",
       "      <td>NaN</td>\n",
       "      <td>NaN</td>\n",
       "      <td>NaN</td>\n",
       "      <td>NaN</td>\n",
       "      <td>33873086.0</td>\n",
       "      <td>10/21/15</td>\n",
       "    </tr>\n",
       "    <tr>\n",
       "      <th>3</th>\n",
       "      <td>752</td>\n",
       "      <td>Number of Violent Crimes per 1,000 Population</td>\n",
       "      <td>2000</td>\n",
       "      <td>9</td>\n",
       "      <td>Total</td>\n",
       "      <td>CA</td>\n",
       "      <td>6</td>\n",
       "      <td>California</td>\n",
       "      <td>NaN</td>\n",
       "      <td>NaN</td>\n",
       "      <td>...</td>\n",
       "      <td>33847694.0</td>\n",
       "      <td>NaN</td>\n",
       "      <td>NaN</td>\n",
       "      <td>NaN</td>\n",
       "      <td>NaN</td>\n",
       "      <td>NaN</td>\n",
       "      <td>NaN</td>\n",
       "      <td>NaN</td>\n",
       "      <td>33873086.0</td>\n",
       "      <td>10/21/15</td>\n",
       "    </tr>\n",
       "    <tr>\n",
       "      <th>4</th>\n",
       "      <td>752</td>\n",
       "      <td>Number of Violent Crimes per 1,000 Population</td>\n",
       "      <td>2000</td>\n",
       "      <td>9</td>\n",
       "      <td>Total</td>\n",
       "      <td>CA</td>\n",
       "      <td>6</td>\n",
       "      <td>California</td>\n",
       "      <td>NaN</td>\n",
       "      <td>NaN</td>\n",
       "      <td>...</td>\n",
       "      <td>33847694.0</td>\n",
       "      <td>6.217499</td>\n",
       "      <td>6.190935</td>\n",
       "      <td>6.244063</td>\n",
       "      <td>0.013553</td>\n",
       "      <td>0.217985</td>\n",
       "      <td>NaN</td>\n",
       "      <td>1.000000</td>\n",
       "      <td>33873086.0</td>\n",
       "      <td>10/21/15</td>\n",
       "    </tr>\n",
       "    <tr>\n",
       "      <th>...</th>\n",
       "      <td>...</td>\n",
       "      <td>...</td>\n",
       "      <td>...</td>\n",
       "      <td>...</td>\n",
       "      <td>...</td>\n",
       "      <td>...</td>\n",
       "      <td>...</td>\n",
       "      <td>...</td>\n",
       "      <td>...</td>\n",
       "      <td>...</td>\n",
       "      <td>...</td>\n",
       "      <td>...</td>\n",
       "      <td>...</td>\n",
       "      <td>...</td>\n",
       "      <td>...</td>\n",
       "      <td>...</td>\n",
       "      <td>...</td>\n",
       "      <td>...</td>\n",
       "      <td>...</td>\n",
       "      <td>...</td>\n",
       "      <td>...</td>\n",
       "    </tr>\n",
       "    <tr>\n",
       "      <th>49221</th>\n",
       "      <td>752</td>\n",
       "      <td>Number of Violent Crimes per 1,000 Population</td>\n",
       "      <td>2013</td>\n",
       "      <td>9</td>\n",
       "      <td>Total</td>\n",
       "      <td>RE</td>\n",
       "      <td>14</td>\n",
       "      <td>Southern California</td>\n",
       "      <td>NaN</td>\n",
       "      <td>NaN</td>\n",
       "      <td>...</td>\n",
       "      <td>18543759.0</td>\n",
       "      <td>NaN</td>\n",
       "      <td>NaN</td>\n",
       "      <td>NaN</td>\n",
       "      <td>NaN</td>\n",
       "      <td>NaN</td>\n",
       "      <td>NaN</td>\n",
       "      <td>NaN</td>\n",
       "      <td>18482091.0</td>\n",
       "      <td>10/21/15</td>\n",
       "    </tr>\n",
       "    <tr>\n",
       "      <th>49222</th>\n",
       "      <td>752</td>\n",
       "      <td>Number of Violent Crimes per 1,000 Population</td>\n",
       "      <td>2013</td>\n",
       "      <td>9</td>\n",
       "      <td>Total</td>\n",
       "      <td>RE</td>\n",
       "      <td>14</td>\n",
       "      <td>Southern California</td>\n",
       "      <td>NaN</td>\n",
       "      <td>NaN</td>\n",
       "      <td>...</td>\n",
       "      <td>18543759.0</td>\n",
       "      <td>NaN</td>\n",
       "      <td>NaN</td>\n",
       "      <td>NaN</td>\n",
       "      <td>NaN</td>\n",
       "      <td>NaN</td>\n",
       "      <td>NaN</td>\n",
       "      <td>NaN</td>\n",
       "      <td>18482091.0</td>\n",
       "      <td>10/21/15</td>\n",
       "    </tr>\n",
       "    <tr>\n",
       "      <th>49223</th>\n",
       "      <td>752</td>\n",
       "      <td>Number of Violent Crimes per 1,000 Population</td>\n",
       "      <td>2013</td>\n",
       "      <td>9</td>\n",
       "      <td>Total</td>\n",
       "      <td>RE</td>\n",
       "      <td>14</td>\n",
       "      <td>Southern California</td>\n",
       "      <td>NaN</td>\n",
       "      <td>NaN</td>\n",
       "      <td>...</td>\n",
       "      <td>18543759.0</td>\n",
       "      <td>NaN</td>\n",
       "      <td>NaN</td>\n",
       "      <td>NaN</td>\n",
       "      <td>NaN</td>\n",
       "      <td>NaN</td>\n",
       "      <td>NaN</td>\n",
       "      <td>NaN</td>\n",
       "      <td>18482091.0</td>\n",
       "      <td>10/21/15</td>\n",
       "    </tr>\n",
       "    <tr>\n",
       "      <th>49224</th>\n",
       "      <td>752</td>\n",
       "      <td>Number of Violent Crimes per 1,000 Population</td>\n",
       "      <td>2013</td>\n",
       "      <td>9</td>\n",
       "      <td>Total</td>\n",
       "      <td>RE</td>\n",
       "      <td>14</td>\n",
       "      <td>Southern California</td>\n",
       "      <td>NaN</td>\n",
       "      <td>NaN</td>\n",
       "      <td>...</td>\n",
       "      <td>18543759.0</td>\n",
       "      <td>NaN</td>\n",
       "      <td>NaN</td>\n",
       "      <td>NaN</td>\n",
       "      <td>NaN</td>\n",
       "      <td>NaN</td>\n",
       "      <td>NaN</td>\n",
       "      <td>NaN</td>\n",
       "      <td>18482091.0</td>\n",
       "      <td>10/21/15</td>\n",
       "    </tr>\n",
       "    <tr>\n",
       "      <th>49225</th>\n",
       "      <td>752</td>\n",
       "      <td>Number of Violent Crimes per 1,000 Population</td>\n",
       "      <td>2013</td>\n",
       "      <td>9</td>\n",
       "      <td>Total</td>\n",
       "      <td>RE</td>\n",
       "      <td>14</td>\n",
       "      <td>Southern California</td>\n",
       "      <td>NaN</td>\n",
       "      <td>NaN</td>\n",
       "      <td>...</td>\n",
       "      <td>18543759.0</td>\n",
       "      <td>3.408640</td>\n",
       "      <td>3.382067</td>\n",
       "      <td>3.435214</td>\n",
       "      <td>0.013558</td>\n",
       "      <td>0.397750</td>\n",
       "      <td>NaN</td>\n",
       "      <td>0.860977</td>\n",
       "      <td>18482091.0</td>\n",
       "      <td>10/21/15</td>\n",
       "    </tr>\n",
       "  </tbody>\n",
       "</table>\n",
       "<p>49226 rows × 27 columns</p>\n",
       "</div>"
      ],
      "text/plain": [
       "       ind_id                                 ind_definition  reportyear  \\\n",
       "0         752  Number of Violent Crimes per 1,000 Population        2000   \n",
       "1         752  Number of Violent Crimes per 1,000 Population        2000   \n",
       "2         752  Number of Violent Crimes per 1,000 Population        2000   \n",
       "3         752  Number of Violent Crimes per 1,000 Population        2000   \n",
       "4         752  Number of Violent Crimes per 1,000 Population        2000   \n",
       "...       ...                                            ...         ...   \n",
       "49221     752  Number of Violent Crimes per 1,000 Population        2013   \n",
       "49222     752  Number of Violent Crimes per 1,000 Population        2013   \n",
       "49223     752  Number of Violent Crimes per 1,000 Population        2013   \n",
       "49224     752  Number of Violent Crimes per 1,000 Population        2013   \n",
       "49225     752  Number of Violent Crimes per 1,000 Population        2013   \n",
       "\n",
       "       race_eth_code race_eth_name geotype  geotypevalue              geoname  \\\n",
       "0                  9         Total      CA             6           California   \n",
       "1                  9         Total      CA             6           California   \n",
       "2                  9         Total      CA             6           California   \n",
       "3                  9         Total      CA             6           California   \n",
       "4                  9         Total      CA             6           California   \n",
       "...              ...           ...     ...           ...                  ...   \n",
       "49221              9         Total      RE            14  Southern California   \n",
       "49222              9         Total      RE            14  Southern California   \n",
       "49223              9         Total      RE            14  Southern California   \n",
       "49224              9         Total      RE            14  Southern California   \n",
       "49225              9         Total      RE            14  Southern California   \n",
       "\n",
       "       county_fips county_name  ...  denominator      rate   ll_95ci  \\\n",
       "0              NaN         NaN  ...   33847694.0       NaN       NaN   \n",
       "1              NaN         NaN  ...   33847694.0       NaN       NaN   \n",
       "2              NaN         NaN  ...   33847694.0       NaN       NaN   \n",
       "3              NaN         NaN  ...   33847694.0       NaN       NaN   \n",
       "4              NaN         NaN  ...   33847694.0  6.217499  6.190935   \n",
       "...            ...         ...  ...          ...       ...       ...   \n",
       "49221          NaN         NaN  ...   18543759.0       NaN       NaN   \n",
       "49222          NaN         NaN  ...   18543759.0       NaN       NaN   \n",
       "49223          NaN         NaN  ...   18543759.0       NaN       NaN   \n",
       "49224          NaN         NaN  ...   18543759.0       NaN       NaN   \n",
       "49225          NaN         NaN  ...   18543759.0  3.408640  3.382067   \n",
       "\n",
       "        ul_95ci        se       rse  ca_decile     ca_rr  dof_population  \\\n",
       "0           NaN       NaN       NaN        NaN       NaN      33873086.0   \n",
       "1           NaN       NaN       NaN        NaN       NaN      33873086.0   \n",
       "2           NaN       NaN       NaN        NaN       NaN      33873086.0   \n",
       "3           NaN       NaN       NaN        NaN       NaN      33873086.0   \n",
       "4      6.244063  0.013553  0.217985        NaN  1.000000      33873086.0   \n",
       "...         ...       ...       ...        ...       ...             ...   \n",
       "49221       NaN       NaN       NaN        NaN       NaN      18482091.0   \n",
       "49222       NaN       NaN       NaN        NaN       NaN      18482091.0   \n",
       "49223       NaN       NaN       NaN        NaN       NaN      18482091.0   \n",
       "49224       NaN       NaN       NaN        NaN       NaN      18482091.0   \n",
       "49225  3.435214  0.013558  0.397750        NaN  0.860977      18482091.0   \n",
       "\n",
       "        version  \n",
       "0      10/21/15  \n",
       "1      10/21/15  \n",
       "2      10/21/15  \n",
       "3      10/21/15  \n",
       "4      10/21/15  \n",
       "...         ...  \n",
       "49221  10/21/15  \n",
       "49222  10/21/15  \n",
       "49223  10/21/15  \n",
       "49224  10/21/15  \n",
       "49225  10/21/15  \n",
       "\n",
       "[49226 rows x 27 columns]"
      ]
     },
     "execution_count": 31,
     "metadata": {},
     "output_type": "execute_result"
    }
   ],
   "source": [
    "vc_df = pd.read_csv(\"ViolentCrime.csv\")\n",
    "vc_df"
   ]
  },
  {
   "cell_type": "markdown",
   "metadata": {},
   "source": [
    "**Problem 2c**\n",
    "\n",
    "Load the county data. "
   ]
  },
  {
   "cell_type": "code",
   "execution_count": 32,
   "metadata": {},
   "outputs": [
    {
     "data": {
      "text/html": [
       "<div>\n",
       "<style scoped>\n",
       "    .dataframe tbody tr th:only-of-type {\n",
       "        vertical-align: middle;\n",
       "    }\n",
       "\n",
       "    .dataframe tbody tr th {\n",
       "        vertical-align: top;\n",
       "    }\n",
       "\n",
       "    .dataframe thead th {\n",
       "        text-align: right;\n",
       "    }\n",
       "</style>\n",
       "<table border=\"1\" class=\"dataframe\">\n",
       "  <thead>\n",
       "    <tr style=\"text-align: right;\">\n",
       "      <th></th>\n",
       "      <th>County_FIPS</th>\n",
       "      <th>County</th>\n",
       "      <th>MPO Region</th>\n",
       "      <th>MPO_Region_code</th>\n",
       "    </tr>\n",
       "  </thead>\n",
       "  <tbody>\n",
       "    <tr>\n",
       "      <th>0</th>\n",
       "      <td>6001</td>\n",
       "      <td>Alameda</td>\n",
       "      <td>Bay Area</td>\n",
       "      <td>1</td>\n",
       "    </tr>\n",
       "    <tr>\n",
       "      <th>1</th>\n",
       "      <td>6013</td>\n",
       "      <td>Contra Costa</td>\n",
       "      <td>Bay Area</td>\n",
       "      <td>1</td>\n",
       "    </tr>\n",
       "    <tr>\n",
       "      <th>2</th>\n",
       "      <td>6041</td>\n",
       "      <td>Marin</td>\n",
       "      <td>Bay Area</td>\n",
       "      <td>1</td>\n",
       "    </tr>\n",
       "    <tr>\n",
       "      <th>3</th>\n",
       "      <td>6055</td>\n",
       "      <td>Napa</td>\n",
       "      <td>Bay Area</td>\n",
       "      <td>1</td>\n",
       "    </tr>\n",
       "    <tr>\n",
       "      <th>4</th>\n",
       "      <td>6075</td>\n",
       "      <td>San Francisco</td>\n",
       "      <td>Bay Area</td>\n",
       "      <td>1</td>\n",
       "    </tr>\n",
       "    <tr>\n",
       "      <th>5</th>\n",
       "      <td>6081</td>\n",
       "      <td>San Mateo</td>\n",
       "      <td>Bay Area</td>\n",
       "      <td>1</td>\n",
       "    </tr>\n",
       "    <tr>\n",
       "      <th>6</th>\n",
       "      <td>6085</td>\n",
       "      <td>Santa Clara</td>\n",
       "      <td>Bay Area</td>\n",
       "      <td>1</td>\n",
       "    </tr>\n",
       "    <tr>\n",
       "      <th>7</th>\n",
       "      <td>6095</td>\n",
       "      <td>Solano</td>\n",
       "      <td>Bay Area</td>\n",
       "      <td>1</td>\n",
       "    </tr>\n",
       "    <tr>\n",
       "      <th>8</th>\n",
       "      <td>6097</td>\n",
       "      <td>Sonoma</td>\n",
       "      <td>Bay Area</td>\n",
       "      <td>1</td>\n",
       "    </tr>\n",
       "    <tr>\n",
       "      <th>9</th>\n",
       "      <td>6007</td>\n",
       "      <td>Butte</td>\n",
       "      <td>Butte</td>\n",
       "      <td>2</td>\n",
       "    </tr>\n",
       "    <tr>\n",
       "      <th>10</th>\n",
       "      <td>6003</td>\n",
       "      <td>Alpine</td>\n",
       "      <td>Central/Southeast Sierra</td>\n",
       "      <td>3</td>\n",
       "    </tr>\n",
       "    <tr>\n",
       "      <th>11</th>\n",
       "      <td>6005</td>\n",
       "      <td>Amador</td>\n",
       "      <td>Central/Southeast Sierra</td>\n",
       "      <td>3</td>\n",
       "    </tr>\n",
       "    <tr>\n",
       "      <th>12</th>\n",
       "      <td>6009</td>\n",
       "      <td>Calaveras</td>\n",
       "      <td>Central/Southeast Sierra</td>\n",
       "      <td>3</td>\n",
       "    </tr>\n",
       "    <tr>\n",
       "      <th>13</th>\n",
       "      <td>6027</td>\n",
       "      <td>Inyo</td>\n",
       "      <td>Central/Southeast Sierra</td>\n",
       "      <td>3</td>\n",
       "    </tr>\n",
       "    <tr>\n",
       "      <th>14</th>\n",
       "      <td>6043</td>\n",
       "      <td>Mariposa</td>\n",
       "      <td>Central/Southeast Sierra</td>\n",
       "      <td>3</td>\n",
       "    </tr>\n",
       "    <tr>\n",
       "      <th>15</th>\n",
       "      <td>6051</td>\n",
       "      <td>Mono</td>\n",
       "      <td>Central/Southeast Sierra</td>\n",
       "      <td>3</td>\n",
       "    </tr>\n",
       "    <tr>\n",
       "      <th>16</th>\n",
       "      <td>6109</td>\n",
       "      <td>Tuolomne</td>\n",
       "      <td>Central/Southeast Sierra</td>\n",
       "      <td>3</td>\n",
       "    </tr>\n",
       "    <tr>\n",
       "      <th>17</th>\n",
       "      <td>6053</td>\n",
       "      <td>Monterey</td>\n",
       "      <td>Monterey Bay</td>\n",
       "      <td>4</td>\n",
       "    </tr>\n",
       "    <tr>\n",
       "      <th>18</th>\n",
       "      <td>6069</td>\n",
       "      <td>San Benito</td>\n",
       "      <td>Monterey Bay</td>\n",
       "      <td>4</td>\n",
       "    </tr>\n",
       "    <tr>\n",
       "      <th>19</th>\n",
       "      <td>6087</td>\n",
       "      <td>Santa Cruz</td>\n",
       "      <td>Monterey Bay</td>\n",
       "      <td>4</td>\n",
       "    </tr>\n",
       "    <tr>\n",
       "      <th>20</th>\n",
       "      <td>6015</td>\n",
       "      <td>Del Norte</td>\n",
       "      <td>North Coast</td>\n",
       "      <td>5</td>\n",
       "    </tr>\n",
       "    <tr>\n",
       "      <th>21</th>\n",
       "      <td>6023</td>\n",
       "      <td>Humboldt</td>\n",
       "      <td>North Coast</td>\n",
       "      <td>5</td>\n",
       "    </tr>\n",
       "    <tr>\n",
       "      <th>22</th>\n",
       "      <td>6033</td>\n",
       "      <td>Lake</td>\n",
       "      <td>North Coast</td>\n",
       "      <td>5</td>\n",
       "    </tr>\n",
       "    <tr>\n",
       "      <th>23</th>\n",
       "      <td>6045</td>\n",
       "      <td>Mendocino</td>\n",
       "      <td>North Coast</td>\n",
       "      <td>5</td>\n",
       "    </tr>\n",
       "    <tr>\n",
       "      <th>24</th>\n",
       "      <td>6105</td>\n",
       "      <td>Trinity</td>\n",
       "      <td>North Coast</td>\n",
       "      <td>5</td>\n",
       "    </tr>\n",
       "    <tr>\n",
       "      <th>25</th>\n",
       "      <td>6035</td>\n",
       "      <td>Lassen</td>\n",
       "      <td>Northeast Sierra</td>\n",
       "      <td>6</td>\n",
       "    </tr>\n",
       "    <tr>\n",
       "      <th>26</th>\n",
       "      <td>6049</td>\n",
       "      <td>Modoc</td>\n",
       "      <td>Northeast Sierra</td>\n",
       "      <td>6</td>\n",
       "    </tr>\n",
       "    <tr>\n",
       "      <th>27</th>\n",
       "      <td>6057</td>\n",
       "      <td>Nevada</td>\n",
       "      <td>Northeast Sierra</td>\n",
       "      <td>6</td>\n",
       "    </tr>\n",
       "    <tr>\n",
       "      <th>28</th>\n",
       "      <td>6063</td>\n",
       "      <td>Plumas</td>\n",
       "      <td>Northeast Sierra</td>\n",
       "      <td>6</td>\n",
       "    </tr>\n",
       "    <tr>\n",
       "      <th>29</th>\n",
       "      <td>6091</td>\n",
       "      <td>Sierra</td>\n",
       "      <td>Northeast Sierra</td>\n",
       "      <td>6</td>\n",
       "    </tr>\n",
       "    <tr>\n",
       "      <th>30</th>\n",
       "      <td>6093</td>\n",
       "      <td>Siskiyou</td>\n",
       "      <td>Northeast Sierra</td>\n",
       "      <td>6</td>\n",
       "    </tr>\n",
       "    <tr>\n",
       "      <th>31</th>\n",
       "      <td>6011</td>\n",
       "      <td>Colusa</td>\n",
       "      <td>Northern Sacramento Valley</td>\n",
       "      <td>7</td>\n",
       "    </tr>\n",
       "    <tr>\n",
       "      <th>32</th>\n",
       "      <td>6021</td>\n",
       "      <td>Glenn</td>\n",
       "      <td>Northern Sacramento Valley</td>\n",
       "      <td>7</td>\n",
       "    </tr>\n",
       "    <tr>\n",
       "      <th>33</th>\n",
       "      <td>6103</td>\n",
       "      <td>Tehama</td>\n",
       "      <td>Northern Sacramento Valley</td>\n",
       "      <td>7</td>\n",
       "    </tr>\n",
       "    <tr>\n",
       "      <th>34</th>\n",
       "      <td>6017</td>\n",
       "      <td>El Dorado</td>\n",
       "      <td>Sacramento Area</td>\n",
       "      <td>8</td>\n",
       "    </tr>\n",
       "    <tr>\n",
       "      <th>35</th>\n",
       "      <td>6061</td>\n",
       "      <td>Placer</td>\n",
       "      <td>Sacramento Area</td>\n",
       "      <td>8</td>\n",
       "    </tr>\n",
       "    <tr>\n",
       "      <th>36</th>\n",
       "      <td>6067</td>\n",
       "      <td>Sacramento</td>\n",
       "      <td>Sacramento Area</td>\n",
       "      <td>8</td>\n",
       "    </tr>\n",
       "    <tr>\n",
       "      <th>37</th>\n",
       "      <td>6101</td>\n",
       "      <td>Sutter</td>\n",
       "      <td>Sacramento Area</td>\n",
       "      <td>8</td>\n",
       "    </tr>\n",
       "    <tr>\n",
       "      <th>38</th>\n",
       "      <td>6113</td>\n",
       "      <td>Yolo</td>\n",
       "      <td>Sacramento Area</td>\n",
       "      <td>8</td>\n",
       "    </tr>\n",
       "    <tr>\n",
       "      <th>39</th>\n",
       "      <td>6115</td>\n",
       "      <td>Yuba</td>\n",
       "      <td>Sacramento Area</td>\n",
       "      <td>8</td>\n",
       "    </tr>\n",
       "    <tr>\n",
       "      <th>40</th>\n",
       "      <td>6073</td>\n",
       "      <td>San Diego</td>\n",
       "      <td>San Diego</td>\n",
       "      <td>9</td>\n",
       "    </tr>\n",
       "    <tr>\n",
       "      <th>41</th>\n",
       "      <td>6019</td>\n",
       "      <td>Fresno</td>\n",
       "      <td>San Joaquin Valley</td>\n",
       "      <td>10</td>\n",
       "    </tr>\n",
       "    <tr>\n",
       "      <th>42</th>\n",
       "      <td>6029</td>\n",
       "      <td>Kern</td>\n",
       "      <td>San Joaquin Valley</td>\n",
       "      <td>10</td>\n",
       "    </tr>\n",
       "    <tr>\n",
       "      <th>43</th>\n",
       "      <td>6031</td>\n",
       "      <td>Kings</td>\n",
       "      <td>San Joaquin Valley</td>\n",
       "      <td>10</td>\n",
       "    </tr>\n",
       "    <tr>\n",
       "      <th>44</th>\n",
       "      <td>6039</td>\n",
       "      <td>Madera</td>\n",
       "      <td>San Joaquin Valley</td>\n",
       "      <td>10</td>\n",
       "    </tr>\n",
       "    <tr>\n",
       "      <th>45</th>\n",
       "      <td>6047</td>\n",
       "      <td>Merced</td>\n",
       "      <td>San Joaquin Valley</td>\n",
       "      <td>10</td>\n",
       "    </tr>\n",
       "    <tr>\n",
       "      <th>46</th>\n",
       "      <td>6077</td>\n",
       "      <td>San Joaquin</td>\n",
       "      <td>San Joaquin Valley</td>\n",
       "      <td>10</td>\n",
       "    </tr>\n",
       "    <tr>\n",
       "      <th>47</th>\n",
       "      <td>6099</td>\n",
       "      <td>Stanislaus</td>\n",
       "      <td>San Joaquin Valley</td>\n",
       "      <td>10</td>\n",
       "    </tr>\n",
       "    <tr>\n",
       "      <th>48</th>\n",
       "      <td>6107</td>\n",
       "      <td>Tulare</td>\n",
       "      <td>San Joaquin Valley</td>\n",
       "      <td>10</td>\n",
       "    </tr>\n",
       "    <tr>\n",
       "      <th>49</th>\n",
       "      <td>6079</td>\n",
       "      <td>San Luis Obispo</td>\n",
       "      <td>San Luis Obispo</td>\n",
       "      <td>11</td>\n",
       "    </tr>\n",
       "    <tr>\n",
       "      <th>50</th>\n",
       "      <td>6083</td>\n",
       "      <td>Santa Barbara</td>\n",
       "      <td>Santa Barbara</td>\n",
       "      <td>12</td>\n",
       "    </tr>\n",
       "    <tr>\n",
       "      <th>51</th>\n",
       "      <td>6089</td>\n",
       "      <td>Shasta</td>\n",
       "      <td>Shasta</td>\n",
       "      <td>13</td>\n",
       "    </tr>\n",
       "    <tr>\n",
       "      <th>52</th>\n",
       "      <td>6025</td>\n",
       "      <td>Imperial</td>\n",
       "      <td>Southern California</td>\n",
       "      <td>14</td>\n",
       "    </tr>\n",
       "    <tr>\n",
       "      <th>53</th>\n",
       "      <td>6037</td>\n",
       "      <td>Los Angeles</td>\n",
       "      <td>Southern California</td>\n",
       "      <td>14</td>\n",
       "    </tr>\n",
       "    <tr>\n",
       "      <th>54</th>\n",
       "      <td>6059</td>\n",
       "      <td>Orange</td>\n",
       "      <td>Southern California</td>\n",
       "      <td>14</td>\n",
       "    </tr>\n",
       "    <tr>\n",
       "      <th>55</th>\n",
       "      <td>6065</td>\n",
       "      <td>Riverside</td>\n",
       "      <td>Southern California</td>\n",
       "      <td>14</td>\n",
       "    </tr>\n",
       "    <tr>\n",
       "      <th>56</th>\n",
       "      <td>6071</td>\n",
       "      <td>San Bernardino</td>\n",
       "      <td>Southern California</td>\n",
       "      <td>14</td>\n",
       "    </tr>\n",
       "    <tr>\n",
       "      <th>57</th>\n",
       "      <td>6111</td>\n",
       "      <td>Ventura</td>\n",
       "      <td>Southern California</td>\n",
       "      <td>14</td>\n",
       "    </tr>\n",
       "  </tbody>\n",
       "</table>\n",
       "</div>"
      ],
      "text/plain": [
       "    County_FIPS           County                  MPO Region  MPO_Region_code\n",
       "0          6001          Alameda                    Bay Area                1\n",
       "1          6013     Contra Costa                    Bay Area                1\n",
       "2          6041            Marin                    Bay Area                1\n",
       "3          6055             Napa                    Bay Area                1\n",
       "4          6075    San Francisco                    Bay Area                1\n",
       "5          6081        San Mateo                    Bay Area                1\n",
       "6          6085      Santa Clara                    Bay Area                1\n",
       "7          6095           Solano                    Bay Area                1\n",
       "8          6097           Sonoma                    Bay Area                1\n",
       "9          6007            Butte                       Butte                2\n",
       "10         6003           Alpine    Central/Southeast Sierra                3\n",
       "11         6005           Amador    Central/Southeast Sierra                3\n",
       "12         6009        Calaveras    Central/Southeast Sierra                3\n",
       "13         6027             Inyo    Central/Southeast Sierra                3\n",
       "14         6043         Mariposa    Central/Southeast Sierra                3\n",
       "15         6051             Mono    Central/Southeast Sierra                3\n",
       "16         6109         Tuolomne    Central/Southeast Sierra                3\n",
       "17         6053         Monterey                Monterey Bay                4\n",
       "18         6069       San Benito                Monterey Bay                4\n",
       "19         6087       Santa Cruz                Monterey Bay                4\n",
       "20         6015        Del Norte                 North Coast                5\n",
       "21         6023         Humboldt                 North Coast                5\n",
       "22         6033             Lake                 North Coast                5\n",
       "23         6045        Mendocino                 North Coast                5\n",
       "24         6105          Trinity                 North Coast                5\n",
       "25         6035           Lassen            Northeast Sierra                6\n",
       "26         6049            Modoc            Northeast Sierra                6\n",
       "27         6057           Nevada            Northeast Sierra                6\n",
       "28         6063           Plumas            Northeast Sierra                6\n",
       "29         6091           Sierra            Northeast Sierra                6\n",
       "30         6093         Siskiyou            Northeast Sierra                6\n",
       "31         6011           Colusa  Northern Sacramento Valley                7\n",
       "32         6021            Glenn  Northern Sacramento Valley                7\n",
       "33         6103           Tehama  Northern Sacramento Valley                7\n",
       "34         6017        El Dorado             Sacramento Area                8\n",
       "35         6061           Placer             Sacramento Area                8\n",
       "36         6067       Sacramento             Sacramento Area                8\n",
       "37         6101           Sutter             Sacramento Area                8\n",
       "38         6113             Yolo             Sacramento Area                8\n",
       "39         6115             Yuba             Sacramento Area                8\n",
       "40         6073        San Diego                   San Diego                9\n",
       "41         6019           Fresno          San Joaquin Valley               10\n",
       "42         6029             Kern          San Joaquin Valley               10\n",
       "43         6031            Kings          San Joaquin Valley               10\n",
       "44         6039           Madera          San Joaquin Valley               10\n",
       "45         6047           Merced          San Joaquin Valley               10\n",
       "46         6077      San Joaquin          San Joaquin Valley               10\n",
       "47         6099       Stanislaus          San Joaquin Valley               10\n",
       "48         6107           Tulare          San Joaquin Valley               10\n",
       "49         6079  San Luis Obispo             San Luis Obispo               11\n",
       "50         6083    Santa Barbara               Santa Barbara               12\n",
       "51         6089           Shasta                      Shasta               13\n",
       "52         6025         Imperial         Southern California               14\n",
       "53         6037      Los Angeles         Southern California               14\n",
       "54         6059           Orange         Southern California               14\n",
       "55         6065        Riverside         Southern California               14\n",
       "56         6071   San Bernardino         Southern California               14\n",
       "57         6111          Ventura         Southern California               14"
      ]
     },
     "execution_count": 32,
     "metadata": {},
     "output_type": "execute_result"
    }
   ],
   "source": [
    "cl_df = pd.read_csv('MPO_CountyList.csv',skiprows=1)\n",
    "cl_df"
   ]
  },
  {
   "cell_type": "markdown",
   "metadata": {},
   "source": [
    "**Problem 2d**\n",
    "\n",
    "Using the available data identify any trends or correlations present within the data. \n",
    "\n",
    "Do you identify any particularly strong correlations? "
   ]
  },
  {
   "cell_type": "code",
   "execution_count": null,
   "metadata": {},
   "outputs": [],
   "source": [
    "# complete\n",
    "# complete\n",
    "# complete\n",
    "# complete\n",
    "# complete\n",
    "# complete\n",
    "# complete"
   ]
  },
  {
   "cell_type": "markdown",
   "metadata": {},
   "source": [
    "## Problem 3\n",
    "\n",
    "Now that you have completed your analysis of Problems 1 and 2, please read the summary questions in the doc: [BoydDatasheet.rtf](./BoydDatasheet.rtf). \n",
    "\n",
    "After reading any (or all) of the questions in that doc, consider whether you would like to re-do any of the analysis that you have completed in this notebook. If you do adjust your analysis, please use the cells below associated with Problem 3 so that your initial analysis remains \"clean\".\n",
    "\n",
    "\n",
    "\n",
    "*Note* – If you would like to do some additional reading, the full article by Karen Boyd provides the inspiration for the questions: [Datasheets for Datasets Help ML Engineers Notice and\n",
    "Understand Ethical Issues in Training Data](http://karenboyd.org/Datasheets_Help_CSCW.pdf)"
   ]
  },
  {
   "cell_type": "code",
   "execution_count": null,
   "metadata": {},
   "outputs": [],
   "source": [
    "# complete\n",
    "# complete\n",
    "# complete\n",
    "# complete\n",
    "# complete\n",
    "# complete\n",
    "# complete"
   ]
  },
  {
   "cell_type": "code",
   "execution_count": null,
   "metadata": {},
   "outputs": [],
   "source": [
    "# complete\n",
    "# complete\n",
    "# complete\n",
    "# complete\n",
    "# complete\n",
    "# complete\n",
    "# complete"
   ]
  },
  {
   "cell_type": "code",
   "execution_count": null,
   "metadata": {},
   "outputs": [],
   "source": [
    "# complete\n",
    "# complete\n",
    "# complete\n",
    "# complete\n",
    "# complete\n",
    "# complete\n",
    "# complete"
   ]
  },
  {
   "cell_type": "code",
   "execution_count": null,
   "metadata": {},
   "outputs": [],
   "source": [
    "# complete\n",
    "# complete\n",
    "# complete\n",
    "# complete\n",
    "# complete\n",
    "# complete\n",
    "# complete"
   ]
  },
  {
   "cell_type": "markdown",
   "metadata": {},
   "source": [
    "## Challenge Problem\n",
    "\n",
    "Run the first cell below to load data on the efficiency of electric vehicles. \n",
    "\n",
    "What EV is the most efficient? (This is not meant to be a difficult question, it is possible to answer this very quickly)\n",
    "\n",
    "BUT! \n",
    "\n",
    "Using what you have learned throughout this notebook, consider again the question of which EV is most efficient? What do you find? "
   ]
  },
  {
   "cell_type": "code",
   "execution_count": null,
   "metadata": {},
   "outputs": [],
   "source": [
    "# complete\n",
    "# complete\n",
    "# complete\n",
    "# complete\n",
    "# complete\n",
    "# complete\n",
    "# complete"
   ]
  }
 ],
 "metadata": {
  "kernelspec": {
   "display_name": "base",
   "language": "python",
   "name": "python3"
  },
  "language_info": {
   "codemirror_mode": {
    "name": "ipython",
    "version": 3
   },
   "file_extension": ".py",
   "mimetype": "text/x-python",
   "name": "python",
   "nbconvert_exporter": "python",
   "pygments_lexer": "ipython3",
   "version": "3.9.16"
  }
 },
 "nbformat": 4,
 "nbformat_minor": 4
}
