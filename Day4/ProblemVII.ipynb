{
 "cells": [
  {
   "cell_type": "markdown",
   "metadata": {},
   "source": [
    "# Problem VII: Analyzing Policing Data from Chicago and California\n",
    "\n",
    "**Version 0.1**\n",
    "\n",
    "In this notebook you are asked to identify correlations in a data set that includes information about crimes that have been collected both in the city of Chicago and in California. You will find correlations between different variables and be asked to supply interpretations for the correlations that have been identified. \n",
    "\n",
    "* * *\n",
    "\n",
    "By Tiffany Nichols (Northeastern University)  \n",
    "24 October 2024"
   ]
  },
  {
   "cell_type": "code",
   "execution_count": null,
   "metadata": {},
   "outputs": [],
   "source": [
    "import numpy as np\n",
    "import pandas as pd\n",
    "import matplotlib.pyplot as plt\n",
    "\n",
    "%matplotlib ipympl\n",
    "# %matplotlib inline\n",
    "# %matplotlib notebook"
   ]
  },
  {
   "cell_type": "markdown",
   "metadata": {},
   "source": [
    "## Problem 1) Chicago PD Data\n",
    "\n",
    "**Problem 1a** \n",
    "\n",
    "Load the data from Chicago. What columns (i.e., variables) are present within the data? "
   ]
  },
  {
   "cell_type": "code",
   "execution_count": null,
   "metadata": {},
   "outputs": [],
   "source": [
    "chicago_df = pd.read_csv(\"ChicagoPolicingData.csv\")\n",
    "chicago_df"
   ]
  },
  {
   "cell_type": "code",
   "execution_count": null,
   "metadata": {},
   "outputs": [],
   "source": [
    "chicago_df.columns"
   ]
  },
  {
   "cell_type": "markdown",
   "metadata": {},
   "source": [
    "*write your response here*\n",
    "\n",
    "The variables in this data set are #complete"
   ]
  },
  {
   "cell_type": "markdown",
   "metadata": {},
   "source": [
    "**Problem 1b**\n",
    "\n",
    "Prior to any numerical analysis which variable do you expect to be most strongly correlated with `PRIMARY TYPE` (the charge at the time of arrest)?"
   ]
  },
  {
   "cell_type": "markdown",
   "metadata": {},
   "source": [
    "*write your answer here*"
   ]
  },
  {
   "cell_type": "markdown",
   "metadata": {},
   "source": [
    "**Problem 1c**\n",
    "\n",
    "Using the available data identify any trends or correlations present within the data. \n",
    "\n",
    "Do you identify any particularly strong correlations? "
   ]
  },
  {
   "cell_type": "code",
   "execution_count": null,
   "metadata": {},
   "outputs": [],
   "source": [
    "# complete\n",
    "# complete\n",
    "# complete\n",
    "# complete\n",
    "# complete\n",
    "# complete\n",
    "# complete"
   ]
  },
  {
   "cell_type": "markdown",
   "metadata": {},
   "source": [
    "*write your answer here*"
   ]
  },
  {
   "cell_type": "markdown",
   "metadata": {},
   "source": [
    "## Problem 2) California Data\n",
    "\n",
    "The data from California is spread across multiple files. \n",
    "\n",
    "**Problem 2a** \n",
    "\n",
    "Load the table defining the columns in the data set.\n",
    "\n",
    "Take a moment to read the variables and their definitions."
   ]
  },
  {
   "cell_type": "code",
   "execution_count": null,
   "metadata": {},
   "outputs": [],
   "source": [
    "dd_df = pd.read_csv(\"DataDictionary.csv\")\n",
    "dd_df"
   ]
  },
  {
   "cell_type": "markdown",
   "metadata": {},
   "source": [
    "**Problem 2b** \n",
    "\n",
    "Load the data on Violent Crime in California. "
   ]
  },
  {
   "cell_type": "code",
   "execution_count": null,
   "metadata": {},
   "outputs": [],
   "source": [
    "vc_df = pd.read_csv(\"ViolentCrime.csv\")\n",
    "vc_df"
   ]
  },
  {
   "cell_type": "markdown",
   "metadata": {},
   "source": [
    "**Problem 2c**\n",
    "\n",
    "Load the county data. "
   ]
  },
  {
   "cell_type": "code",
   "execution_count": null,
   "metadata": {},
   "outputs": [],
   "source": [
    "cl_df = pd.read_csv('MPO_CountyList.csv',skiprows=1)\n",
    "cl_df"
   ]
  },
  {
   "cell_type": "markdown",
   "metadata": {},
   "source": [
    "**Problem 2d**\n",
    "\n",
    "Using the available data identify any trends or correlations present within the data. \n",
    "\n",
    "Do you identify any particularly strong correlations? "
   ]
  },
  {
   "cell_type": "code",
   "execution_count": null,
   "metadata": {},
   "outputs": [],
   "source": [
    "# complete\n",
    "# complete\n",
    "# complete\n",
    "# complete\n",
    "# complete\n",
    "# complete\n",
    "# complete"
   ]
  },
  {
   "cell_type": "markdown",
   "metadata": {},
   "source": [
    "## Problem 3\n",
    "\n",
    "Now that you have completed your analysis of Problems 1 and 2, please read the summary questions in the doc: [BoydDatasheet.rtf](./BoydDatasheet.rtf). \n",
    "\n",
    "After reading any (or all) of the questions in that doc, consider whether you would like to re-do any of the analysis that you have completed in this notebook. If you do adjust your analysis, please use the cells below associated with Problem 3 so that your initial analysis remains \"clean\".\n",
    "\n",
    "\n",
    "\n",
    "*Note* – If you would like to do some additional reading, the full article by Karen Boyd provides the inspiration for the questions: [Datasheets for Datasets Help ML Engineers Notice and\n",
    "Understand Ethical Issues in Training Data](http://karenboyd.org/Datasheets_Help_CSCW.pdf)"
   ]
  },
  {
   "cell_type": "code",
   "execution_count": null,
   "metadata": {},
   "outputs": [],
   "source": [
    "# complete\n",
    "# complete\n",
    "# complete\n",
    "# complete\n",
    "# complete\n",
    "# complete\n",
    "# complete"
   ]
  },
  {
   "cell_type": "code",
   "execution_count": null,
   "metadata": {},
   "outputs": [],
   "source": [
    "# complete\n",
    "# complete\n",
    "# complete\n",
    "# complete\n",
    "# complete\n",
    "# complete\n",
    "# complete"
   ]
  },
  {
   "cell_type": "code",
   "execution_count": null,
   "metadata": {},
   "outputs": [],
   "source": [
    "# complete\n",
    "# complete\n",
    "# complete\n",
    "# complete\n",
    "# complete\n",
    "# complete\n",
    "# complete"
   ]
  },
  {
   "cell_type": "code",
   "execution_count": null,
   "metadata": {},
   "outputs": [],
   "source": [
    "# complete\n",
    "# complete\n",
    "# complete\n",
    "# complete\n",
    "# complete\n",
    "# complete\n",
    "# complete"
   ]
  },
  {
   "cell_type": "markdown",
   "metadata": {},
   "source": [
    "## Challenge Problem\n",
    "\n",
    "Run the first cell below to load data on the efficiency of electric vehicles. \n",
    "\n",
    "What EV is the most efficient? (This is not meant to be a difficult question, it is possible to answer this very quickly)\n",
    "\n",
    "BUT! \n",
    "\n",
    "Using what you have learned throughout this notebook, consider again the question of which EV is most efficient? What do you find? "
   ]
  },
  {
   "cell_type": "code",
   "execution_count": null,
   "metadata": {},
   "outputs": [],
   "source": [
    "# complete\n",
    "# complete\n",
    "# complete\n",
    "# complete\n",
    "# complete\n",
    "# complete\n",
    "# complete"
   ]
  }
 ],
 "metadata": {
  "kernelspec": {
   "display_name": "Python 3 (ipykernel)",
   "language": "python",
   "name": "python3"
  },
  "language_info": {
   "codemirror_mode": {
    "name": "ipython",
    "version": 3
   },
   "file_extension": ".py",
   "mimetype": "text/x-python",
   "name": "python",
   "nbconvert_exporter": "python",
   "pygments_lexer": "ipython3",
   "version": "3.11.4"
  }
 },
 "nbformat": 4,
 "nbformat_minor": 4
}
