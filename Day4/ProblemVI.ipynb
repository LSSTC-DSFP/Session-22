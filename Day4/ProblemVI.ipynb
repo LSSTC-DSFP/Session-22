{
 "cells": [
  {
   "cell_type": "markdown",
   "metadata": {},
   "source": [
    "# Problem VI: Analyzing Fouls in Soccer Data\n",
    "\n",
    "**Version 0.1**\n",
    "\n",
    "In this notebook you are asked to identify correlations in a data set that includes information about soccer (football) players and the number of times they are penalized (yellow cards and red cards) in the course of play. You will find correlations between different variables and be asked to supply interpretations for the correlations that have been identified. \n",
    "\n",
    "* * *\n",
    "\n",
    "By Tiffany Nichols (Northeastern University)  \n",
    "24 October 2024"
   ]
  },
  {
   "cell_type": "code",
   "execution_count": null,
   "metadata": {},
   "outputs": [],
   "source": [
    "import numpy as np\n",
    "import pandas as pd\n",
    "import matplotlib.pyplot as plt\n",
    "\n",
    "%matplotlib ipympl\n",
    "# %matplotlib inline\n",
    "# %matplotlib notebook"
   ]
  },
  {
   "cell_type": "markdown",
   "metadata": {},
   "source": [
    "## Problem 1) Red Card Data\n",
    "\n",
    "**Problem 1a** \n",
    "\n",
    "Load the red card data. What columns (i.e., variables) are present within the data? "
   ]
  },
  {
   "cell_type": "code",
   "execution_count": null,
   "metadata": {},
   "outputs": [],
   "source": [
    "redcard_df = pd.read_csv(\"RedCards.csv\")\n",
    "redcard_df.dropna(axis=1, inplace=True) # remove empty unused columns\n",
    "redcard_df"
   ]
  },
  {
   "cell_type": "markdown",
   "metadata": {},
   "source": [
    "*write your response here*\n",
    "\n",
    "The variables in this data set are #complete"
   ]
  },
  {
   "cell_type": "markdown",
   "metadata": {},
   "source": [
    "**Problem 1b**\n",
    "\n",
    "Prior to any numerical analysis which variable do you expect to be most strongly correlated with the number of red cards given to a player? "
   ]
  },
  {
   "cell_type": "markdown",
   "metadata": {},
   "source": [
    "*write your answer here*"
   ]
  },
  {
   "cell_type": "markdown",
   "metadata": {},
   "source": [
    "**Problem 1c**\n",
    "\n",
    "Using the available data identify any trends or correlations present within the data. \n",
    "\n",
    "Do you identify any particularly strong correlations? \n",
    "\n",
    "*Hint* – you can use [Cramer's V](https://en.wikipedia.org/wiki/Cram%C3%A9r%27s_V) to calculate the correlation between categorical variables. `scipy` provides the function [`association`](https://docs.scipy.org/doc/scipy/reference/generated/scipy.stats.contingency.association.html) to calculate the value of Cramer's V. \n",
    "\n",
    "*Bonus hint* – Cramer's V is but one tool in your tool box. Can you think of others? Can you build a visualization to help develop intuition to answer this question? "
   ]
  },
  {
   "cell_type": "code",
   "execution_count": null,
   "metadata": {},
   "outputs": [],
   "source": [
    "# complete\n",
    "# complete\n",
    "# complete\n",
    "# complete\n",
    "# complete\n",
    "# complete\n",
    "# complete"
   ]
  },
  {
   "cell_type": "markdown",
   "metadata": {},
   "source": [
    "*write your answer here*"
   ]
  },
  {
   "cell_type": "markdown",
   "metadata": {},
   "source": [
    "## Problem 2) Total Fouls\n",
    "\n",
    "**Problem 2a** \n",
    "\n",
    "Load the data for total fouls (red cards + yellow cards). \n",
    "\n",
    "What columns (i.e., variables) are present within the data? "
   ]
  },
  {
   "cell_type": "code",
   "execution_count": null,
   "metadata": {},
   "outputs": [],
   "source": [
    "redcard_df = pd.read_csv(\"TotalFouls.csv\")\n",
    "redcard_df.dropna(axis=1, inplace=True) # remove empty unused columns\n",
    "redcard_df"
   ]
  },
  {
   "cell_type": "markdown",
   "metadata": {},
   "source": [
    "*write your response here*\n",
    "\n",
    "The variables in this data set are #complete"
   ]
  },
  {
   "cell_type": "markdown",
   "metadata": {},
   "source": [
    "**Problem 2b**\n",
    "\n",
    "Using the available data identify any trends or correlations present within the data. \n",
    "\n",
    "Do you identify any particularly strong correlations? "
   ]
  },
  {
   "cell_type": "code",
   "execution_count": null,
   "metadata": {},
   "outputs": [],
   "source": [
    "# complete\n",
    "# complete\n",
    "# complete\n",
    "# complete\n",
    "# complete\n",
    "# complete\n",
    "# complete"
   ]
  },
  {
   "cell_type": "markdown",
   "metadata": {},
   "source": [
    "## Problem 3\n",
    "\n",
    "**Problem 3a**\n",
    "\n",
    "Merge the data in the two data files and identify any trends or correlations that you find. \n",
    "\n",
    "*Hint – the first data file includes all players that received red cards. To determine the number of yellow cards subtract red cards from total fouls*"
   ]
  },
  {
   "cell_type": "code",
   "execution_count": null,
   "metadata": {},
   "outputs": [],
   "source": [
    "# complete\n",
    "# complete\n",
    "# complete\n",
    "# complete\n",
    "# complete\n",
    "# complete\n",
    "# complete"
   ]
  }
 ],
 "metadata": {
  "kernelspec": {
   "display_name": "Python 3 (ipykernel)",
   "language": "python",
   "name": "python3"
  },
  "language_info": {
   "codemirror_mode": {
    "name": "ipython",
    "version": 3
   },
   "file_extension": ".py",
   "mimetype": "text/x-python",
   "name": "python",
   "nbconvert_exporter": "python",
   "pygments_lexer": "ipython3",
   "version": "3.11.4"
  }
 },
 "nbformat": 4,
 "nbformat_minor": 4
}
