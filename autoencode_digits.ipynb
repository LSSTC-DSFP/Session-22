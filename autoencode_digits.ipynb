{
 "cells": [
  {
   "cell_type": "markdown",
   "metadata": {
    "colab_type": "text",
    "id": "view-in-github"
   },
   "source": [
    "<a href=\"https://colab.research.google.com/github/fedhere/MLTSA_FBianco/blob/master/CodeExamples/autoencode_digits.ipynb\" target=\"_parent\"><img src=\"https://colab.research.google.com/assets/colab-badge.svg\" alt=\"Open In Colab\"/></a>"
   ]
  },
  {
   "cell_type": "markdown",
   "metadata": {
    "colab": {
     "base_uri": "https://localhost:8080/",
     "height": 50
    },
    "colab_type": "code",
    "id": "d4Hqug0lfaG9",
    "outputId": "37f1a85c-d320-4c66-cbaa-7308b0a9554c"
   },
   "source": [
    "# Autoencoder Tutorial"
   ]
  },
  {
   "cell_type": "code",
   "execution_count": null,
   "metadata": {},
   "outputs": [],
   "source": [
    "import keras\n",
    "from keras.datasets import mnist\n",
    "from keras.models import Sequential\n",
    "from keras.layers import Dense#, Dropout, Flatten\n",
    "#from keras.layers import Conv2D, MaxPooling2D\n",
    "from keras import backend as K\n",
    "import glob\n",
    "import pylab as pl\n",
    "from PIL import Image\n",
    "\n",
    "%pylab inline"
   ]
  },
  {
   "cell_type": "markdown",
   "metadata": {
    "colab_type": "text",
    "id": "u8mW27gnf7U4"
   },
   "source": [
    "# 1. change kernel to GPU \n",
    "go to runtime -> change runtime type -> GPU"
   ]
  },
  {
   "cell_type": "markdown",
   "metadata": {
    "colab_type": "text",
    "id": "fPgi-4gMgRTo"
   },
   "source": [
    "# digits first"
   ]
  },
  {
   "cell_type": "code",
   "execution_count": 45,
   "metadata": {
    "colab": {
     "base_uri": "https://localhost:8080/",
     "height": 296
    },
    "colab_type": "code",
    "id": "u3UsLpN7gRJy",
    "outputId": "025d8b87-7388-483c-accf-5a122493a3e8"
   },
   "outputs": [
    {
     "data": {
      "text/plain": [
       "(10000, 28, 28)"
      ]
     },
     "execution_count": 45,
     "metadata": {},
     "output_type": "execute_result"
    },
    {
     "data": {
      "image/png": "[encoded data removed]",
      "text/plain": [
       "<Figure size 432x288 with 1 Axes>"
      ]
     },
     "metadata": {
      "needs_background": "light"
     },
     "output_type": "display_data"
    }
   ],
   "source": [
    "from keras.datasets import mnist\n",
    "(x_train, _), (x_test, _) = mnist.load_data()\n",
    "\n",
    "img_rows, img_cols = 28, 28\n",
    "pl.imshow(x_train[0])\n",
    "pl.axis('off')\n",
    "intialshape = x_train[0].shape\n",
    "ndim = np.prod(x_train[0].shape)\n",
    "x_test.shape"
   ]
  },
  {
   "cell_type": "code",
   "execution_count": 46,
   "metadata": {},
   "outputs": [],
   "source": [
    "# x_train[0]"
   ]
  },
  {
   "cell_type": "code",
   "execution_count": 47,
   "metadata": {
    "colab": {
     "base_uri": "https://localhost:8080/",
     "height": 33
    },
    "colab_type": "code",
    "id": "1kgzSExkgQ9Q",
    "outputId": "5e2bf863-4487-4407-952d-bdbacf4ee175"
   },
   "outputs": [
    {
     "data": {
      "text/plain": [
       "(dtype('uint8'), 255, 0)"
      ]
     },
     "execution_count": 47,
     "metadata": {},
     "output_type": "execute_result"
    }
   ],
   "source": [
    "x_train.dtype, x_train.max(), x_train.min()\n"
   ]
  },
  {
   "cell_type": "code",
   "execution_count": 48,
   "metadata": {
    "colab": {
     "base_uri": "https://localhost:8080/",
     "height": 33
    },
    "colab_type": "code",
    "id": "9KhWi6TGhdv1",
    "outputId": "993653e8-957d-4917-b669-1cd17520309f"
   },
   "outputs": [
    {
     "data": {
      "text/plain": [
       "((60000, 784), (10000, 784))"
      ]
     },
     "execution_count": 48,
     "metadata": {},
     "output_type": "execute_result"
    }
   ],
   "source": [
    "x_train = (x_train.astype(float) / 255).reshape(len(x_train), ndim)\n",
    "x_test = (x_test.astype(float) / 255).reshape(len(x_test), ndim)\n",
    "x_train.shape, x_test.shape"
   ]
  },
  {
   "cell_type": "markdown",
   "metadata": {
    "colab_type": "text",
    "id": "huWbhFyJK4Vn"
   },
   "source": [
    "# create a model"
   ]
  },
  {
   "cell_type": "code",
   "execution_count": 5,
   "metadata": {
    "colab": {},
    "colab_type": "code",
    "id": "4zR7X6JuK7WW"
   },
   "outputs": [],
   "source": [
    "keras.models?"
   ]
  },
  {
   "cell_type": "code",
   "execution_count": 49,
   "metadata": {
    "colab": {
     "base_uri": "https://localhost:8080/",
     "height": 53
    },
    "colab_type": "code",
    "id": "eheFp_InJiao",
    "outputId": "f64d8ff8-39cd-4f67-d1dd-e01ca85f8cfd"
   },
   "outputs": [
    {
     "data": {
      "text/plain": [
       "'\\nencoded = Dense(encoding_dim, activation=\\'relu\\')(input_img)\\n# \"decoded\" is the lossy reconstruction of the input\\ndecoded = Dense(784, activation=\\'sigmoid\\')(encoded)\\n\\nautoencoder = Model(input_img, decoded)\\n\\nencoder = Model(input_img, encoded)\\n\\n# create a placeholder for an encoded (32-dimensional) input\\nencoded_input = Input(shape=(encoding_dim,))\\n# retrieve the last layer of the autoencoder model\\ndecoder_layer = autoencoder.layers[-1]\\n# create the decoder model\\ndecoder = Model(encoded_input, decoder_layer(encoded_input))\\n'"
      ]
     },
     "execution_count": 49,
     "metadata": {},
     "output_type": "execute_result"
    }
   ],
   "source": [
    "model_digits64 = Sequential()\n",
    "## encoder\n",
    "# input layer and the output size\n",
    "model_digits64.add(Dense(128, activation='relu', input_dim=ndim))\n",
    "#compression layer\n",
    "model_digits64.add(Dense(64, activation='relu'))\n",
    "model_digits64.add(Dense(32, activation='relu'))\n",
    "## deencoder\n",
    "#decompression layer, same size as in the encoder\n",
    "model_digits64.add(Dense(64, activation='relu'))\n",
    "model_digits64.add(Dense(128, activation='relu'))\n",
    "#output layer, same size as input\n",
    "model_digits64.add(Dense(ndim, activation='linear'))\n",
    "\n",
    "\n",
    "#alternative syntax\n",
    "\"\"\"\n",
    "encoded = Dense(encoding_dim, activation='relu')(input_img)\n",
    "# \"decoded\" is the lossy reconstruction of the input\n",
    "decoded = Dense(784, activation='sigmoid')(encoded)\n",
    "\n",
    "autoencoder = Model(input_img, decoded)\n",
    "\n",
    "encoder = Model(input_img, encoded)\n",
    "\n",
    "# create a placeholder for an encoded (32-dimensional) input\n",
    "encoded_input = Input(shape=(encoding_dim,))\n",
    "# retrieve the last layer of the autoencoder model\n",
    "decoder_layer = autoencoder.layers[-1]\n",
    "# create the decoder model\n",
    "decoder = Model(encoded_input, decoder_layer(encoded_input))\n",
    "\"\"\""
   ]
  },
  {
   "cell_type": "markdown",
   "metadata": {
    "colab_type": "text",
    "id": "h-jfXI90M0yE"
   },
   "source": [
    "### regression\n",
    "- loss='mean_squared_error' L2: default loss to use for regression problems. => linear activation function in output layer, one node out\n",
    "\n",
    "alternatives:  loss='mean_squared_logarithmic_error', 'mean_absolute_error' (which is L1 instead of L2)\n",
    "### binary classification\n",
    "\n",
    "- loss='binary_crossentropy' => sigmoid activation function in output layer, one node out\n",
    "\n",
    "alternatives: 'hinge'\n",
    "\n",
    "### multiclass classification\n",
    "categorical encoded as numerical\n",
    "- loss='categorical_crossentropy' => softmax n nodes out\n",
    "\n",
    "onehot encoded categoridal\n",
    "- 'parse_categorical_crossentropy' => softmax n nodes out\n",
    "\n",
    "- 'kullback Leibler Divergence Loss' => probabilistic categorical classification; log(P/Q)"
   ]
  },
  {
   "cell_type": "markdown",
   "metadata": {
    "colab_type": "text",
    "id": "2ZORHj6SPha0"
   },
   "source": [
    "## optimizers\n",
    "- SGD: stocastic gradient descent \n",
    "    - nesterov=True -> momentum inclusion\n",
    "- adam: Adaptive moment estimation. **good in most cases**\n",
    "- adagrad: different steps for different parameters based on frequency (binary input) well-suited for dealing with sparse data.\n",
    "\n",
    "- adaDelta: like adagrad but compensated for vanishing learning rate problem\n",
    "\n",
    "momentum refers to looking one step back and make a decision that includes the slope there\n",
    "\n",
    "### parameter:\n",
    "generally you need to adjust the learning rate which is how much you change the parameters by at each step. \n",
    "keras.optimizers.Adam(lr=0.001)\n",
    "\n",
    "\n",
    "https://gitcdn.xyz/cdn/Tony607/blog_statics/e1a0b1e060e783bd1978a141acff897ae71bd021/images/optimizer/optimizer.gif"
   ]
  },
  {
   "cell_type": "code",
   "execution_count": 51,
   "metadata": {
    "colab": {},
    "colab_type": "code",
    "id": "MePeWiOJJsTi"
   },
   "outputs": [],
   "source": [
    "# choose the optimizer and loss appropriately!\n",
    "# model_digits64.compile(optimizer=\"adadelta\", loss=\"mean_squared_error\")\n",
    "model_digits64.compile(optimizer = keras.optimizers.Adadelta(lr=0.01), loss=\"mean_squared_error\")"
   ]
  },
  {
   "cell_type": "code",
   "execution_count": 52,
   "metadata": {
    "colab": {
     "base_uri": "https://localhost:8080/",
     "height": 293
    },
    "colab_type": "code",
    "id": "KwCCOxn1Juxl",
    "outputId": "c3da4db6-c31c-4e3d-a52a-7452de120170"
   },
   "outputs": [
    {
     "name": "stdout",
     "output_type": "stream",
     "text": [
      "Model: \"sequential_4\"\n",
      "_________________________________________________________________\n",
      "Layer (type)                 Output Shape              Param #   \n",
      "=================================================================\n",
      "dense_18 (Dense)             (None, 128)               100480    \n",
      "_________________________________________________________________\n",
      "dense_19 (Dense)             (None, 64)                8256      \n",
      "_________________________________________________________________\n",
      "dense_20 (Dense)             (None, 32)                2080      \n",
      "_________________________________________________________________\n",
      "dense_21 (Dense)             (None, 64)                2112      \n",
      "_________________________________________________________________\n",
      "dense_22 (Dense)             (None, 128)               8320      \n",
      "_________________________________________________________________\n",
      "dense_23 (Dense)             (None, 784)               101136    \n",
      "=================================================================\n",
      "Total params: 222,384\n",
      "Trainable params: 222,384\n",
      "Non-trainable params: 0\n",
      "_________________________________________________________________\n",
      "None\n"
     ]
    }
   ],
   "source": [
    "print(model_digits64.summary())"
   ]
  },
  {
   "cell_type": "code",
   "execution_count": 53,
   "metadata": {
    "colab": {
     "base_uri": "https://localhost:8080/",
     "height": 683
    },
    "colab_type": "code",
    "id": "HsWOelvIJun2",
    "outputId": "0d38e1d8-764c-471e-b2c0-fae87e13116c"
   },
   "outputs": [
    {
     "name": "stdout",
     "output_type": "stream",
     "text": [
      "Epoch 1/200\n",
      "600/600 [==============================] - 2s 2ms/step - loss: 0.1138 - val_loss: 0.1132\n",
      "Epoch 2/200\n",
      "600/600 [==============================] - 1s 2ms/step - loss: 0.1107 - val_loss: 0.1110\n",
      "Epoch 3/200\n",
      "600/600 [==============================] - 1s 2ms/step - loss: 0.1085 - val_loss: 0.1090\n",
      "Epoch 4/200\n",
      "600/600 [==============================] - 1s 2ms/step - loss: 0.1067 - val_loss: 0.1071\n",
      "Epoch 5/200\n",
      "600/600 [==============================] - 1s 2ms/step - loss: 0.1046 - val_loss: 0.1051\n",
      "Epoch 6/200\n",
      "600/600 [==============================] - 1s 2ms/step - loss: 0.1026 - val_loss: 0.1029\n",
      "Epoch 7/200\n",
      "600/600 [==============================] - 1s 2ms/step - loss: 0.1006 - val_loss: 0.1003\n",
      "Epoch 8/200\n",
      "600/600 [==============================] - 1s 2ms/step - loss: 0.0979 - val_loss: 0.0971\n",
      "Epoch 9/200\n",
      "600/600 [==============================] - 1s 2ms/step - loss: 0.0947 - val_loss: 0.0932\n",
      "Epoch 10/200\n",
      "600/600 [==============================] - 1s 2ms/step - loss: 0.0909 - val_loss: 0.0886\n",
      "Epoch 11/200\n",
      "600/600 [==============================] - 1s 2ms/step - loss: 0.0861 - val_loss: 0.0835\n",
      "Epoch 12/200\n",
      "600/600 [==============================] - 1s 2ms/step - loss: 0.0814 - val_loss: 0.0787\n",
      "Epoch 13/200\n",
      "600/600 [==============================] - 1s 2ms/step - loss: 0.0769 - val_loss: 0.0746\n",
      "Epoch 14/200\n",
      "600/600 [==============================] - 1s 2ms/step - loss: 0.0731 - val_loss: 0.0713\n",
      "Epoch 15/200\n",
      "600/600 [==============================] - 1s 2ms/step - loss: 0.0701 - val_loss: 0.0688\n",
      "Epoch 16/200\n",
      "600/600 [==============================] - 2s 3ms/step - loss: 0.0680 - val_loss: 0.0671\n",
      "Epoch 17/200\n",
      "600/600 [==============================] - 2s 3ms/step - loss: 0.0665 - val_loss: 0.0660\n",
      "Epoch 18/200\n",
      "600/600 [==============================] - 2s 3ms/step - loss: 0.0656 - val_loss: 0.0652\n",
      "Epoch 19/200\n",
      "600/600 [==============================] - 1s 2ms/step - loss: 0.0650 - val_loss: 0.0647\n",
      "Epoch 20/200\n",
      "600/600 [==============================] - 1s 2ms/step - loss: 0.0644 - val_loss: 0.0643\n",
      "Epoch 21/200\n",
      "600/600 [==============================] - 1s 2ms/step - loss: 0.0641 - val_loss: 0.0641\n",
      "Epoch 22/200\n",
      "600/600 [==============================] - 1s 2ms/step - loss: 0.0639 - val_loss: 0.0639\n",
      "Epoch 23/200\n",
      "600/600 [==============================] - 1s 2ms/step - loss: 0.0637 - val_loss: 0.0638\n",
      "Epoch 24/200\n",
      "600/600 [==============================] - 1s 2ms/step - loss: 0.0637 - val_loss: 0.0637\n",
      "Epoch 25/200\n",
      "600/600 [==============================] - 1s 2ms/step - loss: 0.0636 - val_loss: 0.0636\n",
      "Epoch 26/200\n",
      "600/600 [==============================] - 1s 2ms/step - loss: 0.0637 - val_loss: 0.0636\n",
      "Epoch 27/200\n",
      "600/600 [==============================] - 1s 2ms/step - loss: 0.0635 - val_loss: 0.0635\n",
      "Epoch 28/200\n",
      "600/600 [==============================] - 1s 2ms/step - loss: 0.0635 - val_loss: 0.0635\n",
      "Epoch 29/200\n",
      "600/600 [==============================] - 1s 2ms/step - loss: 0.0634 - val_loss: 0.0634\n",
      "Epoch 30/200\n",
      "600/600 [==============================] - 1s 2ms/step - loss: 0.0634 - val_loss: 0.0634\n",
      "Epoch 31/200\n",
      "600/600 [==============================] - 1s 2ms/step - loss: 0.0632 - val_loss: 0.0633\n",
      "Epoch 32/200\n",
      "600/600 [==============================] - 1s 2ms/step - loss: 0.0633 - val_loss: 0.0633\n",
      "Epoch 33/200\n",
      "600/600 [==============================] - 1s 2ms/step - loss: 0.0632 - val_loss: 0.0633\n",
      "Epoch 34/200\n",
      "600/600 [==============================] - 1s 2ms/step - loss: 0.0632 - val_loss: 0.0632\n",
      "Epoch 35/200\n",
      "600/600 [==============================] - 1s 2ms/step - loss: 0.0633 - val_loss: 0.0632\n",
      "Epoch 36/200\n",
      "600/600 [==============================] - 1s 2ms/step - loss: 0.0633 - val_loss: 0.0631\n",
      "Epoch 37/200\n",
      "600/600 [==============================] - 1s 2ms/step - loss: 0.0631 - val_loss: 0.0631\n",
      "Epoch 38/200\n",
      "600/600 [==============================] - 1s 2ms/step - loss: 0.0630 - val_loss: 0.0630\n",
      "Epoch 39/200\n",
      "600/600 [==============================] - 1s 2ms/step - loss: 0.0629 - val_loss: 0.0630\n",
      "Epoch 40/200\n",
      "600/600 [==============================] - 1s 2ms/step - loss: 0.0630 - val_loss: 0.0630\n",
      "Epoch 41/200\n",
      "600/600 [==============================] - 1s 2ms/step - loss: 0.0630 - val_loss: 0.0629\n",
      "Epoch 42/200\n",
      "600/600 [==============================] - 1s 2ms/step - loss: 0.0629 - val_loss: 0.0629\n",
      "Epoch 43/200\n",
      "600/600 [==============================] - 1s 2ms/step - loss: 0.0629 - val_loss: 0.0628\n",
      "Epoch 44/200\n",
      "600/600 [==============================] - 1s 2ms/step - loss: 0.0629 - val_loss: 0.0628\n",
      "Epoch 45/200\n",
      "600/600 [==============================] - 1s 2ms/step - loss: 0.0627 - val_loss: 0.0627\n",
      "Epoch 46/200\n",
      "600/600 [==============================] - 1s 2ms/step - loss: 0.0627 - val_loss: 0.0627\n",
      "Epoch 47/200\n",
      "600/600 [==============================] - 1s 2ms/step - loss: 0.0626 - val_loss: 0.0626\n",
      "Epoch 48/200\n",
      "600/600 [==============================] - 1s 2ms/step - loss: 0.0627 - val_loss: 0.0626\n",
      "Epoch 49/200\n",
      "600/600 [==============================] - 2s 3ms/step - loss: 0.0626 - val_loss: 0.0625\n",
      "Epoch 50/200\n",
      "600/600 [==============================] - 1s 2ms/step - loss: 0.0625 - val_loss: 0.0625\n",
      "Epoch 51/200\n",
      "600/600 [==============================] - 1s 2ms/step - loss: 0.0625 - val_loss: 0.0624\n",
      "Epoch 52/200\n",
      "600/600 [==============================] - 1s 2ms/step - loss: 0.0624 - val_loss: 0.0624\n",
      "Epoch 53/200\n",
      "600/600 [==============================] - 1s 2ms/step - loss: 0.0624 - val_loss: 0.0623\n",
      "Epoch 54/200\n",
      "600/600 [==============================] - 2s 3ms/step - loss: 0.0622 - val_loss: 0.0622\n",
      "Epoch 55/200\n",
      "600/600 [==============================] - 1s 2ms/step - loss: 0.0622 - val_loss: 0.0622\n",
      "Epoch 56/200\n",
      "600/600 [==============================] - 1s 2ms/step - loss: 0.0622 - val_loss: 0.0621\n",
      "Epoch 57/200\n",
      "600/600 [==============================] - 1s 2ms/step - loss: 0.0621 - val_loss: 0.0620\n",
      "Epoch 58/200\n",
      "600/600 [==============================] - 1s 2ms/step - loss: 0.0621 - val_loss: 0.0620\n",
      "Epoch 59/200\n",
      "600/600 [==============================] - 1s 2ms/step - loss: 0.0620 - val_loss: 0.0619\n",
      "Epoch 60/200\n",
      "600/600 [==============================] - 1s 2ms/step - loss: 0.0618 - val_loss: 0.0618\n",
      "Epoch 61/200\n",
      "600/600 [==============================] - 1s 2ms/step - loss: 0.0618 - val_loss: 0.0618\n",
      "Epoch 62/200\n",
      "600/600 [==============================] - 1s 2ms/step - loss: 0.0617 - val_loss: 0.0617\n",
      "Epoch 63/200\n",
      "600/600 [==============================] - 1s 2ms/step - loss: 0.0617 - val_loss: 0.0616\n",
      "Epoch 64/200\n",
      "600/600 [==============================] - 1s 2ms/step - loss: 0.0616 - val_loss: 0.0615\n",
      "Epoch 65/200\n",
      "600/600 [==============================] - 1s 2ms/step - loss: 0.0615 - val_loss: 0.0614\n",
      "Epoch 66/200\n",
      "600/600 [==============================] - 1s 2ms/step - loss: 0.0614 - val_loss: 0.0613\n",
      "Epoch 67/200\n",
      "600/600 [==============================] - 1s 2ms/step - loss: 0.0614 - val_loss: 0.0613\n",
      "Epoch 68/200\n",
      "600/600 [==============================] - 1s 2ms/step - loss: 0.0614 - val_loss: 0.0612\n",
      "Epoch 69/200\n",
      "600/600 [==============================] - 1s 2ms/step - loss: 0.0611 - val_loss: 0.0611\n",
      "Epoch 70/200\n",
      "600/600 [==============================] - 1s 2ms/step - loss: 0.0611 - val_loss: 0.0610\n",
      "Epoch 71/200\n",
      "600/600 [==============================] - 1s 2ms/step - loss: 0.0609 - val_loss: 0.0609\n",
      "Epoch 72/200\n",
      "600/600 [==============================] - 1s 2ms/step - loss: 0.0608 - val_loss: 0.0608\n",
      "Epoch 73/200\n",
      "600/600 [==============================] - 1s 2ms/step - loss: 0.0608 - val_loss: 0.0607\n",
      "Epoch 74/200\n",
      "600/600 [==============================] - 1s 2ms/step - loss: 0.0608 - val_loss: 0.0606\n",
      "Epoch 75/200\n",
      "600/600 [==============================] - 1s 2ms/step - loss: 0.0607 - val_loss: 0.0604\n",
      "Epoch 76/200\n",
      "600/600 [==============================] - 1s 2ms/step - loss: 0.0604 - val_loss: 0.0603\n",
      "Epoch 77/200\n",
      "600/600 [==============================] - 1s 2ms/step - loss: 0.0603 - val_loss: 0.0602\n",
      "Epoch 78/200\n",
      "600/600 [==============================] - 1s 2ms/step - loss: 0.0603 - val_loss: 0.0601\n",
      "Epoch 79/200\n",
      "600/600 [==============================] - 1s 2ms/step - loss: 0.0601 - val_loss: 0.0600\n",
      "Epoch 80/200\n",
      "600/600 [==============================] - 1s 2ms/step - loss: 0.0599 - val_loss: 0.0599\n",
      "Epoch 81/200\n"
     ]
    },
    {
     "name": "stdout",
     "output_type": "stream",
     "text": [
      "600/600 [==============================] - 1s 2ms/step - loss: 0.0598 - val_loss: 0.0597\n",
      "Epoch 82/200\n",
      "600/600 [==============================] - 1s 2ms/step - loss: 0.0597 - val_loss: 0.0596\n",
      "Epoch 83/200\n",
      "600/600 [==============================] - 1s 2ms/step - loss: 0.0596 - val_loss: 0.0595\n",
      "Epoch 84/200\n",
      "600/600 [==============================] - 1s 2ms/step - loss: 0.0594 - val_loss: 0.0593\n",
      "Epoch 85/200\n",
      "600/600 [==============================] - 1s 2ms/step - loss: 0.0594 - val_loss: 0.0592\n",
      "Epoch 86/200\n",
      "600/600 [==============================] - 1s 2ms/step - loss: 0.0593 - val_loss: 0.0591\n",
      "Epoch 87/200\n",
      "600/600 [==============================] - 1s 2ms/step - loss: 0.0591 - val_loss: 0.0589\n",
      "Epoch 88/200\n",
      "600/600 [==============================] - 1s 2ms/step - loss: 0.0588 - val_loss: 0.0588\n",
      "Epoch 89/200\n",
      "600/600 [==============================] - 1s 2ms/step - loss: 0.0586 - val_loss: 0.0586\n",
      "Epoch 90/200\n",
      "600/600 [==============================] - 1s 2ms/step - loss: 0.0586 - val_loss: 0.0585\n",
      "Epoch 91/200\n",
      "600/600 [==============================] - 1s 2ms/step - loss: 0.0587 - val_loss: 0.0583\n",
      "Epoch 92/200\n",
      "600/600 [==============================] - 1s 2ms/step - loss: 0.0584 - val_loss: 0.0582\n",
      "Epoch 93/200\n",
      "600/600 [==============================] - 1s 2ms/step - loss: 0.0582 - val_loss: 0.0580\n",
      "Epoch 94/200\n",
      "600/600 [==============================] - 1s 2ms/step - loss: 0.0580 - val_loss: 0.0579\n",
      "Epoch 95/200\n",
      "600/600 [==============================] - 1s 2ms/step - loss: 0.0579 - val_loss: 0.0577\n",
      "Epoch 96/200\n",
      "600/600 [==============================] - 1s 2ms/step - loss: 0.0577 - val_loss: 0.0575\n",
      "Epoch 97/200\n",
      "600/600 [==============================] - 1s 2ms/step - loss: 0.0576 - val_loss: 0.0574\n",
      "Epoch 98/200\n",
      "600/600 [==============================] - 1s 2ms/step - loss: 0.0574 - val_loss: 0.0572\n",
      "Epoch 99/200\n",
      "600/600 [==============================] - 1s 2ms/step - loss: 0.0572 - val_loss: 0.0571\n",
      "Epoch 100/200\n",
      "600/600 [==============================] - 1s 2ms/step - loss: 0.0571 - val_loss: 0.0569\n",
      "Epoch 101/200\n",
      "600/600 [==============================] - 1s 2ms/step - loss: 0.0569 - val_loss: 0.0567\n",
      "Epoch 102/200\n",
      "600/600 [==============================] - 1s 2ms/step - loss: 0.0568 - val_loss: 0.0566\n",
      "Epoch 103/200\n",
      "600/600 [==============================] - 1s 2ms/step - loss: 0.0566 - val_loss: 0.0564\n",
      "Epoch 104/200\n",
      "600/600 [==============================] - 1s 2ms/step - loss: 0.0565 - val_loss: 0.0562\n",
      "Epoch 105/200\n",
      "600/600 [==============================] - 1s 2ms/step - loss: 0.0561 - val_loss: 0.0560\n",
      "Epoch 106/200\n",
      "600/600 [==============================] - 1s 2ms/step - loss: 0.0559 - val_loss: 0.0559\n",
      "Epoch 107/200\n",
      "600/600 [==============================] - 1s 2ms/step - loss: 0.0558 - val_loss: 0.0557\n",
      "Epoch 108/200\n",
      "600/600 [==============================] - 1s 2ms/step - loss: 0.0557 - val_loss: 0.0555\n",
      "Epoch 109/200\n",
      "600/600 [==============================] - 1s 2ms/step - loss: 0.0555 - val_loss: 0.0553\n",
      "Epoch 110/200\n",
      "600/600 [==============================] - 1s 2ms/step - loss: 0.0554 - val_loss: 0.0552\n",
      "Epoch 111/200\n",
      "600/600 [==============================] - 1s 2ms/step - loss: 0.0553 - val_loss: 0.0550\n",
      "Epoch 112/200\n",
      "600/600 [==============================] - 1s 2ms/step - loss: 0.0552 - val_loss: 0.0548\n",
      "Epoch 113/200\n",
      "600/600 [==============================] - 1s 2ms/step - loss: 0.0548 - val_loss: 0.0546\n",
      "Epoch 114/200\n",
      "600/600 [==============================] - 1s 2ms/step - loss: 0.0547 - val_loss: 0.0544\n",
      "Epoch 115/200\n",
      "600/600 [==============================] - 1s 2ms/step - loss: 0.0546 - val_loss: 0.0543\n",
      "Epoch 116/200\n",
      "600/600 [==============================] - 1s 2ms/step - loss: 0.0543 - val_loss: 0.0541\n",
      "Epoch 117/200\n",
      "600/600 [==============================] - 1s 2ms/step - loss: 0.0543 - val_loss: 0.0539\n",
      "Epoch 118/200\n",
      "600/600 [==============================] - 1s 2ms/step - loss: 0.0541 - val_loss: 0.0537\n",
      "Epoch 119/200\n",
      "600/600 [==============================] - 1s 2ms/step - loss: 0.0539 - val_loss: 0.0536\n",
      "Epoch 120/200\n",
      "600/600 [==============================] - 1s 2ms/step - loss: 0.0536 - val_loss: 0.0534\n",
      "Epoch 121/200\n",
      "600/600 [==============================] - 1s 2ms/step - loss: 0.0533 - val_loss: 0.0532\n",
      "Epoch 122/200\n",
      "600/600 [==============================] - 1s 2ms/step - loss: 0.0533 - val_loss: 0.0530\n",
      "Epoch 123/200\n",
      "600/600 [==============================] - 1s 2ms/step - loss: 0.0532 - val_loss: 0.0528\n",
      "Epoch 124/200\n",
      "600/600 [==============================] - 1s 2ms/step - loss: 0.0530 - val_loss: 0.0527\n",
      "Epoch 125/200\n",
      "600/600 [==============================] - 1s 2ms/step - loss: 0.0528 - val_loss: 0.0525\n",
      "Epoch 126/200\n",
      "600/600 [==============================] - 1s 2ms/step - loss: 0.0526 - val_loss: 0.0523\n",
      "Epoch 127/200\n",
      "600/600 [==============================] - 1s 2ms/step - loss: 0.0524 - val_loss: 0.0521\n",
      "Epoch 128/200\n",
      "600/600 [==============================] - 1s 2ms/step - loss: 0.0524 - val_loss: 0.0520\n",
      "Epoch 129/200\n",
      "600/600 [==============================] - 1s 2ms/step - loss: 0.0523 - val_loss: 0.0518\n",
      "Epoch 130/200\n",
      "600/600 [==============================] - 1s 2ms/step - loss: 0.0521 - val_loss: 0.0516\n",
      "Epoch 131/200\n",
      "600/600 [==============================] - 1s 2ms/step - loss: 0.0517 - val_loss: 0.0515\n",
      "Epoch 132/200\n",
      "600/600 [==============================] - 1s 2ms/step - loss: 0.0516 - val_loss: 0.0513\n",
      "Epoch 133/200\n",
      "600/600 [==============================] - 1s 2ms/step - loss: 0.0514 - val_loss: 0.0511\n",
      "Epoch 134/200\n",
      "600/600 [==============================] - 1s 2ms/step - loss: 0.0513 - val_loss: 0.0510\n",
      "Epoch 135/200\n",
      "600/600 [==============================] - 1s 2ms/step - loss: 0.0512 - val_loss: 0.0508\n",
      "Epoch 136/200\n",
      "600/600 [==============================] - 1s 2ms/step - loss: 0.0510 - val_loss: 0.0506\n",
      "Epoch 137/200\n",
      "600/600 [==============================] - 1s 2ms/step - loss: 0.0509 - val_loss: 0.0505\n",
      "Epoch 138/200\n",
      "600/600 [==============================] - 1s 2ms/step - loss: 0.0507 - val_loss: 0.0503\n",
      "Epoch 139/200\n",
      "600/600 [==============================] - 1s 2ms/step - loss: 0.0506 - val_loss: 0.0502\n",
      "Epoch 140/200\n",
      "600/600 [==============================] - 1s 2ms/step - loss: 0.0504 - val_loss: 0.0500\n",
      "Epoch 141/200\n",
      "600/600 [==============================] - 1s 2ms/step - loss: 0.0502 - val_loss: 0.0498\n",
      "Epoch 142/200\n",
      "600/600 [==============================] - 1s 2ms/step - loss: 0.0500 - val_loss: 0.0497\n",
      "Epoch 143/200\n",
      "600/600 [==============================] - 1s 2ms/step - loss: 0.0500 - val_loss: 0.0495\n",
      "Epoch 144/200\n",
      "600/600 [==============================] - 1s 2ms/step - loss: 0.0499 - val_loss: 0.0494\n",
      "Epoch 145/200\n",
      "600/600 [==============================] - 1s 2ms/step - loss: 0.0496 - val_loss: 0.0493\n",
      "Epoch 146/200\n",
      "600/600 [==============================] - 1s 2ms/step - loss: 0.0495 - val_loss: 0.0491\n",
      "Epoch 147/200\n",
      "600/600 [==============================] - 1s 2ms/step - loss: 0.0494 - val_loss: 0.0490\n",
      "Epoch 148/200\n",
      "600/600 [==============================] - 1s 2ms/step - loss: 0.0493 - val_loss: 0.0488\n",
      "Epoch 149/200\n",
      "600/600 [==============================] - 2s 3ms/step - loss: 0.0491 - val_loss: 0.0487\n",
      "Epoch 150/200\n",
      "600/600 [==============================] - 2s 3ms/step - loss: 0.0489 - val_loss: 0.0486\n",
      "Epoch 151/200\n",
      "600/600 [==============================] - 1s 2ms/step - loss: 0.0488 - val_loss: 0.0484\n",
      "Epoch 152/200\n",
      "600/600 [==============================] - 1s 2ms/step - loss: 0.0488 - val_loss: 0.0483\n",
      "Epoch 153/200\n",
      "600/600 [==============================] - 2s 3ms/step - loss: 0.0486 - val_loss: 0.0482\n",
      "Epoch 154/200\n",
      "600/600 [==============================] - 1s 2ms/step - loss: 0.0485 - val_loss: 0.0480\n",
      "Epoch 155/200\n",
      "600/600 [==============================] - 2s 3ms/step - loss: 0.0484 - val_loss: 0.0479\n",
      "Epoch 156/200\n",
      "600/600 [==============================] - 2s 3ms/step - loss: 0.0482 - val_loss: 0.0478\n",
      "Epoch 157/200\n",
      "600/600 [==============================] - 1s 2ms/step - loss: 0.0481 - val_loss: 0.0477\n",
      "Epoch 158/200\n",
      "600/600 [==============================] - 1s 2ms/step - loss: 0.0480 - val_loss: 0.0475\n",
      "Epoch 159/200\n",
      "600/600 [==============================] - 1s 2ms/step - loss: 0.0479 - val_loss: 0.0474\n",
      "Epoch 160/200\n",
      "600/600 [==============================] - 1s 2ms/step - loss: 0.0478 - val_loss: 0.0473\n"
     ]
    },
    {
     "name": "stdout",
     "output_type": "stream",
     "text": [
      "Epoch 161/200\n",
      "600/600 [==============================] - 2s 3ms/step - loss: 0.0477 - val_loss: 0.0472\n",
      "Epoch 162/200\n",
      "600/600 [==============================] - 2s 3ms/step - loss: 0.0476 - val_loss: 0.0471\n",
      "Epoch 163/200\n",
      "600/600 [==============================] - 1s 2ms/step - loss: 0.0473 - val_loss: 0.0470\n",
      "Epoch 164/200\n",
      "600/600 [==============================] - 1s 2ms/step - loss: 0.0473 - val_loss: 0.0469\n",
      "Epoch 165/200\n",
      "600/600 [==============================] - 1s 2ms/step - loss: 0.0471 - val_loss: 0.0467\n",
      "Epoch 166/200\n",
      "600/600 [==============================] - 1s 2ms/step - loss: 0.0471 - val_loss: 0.0466\n",
      "Epoch 167/200\n",
      "600/600 [==============================] - 1s 2ms/step - loss: 0.0470 - val_loss: 0.0465\n",
      "Epoch 168/200\n",
      "600/600 [==============================] - 1s 2ms/step - loss: 0.0469 - val_loss: 0.0464\n",
      "Epoch 169/200\n",
      "600/600 [==============================] - 1s 2ms/step - loss: 0.0468 - val_loss: 0.0463\n",
      "Epoch 170/200\n",
      "600/600 [==============================] - 1s 2ms/step - loss: 0.0467 - val_loss: 0.0462\n",
      "Epoch 171/200\n",
      "600/600 [==============================] - 1s 2ms/step - loss: 0.0465 - val_loss: 0.0461\n",
      "Epoch 172/200\n",
      "600/600 [==============================] - 1s 2ms/step - loss: 0.0465 - val_loss: 0.0460\n",
      "Epoch 173/200\n",
      "600/600 [==============================] - 1s 2ms/step - loss: 0.0464 - val_loss: 0.0459\n",
      "Epoch 174/200\n",
      "600/600 [==============================] - 1s 2ms/step - loss: 0.0462 - val_loss: 0.0458\n",
      "Epoch 175/200\n",
      "600/600 [==============================] - 1s 2ms/step - loss: 0.0461 - val_loss: 0.0457\n",
      "Epoch 176/200\n",
      "600/600 [==============================] - 1s 2ms/step - loss: 0.0461 - val_loss: 0.0456\n",
      "Epoch 177/200\n",
      "600/600 [==============================] - 1s 2ms/step - loss: 0.0459 - val_loss: 0.0456\n",
      "Epoch 178/200\n",
      "600/600 [==============================] - 1s 2ms/step - loss: 0.0459 - val_loss: 0.0455\n",
      "Epoch 179/200\n",
      "600/600 [==============================] - 1s 2ms/step - loss: 0.0457 - val_loss: 0.0454\n",
      "Epoch 180/200\n",
      "600/600 [==============================] - 1s 2ms/step - loss: 0.0457 - val_loss: 0.0453\n",
      "Epoch 181/200\n",
      "600/600 [==============================] - 1s 2ms/step - loss: 0.0457 - val_loss: 0.0452\n",
      "Epoch 182/200\n",
      "600/600 [==============================] - 1s 2ms/step - loss: 0.0455 - val_loss: 0.0451\n",
      "Epoch 183/200\n",
      "600/600 [==============================] - 1s 2ms/step - loss: 0.0455 - val_loss: 0.0450\n",
      "Epoch 184/200\n",
      "600/600 [==============================] - 1s 2ms/step - loss: 0.0454 - val_loss: 0.0449\n",
      "Epoch 185/200\n",
      "600/600 [==============================] - 1s 2ms/step - loss: 0.0454 - val_loss: 0.0448\n",
      "Epoch 186/200\n",
      "600/600 [==============================] - 1s 2ms/step - loss: 0.0453 - val_loss: 0.0448\n",
      "Epoch 187/200\n",
      "600/600 [==============================] - 1s 2ms/step - loss: 0.0452 - val_loss: 0.0447\n",
      "Epoch 188/200\n",
      "600/600 [==============================] - 1s 2ms/step - loss: 0.0451 - val_loss: 0.0446\n",
      "Epoch 189/200\n",
      "600/600 [==============================] - 1s 2ms/step - loss: 0.0450 - val_loss: 0.0445\n",
      "Epoch 190/200\n",
      "600/600 [==============================] - 1s 2ms/step - loss: 0.0449 - val_loss: 0.0444\n",
      "Epoch 191/200\n",
      "600/600 [==============================] - 1s 2ms/step - loss: 0.0449 - val_loss: 0.0444\n",
      "Epoch 192/200\n",
      "600/600 [==============================] - 1s 2ms/step - loss: 0.0447 - val_loss: 0.0443\n",
      "Epoch 193/200\n",
      "600/600 [==============================] - 1s 2ms/step - loss: 0.0447 - val_loss: 0.0442\n",
      "Epoch 194/200\n",
      "600/600 [==============================] - 1s 2ms/step - loss: 0.0446 - val_loss: 0.0441\n",
      "Epoch 195/200\n",
      "600/600 [==============================] - 1s 2ms/step - loss: 0.0445 - val_loss: 0.0440\n",
      "Epoch 196/200\n",
      "600/600 [==============================] - 1s 2ms/step - loss: 0.0445 - val_loss: 0.0440\n",
      "Epoch 197/200\n",
      "600/600 [==============================] - 1s 2ms/step - loss: 0.0442 - val_loss: 0.0439\n",
      "Epoch 198/200\n",
      "600/600 [==============================] - 1s 2ms/step - loss: 0.0442 - val_loss: 0.0438\n",
      "Epoch 199/200\n",
      "600/600 [==============================] - 1s 2ms/step - loss: 0.0442 - val_loss: 0.0437\n",
      "Epoch 200/200\n",
      "600/600 [==============================] - 1s 2ms/step - loss: 0.0442 - val_loss: 0.0437\n"
     ]
    }
   ],
   "source": [
    "history64 = model_digits64.fit(x_train, x_train, \n",
    "                               validation_data=(x_test, x_test),\n",
    "                               epochs=200, batch_size=100, verbose=1)"
   ]
  },
  {
   "cell_type": "markdown",
   "metadata": {
    "colab_type": "text",
    "id": "HJO05FMnRGtP"
   },
   "source": [
    "# always look at the loss!"
   ]
  },
  {
   "cell_type": "code",
   "execution_count": 54,
   "metadata": {
    "colab": {
     "base_uri": "https://localhost:8080/",
     "height": 295
    },
    "colab_type": "code",
    "id": "VhfIAie1Jucz",
    "outputId": "c6f48622-40a4-4380-8a36-62b7fa27a2b1"
   },
   "outputs": [
    {
     "data": {
      "text/plain": [
       "Text(0.5, 0, 'iteration')"
      ]
     },
     "execution_count": 54,
     "metadata": {},
     "output_type": "execute_result"
    },
    {
     "data": {
      "image/png": "[encoded data removed]",
      "text/plain": [
       "<Figure size 432x288 with 1 Axes>"
      ]
     },
     "metadata": {
      "needs_background": "light"
     },
     "output_type": "display_data"
    }
   ],
   "source": [
    "pl.plot(np.array(history64.history['loss']))\n",
    "pl.ylabel('loss')\n",
    "pl.xlabel('iteration')\n",
    "#pl.yscale('log')\n",
    "#pl.xscale('log')"
   ]
  },
  {
   "cell_type": "markdown",
   "metadata": {
    "colab_type": "text",
    "id": "ZnbDdWi4NxBj"
   },
   "source": [
    "The loss fuctionis plotted and because it is still decreasingn quite rapidly (slope of the curve not near 0 yet) I know I did not run enough epochs. Try and run for 200 epochs!"
   ]
  },
  {
   "cell_type": "markdown",
   "metadata": {
    "colab_type": "text",
    "id": "iGTPRyFgRQTF"
   },
   "source": [
    "# predict"
   ]
  },
  {
   "cell_type": "code",
   "execution_count": 55,
   "metadata": {
    "colab": {},
    "colab_type": "code",
    "id": "7exTCDcJKhU_"
   },
   "outputs": [],
   "source": [
    "output_image64 = model_digits64.predict(x_test)"
   ]
  },
  {
   "cell_type": "code",
   "execution_count": 56,
   "metadata": {
    "colab": {},
    "colab_type": "code",
    "id": "qeFEGpTul4U6"
   },
   "outputs": [],
   "source": [
    "def compareinout(i, outim, testimg, initialshape=(28,28)):\n",
    "  fig = pl.figure(figsize(10,5))\n",
    "  ax = fig.add_subplot(121) \n",
    "  ax.imshow(testimg[i].reshape(initialshape) , cmap=\"bone\")\n",
    "  ax.get_xaxis().set_visible(False)\n",
    "  ax.get_yaxis().set_visible(False)\n",
    "  ax = fig.add_subplot(122) \n",
    "  ax.imshow(outim[i].reshape(initialshape) , cmap=\"bone\")\n",
    "  ax.get_xaxis().set_visible(False)\n",
    "  ax.get_yaxis().set_visible(False)\n"
   ]
  },
  {
   "cell_type": "code",
   "execution_count": 57,
   "metadata": {
    "colab": {
     "base_uri": "https://localhost:8080/",
     "height": 1000
    },
    "colab_type": "code",
    "id": "v3hzx41EKhOj",
    "outputId": "a6fa70f9-3ff5-45d2-d743-3556e7cdbd65"
   },
   "outputs": [
    {
     "data": {
      "image/png": "[encoded data removed]",
      "text/plain": [
       "<Figure size 720x360 with 2 Axes>"
      ]
     },
     "metadata": {
      "needs_background": "light"
     },
     "output_type": "display_data"
    },
    {
     "data": {
      "image/png": "[encoded data removed]",
      "text/plain": [
       "<Figure size 720x360 with 2 Axes>"
      ]
     },
     "metadata": {
      "needs_background": "light"
     },
     "output_type": "display_data"
    },
    {
     "data": {
      "image/png": "[encoded data removed]",
      "text/plain": [
       "<Figure size 720x360 with 2 Axes>"
      ]
     },
     "metadata": {
      "needs_background": "light"
     },
     "output_type": "display_data"
    },
    {
     "data": {
      "image/png": "[encoded data removed]",
      "text/plain": [
       "<Figure size 720x360 with 2 Axes>"
      ]
     },
     "metadata": {
      "needs_background": "light"
     },
     "output_type": "display_data"
    },
    {
     "data": {
      "image/png": "[encoded data removed]",
      "text/plain": [
       "<Figure size 720x360 with 2 Axes>"
      ]
     },
     "metadata": {
      "needs_background": "light"
     },
     "output_type": "display_data"
    },
    {
     "data": {
      "image/png": "[encoded data removed]",
      "text/plain": [
       "<Figure size 720x360 with 2 Axes>"
      ]
     },
     "metadata": {
      "needs_background": "light"
     },
     "output_type": "display_data"
    },
    {
     "data": {
      "image/png": "[encoded data removed]",
      "text/plain": [
       "<Figure size 720x360 with 2 Axes>"
      ]
     },
     "metadata": {
      "needs_background": "light"
     },
     "output_type": "display_data"
    },
    {
     "data": {
      "image/png": "[encoded data removed]",
      "text/plain": [
       "<Figure size 720x360 with 2 Axes>"
      ]
     },
     "metadata": {
      "needs_background": "light"
     },
     "output_type": "display_data"
    },
    {
     "data": {
      "image/png": "[encoded data removed]",
      "text/plain": [
       "<Figure size 720x360 with 2 Axes>"
      ]
     },
     "metadata": {
      "needs_background": "light"
     },
     "output_type": "display_data"
    },
    {
     "data": {
      "image/png": "[encoded data removed]",
      "text/plain": [
       "<Figure size 720x360 with 2 Axes>"
      ]
     },
     "metadata": {
      "needs_background": "light"
     },
     "output_type": "display_data"
    }
   ],
   "source": [
    "for i in range(10):\n",
    "  compareinout(i, output_image64, x_test)"
   ]
  },
  {
   "cell_type": "markdown",
   "metadata": {
    "colab_type": "text",
    "id": "whLydcJrM7t6"
   },
   "source": [
    "This is a rather bad result. Let me see if I can improve it . The images are too detailed. I can treat the problem as a binary problem to derice some detail. To approach a binary classifier I switch the activation function in the last layer to sigmoid"
   ]
  },
  {
   "cell_type": "markdown",
   "metadata": {
    "colab_type": "text",
    "id": "NsvBeF_nSJTO"
   },
   "source": [
    "# change loss function"
   ]
  },
  {
   "cell_type": "code",
   "execution_count": 58,
   "metadata": {
    "colab": {},
    "colab_type": "code",
    "id": "sDXyqX7WKhHu"
   },
   "outputs": [],
   "source": [
    "# choose the optimizer and loss appropriately!\n",
    "model_digits64_sig = Sequential()\n",
    "## encoder\n",
    "# input layer and the output size\n",
    "model_digits64_sig.add(Dense(128, activation='relu', input_dim=ndim))\n",
    "#compression layer\n",
    "model_digits64_sig.add(Dense(64, activation='relu'))\n",
    "## deencoder\n",
    "#decompression layer, same size as in the encoder\n",
    "model_digits64_sig.add(Dense(128, activation='relu'))\n",
    "#output layer, same size as input\n",
    "model_digits64_sig.add(Dense(ndim, activation='sigmoid'))\n",
    "# model_digits64_sig.compile(optimizer=\"adadelta\", loss=\"mean_squared_error\") #binary_cross_entropy)\n",
    "model_digits64_sig.compile(optimizer = keras.optimizers.Adadelta(lr=0.01), loss=\"mean_squared_error\")"
   ]
  },
  {
   "cell_type": "code",
   "execution_count": 59,
   "metadata": {
    "colab": {
     "base_uri": "https://localhost:8080/",
     "height": 683
    },
    "colab_type": "code",
    "id": "hbxiT8xdKhC8",
    "outputId": "988d455f-9d38-407b-8089-402fb659d184"
   },
   "outputs": [
    {
     "name": "stdout",
     "output_type": "stream",
     "text": [
      "Epoch 1/200\n",
      "600/600 [==============================] - 2s 3ms/step - loss: 0.2326 - val_loss: 0.2317\n",
      "Epoch 2/200\n",
      "600/600 [==============================] - 1s 2ms/step - loss: 0.2313 - val_loss: 0.2306\n",
      "Epoch 3/200\n",
      "600/600 [==============================] - 1s 2ms/step - loss: 0.2302 - val_loss: 0.2294\n",
      "Epoch 4/200\n",
      "600/600 [==============================] - 1s 2ms/step - loss: 0.2290 - val_loss: 0.2281\n",
      "Epoch 5/200\n",
      "600/600 [==============================] - 1s 2ms/step - loss: 0.2276 - val_loss: 0.2263\n",
      "Epoch 6/200\n",
      "600/600 [==============================] - 1s 2ms/step - loss: 0.2257 - val_loss: 0.2236\n",
      "Epoch 7/200\n",
      "600/600 [==============================] - 2s 3ms/step - loss: 0.2227 - val_loss: 0.2191\n",
      "Epoch 8/200\n",
      "600/600 [==============================] - 1s 2ms/step - loss: 0.2174 - val_loss: 0.2107\n",
      "Epoch 9/200\n",
      "600/600 [==============================] - 1s 2ms/step - loss: 0.2075 - val_loss: 0.1943\n",
      "Epoch 10/200\n",
      "600/600 [==============================] - 2s 3ms/step - loss: 0.1883 - val_loss: 0.1648\n",
      "Epoch 11/200\n",
      "600/600 [==============================] - 1s 2ms/step - loss: 0.1557 - val_loss: 0.1256\n",
      "Epoch 12/200\n",
      "600/600 [==============================] - 2s 3ms/step - loss: 0.1174 - val_loss: 0.0956\n",
      "Epoch 13/200\n",
      "600/600 [==============================] - 1s 2ms/step - loss: 0.0916 - val_loss: 0.0822\n",
      "Epoch 14/200\n",
      "600/600 [==============================] - 2s 3ms/step - loss: 0.0806 - val_loss: 0.0769\n",
      "Epoch 15/200\n",
      "600/600 [==============================] - 2s 3ms/step - loss: 0.0761 - val_loss: 0.0746\n",
      "Epoch 16/200\n",
      "600/600 [==============================] - 1s 2ms/step - loss: 0.0742 - val_loss: 0.0733\n",
      "Epoch 17/200\n",
      "600/600 [==============================] - 1s 2ms/step - loss: 0.0730 - val_loss: 0.0724\n",
      "Epoch 18/200\n",
      "600/600 [==============================] - 1s 2ms/step - loss: 0.0722 - val_loss: 0.0719\n",
      "Epoch 19/200\n",
      "600/600 [==============================] - 1s 2ms/step - loss: 0.0718 - val_loss: 0.0716\n",
      "Epoch 20/200\n",
      "600/600 [==============================] - 2s 3ms/step - loss: 0.0715 - val_loss: 0.0713\n",
      "Epoch 21/200\n",
      "600/600 [==============================] - 2s 3ms/step - loss: 0.0713 - val_loss: 0.0711\n",
      "Epoch 22/200\n",
      "600/600 [==============================] - 1s 2ms/step - loss: 0.0710 - val_loss: 0.0709\n",
      "Epoch 23/200\n",
      "600/600 [==============================] - 1s 2ms/step - loss: 0.0708 - val_loss: 0.0708\n",
      "Epoch 24/200\n",
      "600/600 [==============================] - 1s 2ms/step - loss: 0.0708 - val_loss: 0.0707\n",
      "Epoch 25/200\n",
      "600/600 [==============================] - 1s 2ms/step - loss: 0.0706 - val_loss: 0.0705\n",
      "Epoch 26/200\n",
      "600/600 [==============================] - 1s 2ms/step - loss: 0.0704 - val_loss: 0.0704\n",
      "Epoch 27/200\n",
      "600/600 [==============================] - 1s 2ms/step - loss: 0.0703 - val_loss: 0.0703\n",
      "Epoch 28/200\n",
      "600/600 [==============================] - 1s 2ms/step - loss: 0.0702 - val_loss: 0.0702\n",
      "Epoch 29/200\n",
      "600/600 [==============================] - 1s 2ms/step - loss: 0.0700 - val_loss: 0.0702\n",
      "Epoch 30/200\n",
      "600/600 [==============================] - 1s 2ms/step - loss: 0.0701 - val_loss: 0.0701\n",
      "Epoch 31/200\n",
      "600/600 [==============================] - 1s 2ms/step - loss: 0.0700 - val_loss: 0.0700\n",
      "Epoch 32/200\n",
      "600/600 [==============================] - 1s 2ms/step - loss: 0.0699 - val_loss: 0.0699\n",
      "Epoch 33/200\n",
      "600/600 [==============================] - 1s 2ms/step - loss: 0.0699 - val_loss: 0.0699\n",
      "Epoch 34/200\n",
      "600/600 [==============================] - 1s 2ms/step - loss: 0.0698 - val_loss: 0.0698\n",
      "Epoch 35/200\n",
      "600/600 [==============================] - 1s 2ms/step - loss: 0.0696 - val_loss: 0.0698\n",
      "Epoch 36/200\n",
      "600/600 [==============================] - 1s 2ms/step - loss: 0.0697 - val_loss: 0.0697\n",
      "Epoch 37/200\n",
      "600/600 [==============================] - 1s 2ms/step - loss: 0.0696 - val_loss: 0.0697\n",
      "Epoch 38/200\n",
      "600/600 [==============================] - 1s 2ms/step - loss: 0.0695 - val_loss: 0.0696\n",
      "Epoch 39/200\n",
      "600/600 [==============================] - 1s 2ms/step - loss: 0.0694 - val_loss: 0.0695\n",
      "Epoch 40/200\n",
      "600/600 [==============================] - 1s 2ms/step - loss: 0.0694 - val_loss: 0.0695\n",
      "Epoch 41/200\n",
      "600/600 [==============================] - 1s 2ms/step - loss: 0.0693 - val_loss: 0.0694\n",
      "Epoch 42/200\n",
      "600/600 [==============================] - 1s 2ms/step - loss: 0.0694 - val_loss: 0.0694\n",
      "Epoch 43/200\n",
      "600/600 [==============================] - 1s 2ms/step - loss: 0.0692 - val_loss: 0.0693\n",
      "Epoch 44/200\n",
      "600/600 [==============================] - 1s 2ms/step - loss: 0.0693 - val_loss: 0.0693\n",
      "Epoch 45/200\n",
      "600/600 [==============================] - 1s 2ms/step - loss: 0.0692 - val_loss: 0.0692\n",
      "Epoch 46/200\n",
      "600/600 [==============================] - 1s 2ms/step - loss: 0.0692 - val_loss: 0.0692\n",
      "Epoch 47/200\n",
      "600/600 [==============================] - 1s 2ms/step - loss: 0.0692 - val_loss: 0.0691\n",
      "Epoch 48/200\n",
      "600/600 [==============================] - 1s 2ms/step - loss: 0.0692 - val_loss: 0.0691\n",
      "Epoch 49/200\n",
      "600/600 [==============================] - 1s 2ms/step - loss: 0.0690 - val_loss: 0.0690\n",
      "Epoch 50/200\n",
      "600/600 [==============================] - 1s 2ms/step - loss: 0.0690 - val_loss: 0.0690\n",
      "Epoch 51/200\n",
      "600/600 [==============================] - 1s 2ms/step - loss: 0.0690 - val_loss: 0.0689\n",
      "Epoch 52/200\n",
      "600/600 [==============================] - 1s 2ms/step - loss: 0.0688 - val_loss: 0.0689\n",
      "Epoch 53/200\n",
      "600/600 [==============================] - 1s 2ms/step - loss: 0.0687 - val_loss: 0.0688\n",
      "Epoch 54/200\n",
      "600/600 [==============================] - 1s 2ms/step - loss: 0.0688 - val_loss: 0.0688\n",
      "Epoch 55/200\n",
      "600/600 [==============================] - 1s 2ms/step - loss: 0.0687 - val_loss: 0.0687\n",
      "Epoch 56/200\n",
      "600/600 [==============================] - 2s 3ms/step - loss: 0.0687 - val_loss: 0.0687\n",
      "Epoch 57/200\n",
      "600/600 [==============================] - 2s 3ms/step - loss: 0.0684 - val_loss: 0.0686\n",
      "Epoch 58/200\n",
      "600/600 [==============================] - 2s 3ms/step - loss: 0.0686 - val_loss: 0.0686\n",
      "Epoch 59/200\n",
      "600/600 [==============================] - 1s 2ms/step - loss: 0.0685 - val_loss: 0.0685\n",
      "Epoch 60/200\n",
      "600/600 [==============================] - 1s 2ms/step - loss: 0.0686 - val_loss: 0.0685\n",
      "Epoch 61/200\n",
      "600/600 [==============================] - 2s 3ms/step - loss: 0.0682 - val_loss: 0.0684\n",
      "Epoch 62/200\n",
      "600/600 [==============================] - 2s 3ms/step - loss: 0.0683 - val_loss: 0.0684\n",
      "Epoch 63/200\n",
      "600/600 [==============================] - 1s 2ms/step - loss: 0.0684 - val_loss: 0.0683\n",
      "Epoch 64/200\n",
      "600/600 [==============================] - 1s 2ms/step - loss: 0.0684 - val_loss: 0.0683\n",
      "Epoch 65/200\n",
      "600/600 [==============================] - 1s 2ms/step - loss: 0.0681 - val_loss: 0.0682\n",
      "Epoch 66/200\n",
      "600/600 [==============================] - 2s 3ms/step - loss: 0.0681 - val_loss: 0.0682\n",
      "Epoch 67/200\n",
      "600/600 [==============================] - 1s 2ms/step - loss: 0.0681 - val_loss: 0.0681\n",
      "Epoch 68/200\n",
      "600/600 [==============================] - 1s 2ms/step - loss: 0.0680 - val_loss: 0.0681\n",
      "Epoch 69/200\n",
      "600/600 [==============================] - 1s 2ms/step - loss: 0.0680 - val_loss: 0.0680\n",
      "Epoch 70/200\n",
      "600/600 [==============================] - 1s 2ms/step - loss: 0.0679 - val_loss: 0.0680\n",
      "Epoch 71/200\n",
      "600/600 [==============================] - 2s 3ms/step - loss: 0.0679 - val_loss: 0.0679\n",
      "Epoch 72/200\n",
      "600/600 [==============================] - 2s 3ms/step - loss: 0.0678 - val_loss: 0.0678\n",
      "Epoch 73/200\n",
      "600/600 [==============================] - 1s 2ms/step - loss: 0.0677 - val_loss: 0.0678\n",
      "Epoch 74/200\n",
      "600/600 [==============================] - 2s 3ms/step - loss: 0.0678 - val_loss: 0.0677\n",
      "Epoch 75/200\n",
      "600/600 [==============================] - 2s 3ms/step - loss: 0.0675 - val_loss: 0.0677\n",
      "Epoch 76/200\n",
      "600/600 [==============================] - 1s 2ms/step - loss: 0.0675 - val_loss: 0.0676\n",
      "Epoch 77/200\n",
      "600/600 [==============================] - 1s 2ms/step - loss: 0.0677 - val_loss: 0.0676\n",
      "Epoch 78/200\n",
      "600/600 [==============================] - 2s 3ms/step - loss: 0.0673 - val_loss: 0.0675\n",
      "Epoch 79/200\n",
      "600/600 [==============================] - 1s 2ms/step - loss: 0.0673 - val_loss: 0.0674\n",
      "Epoch 80/200\n",
      "600/600 [==============================] - 1s 2ms/step - loss: 0.0673 - val_loss: 0.0674\n",
      "Epoch 81/200\n"
     ]
    },
    {
     "name": "stdout",
     "output_type": "stream",
     "text": [
      "600/600 [==============================] - 1s 2ms/step - loss: 0.0670 - val_loss: 0.0673\n",
      "Epoch 82/200\n",
      "600/600 [==============================] - 1s 2ms/step - loss: 0.0673 - val_loss: 0.0672\n",
      "Epoch 83/200\n",
      "600/600 [==============================] - 1s 2ms/step - loss: 0.0671 - val_loss: 0.0672\n",
      "Epoch 84/200\n",
      "600/600 [==============================] - 1s 2ms/step - loss: 0.0671 - val_loss: 0.0671\n",
      "Epoch 85/200\n",
      "600/600 [==============================] - 1s 2ms/step - loss: 0.0670 - val_loss: 0.0670\n",
      "Epoch 86/200\n",
      "600/600 [==============================] - 1s 2ms/step - loss: 0.0669 - val_loss: 0.0670\n",
      "Epoch 87/200\n",
      "600/600 [==============================] - 1s 2ms/step - loss: 0.0669 - val_loss: 0.0669\n",
      "Epoch 88/200\n",
      "600/600 [==============================] - 1s 2ms/step - loss: 0.0668 - val_loss: 0.0668\n",
      "Epoch 89/200\n",
      "600/600 [==============================] - 1s 2ms/step - loss: 0.0667 - val_loss: 0.0668\n",
      "Epoch 90/200\n",
      "600/600 [==============================] - 1s 2ms/step - loss: 0.0667 - val_loss: 0.0667\n",
      "Epoch 91/200\n",
      "600/600 [==============================] - 1s 2ms/step - loss: 0.0666 - val_loss: 0.0666\n",
      "Epoch 92/200\n",
      "600/600 [==============================] - 1s 2ms/step - loss: 0.0665 - val_loss: 0.0665\n",
      "Epoch 93/200\n",
      "600/600 [==============================] - 1s 2ms/step - loss: 0.0663 - val_loss: 0.0665\n",
      "Epoch 94/200\n",
      "600/600 [==============================] - 1s 2ms/step - loss: 0.0664 - val_loss: 0.0664\n",
      "Epoch 95/200\n",
      "600/600 [==============================] - 1s 2ms/step - loss: 0.0664 - val_loss: 0.0663\n",
      "Epoch 96/200\n",
      "600/600 [==============================] - 1s 2ms/step - loss: 0.0661 - val_loss: 0.0662\n",
      "Epoch 97/200\n",
      "600/600 [==============================] - 1s 2ms/step - loss: 0.0660 - val_loss: 0.0661\n",
      "Epoch 98/200\n",
      "600/600 [==============================] - 1s 2ms/step - loss: 0.0661 - val_loss: 0.0661\n",
      "Epoch 99/200\n",
      "600/600 [==============================] - 1s 2ms/step - loss: 0.0659 - val_loss: 0.0660\n",
      "Epoch 100/200\n",
      "600/600 [==============================] - 1s 2ms/step - loss: 0.0659 - val_loss: 0.0659\n",
      "Epoch 101/200\n",
      "600/600 [==============================] - 1s 2ms/step - loss: 0.0658 - val_loss: 0.0658\n",
      "Epoch 102/200\n",
      "600/600 [==============================] - 1s 2ms/step - loss: 0.0656 - val_loss: 0.0657\n",
      "Epoch 103/200\n",
      "600/600 [==============================] - 1s 2ms/step - loss: 0.0655 - val_loss: 0.0656\n",
      "Epoch 104/200\n",
      "600/600 [==============================] - 2s 3ms/step - loss: 0.0654 - val_loss: 0.0655\n",
      "Epoch 105/200\n",
      "600/600 [==============================] - 1s 2ms/step - loss: 0.0655 - val_loss: 0.0654\n",
      "Epoch 106/200\n",
      "600/600 [==============================] - 1s 2ms/step - loss: 0.0653 - val_loss: 0.0653\n",
      "Epoch 107/200\n",
      "600/600 [==============================] - 1s 2ms/step - loss: 0.0651 - val_loss: 0.0652\n",
      "Epoch 108/200\n",
      "600/600 [==============================] - 1s 2ms/step - loss: 0.0653 - val_loss: 0.0651\n",
      "Epoch 109/200\n",
      "600/600 [==============================] - 2s 3ms/step - loss: 0.0650 - val_loss: 0.0650\n",
      "Epoch 110/200\n",
      "600/600 [==============================] - 2s 3ms/step - loss: 0.0650 - val_loss: 0.0649\n",
      "Epoch 111/200\n",
      "600/600 [==============================] - 2s 3ms/step - loss: 0.0649 - val_loss: 0.0648\n",
      "Epoch 112/200\n",
      "600/600 [==============================] - 2s 3ms/step - loss: 0.0648 - val_loss: 0.0646\n",
      "Epoch 113/200\n",
      "600/600 [==============================] - 2s 3ms/step - loss: 0.0645 - val_loss: 0.0645\n",
      "Epoch 114/200\n",
      "600/600 [==============================] - 1s 2ms/step - loss: 0.0645 - val_loss: 0.0644\n",
      "Epoch 115/200\n",
      "600/600 [==============================] - 2s 3ms/step - loss: 0.0643 - val_loss: 0.0643\n",
      "Epoch 116/200\n",
      "600/600 [==============================] - 2s 3ms/step - loss: 0.0643 - val_loss: 0.0642\n",
      "Epoch 117/200\n",
      "600/600 [==============================] - 1s 2ms/step - loss: 0.0641 - val_loss: 0.0640\n",
      "Epoch 118/200\n",
      "600/600 [==============================] - 2s 3ms/step - loss: 0.0640 - val_loss: 0.0639\n",
      "Epoch 119/200\n",
      "600/600 [==============================] - 1s 2ms/step - loss: 0.0638 - val_loss: 0.0638\n",
      "Epoch 120/200\n",
      "600/600 [==============================] - 1s 2ms/step - loss: 0.0637 - val_loss: 0.0636\n",
      "Epoch 121/200\n",
      "600/600 [==============================] - 2s 3ms/step - loss: 0.0637 - val_loss: 0.0635\n",
      "Epoch 122/200\n",
      "600/600 [==============================] - 1s 2ms/step - loss: 0.0635 - val_loss: 0.0634\n",
      "Epoch 123/200\n",
      "600/600 [==============================] - 1s 2ms/step - loss: 0.0634 - val_loss: 0.0632\n",
      "Epoch 124/200\n",
      "600/600 [==============================] - 2s 3ms/step - loss: 0.0631 - val_loss: 0.0631\n",
      "Epoch 125/200\n",
      "600/600 [==============================] - 2s 3ms/step - loss: 0.0632 - val_loss: 0.0630\n",
      "Epoch 126/200\n",
      "600/600 [==============================] - 2s 3ms/step - loss: 0.0630 - val_loss: 0.0628\n",
      "Epoch 127/200\n",
      "600/600 [==============================] - 1s 2ms/step - loss: 0.0629 - val_loss: 0.0627\n",
      "Epoch 128/200\n",
      "600/600 [==============================] - 1s 2ms/step - loss: 0.0628 - val_loss: 0.0625\n",
      "Epoch 129/200\n",
      "600/600 [==============================] - 1s 2ms/step - loss: 0.0627 - val_loss: 0.0624\n",
      "Epoch 130/200\n",
      "600/600 [==============================] - 1s 2ms/step - loss: 0.0623 - val_loss: 0.0622\n",
      "Epoch 131/200\n",
      "600/600 [==============================] - 2s 3ms/step - loss: 0.0625 - val_loss: 0.0621\n",
      "Epoch 132/200\n",
      "600/600 [==============================] - 1s 2ms/step - loss: 0.0621 - val_loss: 0.0620\n",
      "Epoch 133/200\n",
      "600/600 [==============================] - 1s 2ms/step - loss: 0.0621 - val_loss: 0.0618\n",
      "Epoch 134/200\n",
      "600/600 [==============================] - 1s 2ms/step - loss: 0.0618 - val_loss: 0.0617\n",
      "Epoch 135/200\n",
      "600/600 [==============================] - 1s 2ms/step - loss: 0.0619 - val_loss: 0.0615\n",
      "Epoch 136/200\n",
      "600/600 [==============================] - 1s 2ms/step - loss: 0.0618 - val_loss: 0.0614\n",
      "Epoch 137/200\n",
      "600/600 [==============================] - 1s 2ms/step - loss: 0.0613 - val_loss: 0.0612\n",
      "Epoch 138/200\n",
      "600/600 [==============================] - 1s 2ms/step - loss: 0.0612 - val_loss: 0.0611\n",
      "Epoch 139/200\n",
      "600/600 [==============================] - 1s 2ms/step - loss: 0.0611 - val_loss: 0.0609\n",
      "Epoch 140/200\n",
      "600/600 [==============================] - 1s 2ms/step - loss: 0.0611 - val_loss: 0.0608\n",
      "Epoch 141/200\n",
      "600/600 [==============================] - 1s 2ms/step - loss: 0.0608 - val_loss: 0.0606\n",
      "Epoch 142/200\n",
      "600/600 [==============================] - 1s 2ms/step - loss: 0.0607 - val_loss: 0.0605\n",
      "Epoch 143/200\n",
      "600/600 [==============================] - 1s 2ms/step - loss: 0.0607 - val_loss: 0.0603\n",
      "Epoch 144/200\n",
      "600/600 [==============================] - 1s 2ms/step - loss: 0.0604 - val_loss: 0.0602\n",
      "Epoch 145/200\n",
      "600/600 [==============================] - 2s 3ms/step - loss: 0.0603 - val_loss: 0.0600\n",
      "Epoch 146/200\n",
      "600/600 [==============================] - 1s 2ms/step - loss: 0.0601 - val_loss: 0.0599\n",
      "Epoch 147/200\n",
      "600/600 [==============================] - 1s 2ms/step - loss: 0.0600 - val_loss: 0.0598\n",
      "Epoch 148/200\n",
      "600/600 [==============================] - 1s 2ms/step - loss: 0.0598 - val_loss: 0.0596\n",
      "Epoch 149/200\n",
      "600/600 [==============================] - 1s 2ms/step - loss: 0.0598 - val_loss: 0.0595\n",
      "Epoch 150/200\n",
      "600/600 [==============================] - 1s 2ms/step - loss: 0.0596 - val_loss: 0.0593\n",
      "Epoch 151/200\n",
      "600/600 [==============================] - 1s 2ms/step - loss: 0.0595 - val_loss: 0.0592\n",
      "Epoch 152/200\n",
      "600/600 [==============================] - 1s 2ms/step - loss: 0.0593 - val_loss: 0.0590\n",
      "Epoch 153/200\n",
      "600/600 [==============================] - 1s 2ms/step - loss: 0.0592 - val_loss: 0.0589\n",
      "Epoch 154/200\n",
      "600/600 [==============================] - 1s 2ms/step - loss: 0.0591 - val_loss: 0.0588\n",
      "Epoch 155/200\n",
      "600/600 [==============================] - 1s 2ms/step - loss: 0.0589 - val_loss: 0.0586\n",
      "Epoch 156/200\n",
      "600/600 [==============================] - 1s 2ms/step - loss: 0.0588 - val_loss: 0.0585\n",
      "Epoch 157/200\n",
      "600/600 [==============================] - 1s 2ms/step - loss: 0.0585 - val_loss: 0.0583\n",
      "Epoch 158/200\n",
      "600/600 [==============================] - 1s 2ms/step - loss: 0.0586 - val_loss: 0.0582\n",
      "Epoch 159/200\n",
      "600/600 [==============================] - 1s 2ms/step - loss: 0.0584 - val_loss: 0.0581\n",
      "Epoch 160/200\n",
      "600/600 [==============================] - 1s 2ms/step - loss: 0.0584 - val_loss: 0.0579\n"
     ]
    },
    {
     "name": "stdout",
     "output_type": "stream",
     "text": [
      "Epoch 161/200\n",
      "600/600 [==============================] - 1s 2ms/step - loss: 0.0581 - val_loss: 0.0578\n",
      "Epoch 162/200\n",
      "600/600 [==============================] - 1s 2ms/step - loss: 0.0580 - val_loss: 0.0577\n",
      "Epoch 163/200\n",
      "600/600 [==============================] - 1s 2ms/step - loss: 0.0580 - val_loss: 0.0575\n",
      "Epoch 164/200\n",
      "600/600 [==============================] - 1s 2ms/step - loss: 0.0577 - val_loss: 0.0574\n",
      "Epoch 165/200\n",
      "600/600 [==============================] - 1s 2ms/step - loss: 0.0577 - val_loss: 0.0573\n",
      "Epoch 166/200\n",
      "600/600 [==============================] - 1s 2ms/step - loss: 0.0575 - val_loss: 0.0571\n",
      "Epoch 167/200\n",
      "600/600 [==============================] - 1s 2ms/step - loss: 0.0573 - val_loss: 0.0570\n",
      "Epoch 168/200\n",
      "600/600 [==============================] - 1s 2ms/step - loss: 0.0572 - val_loss: 0.0569\n",
      "Epoch 169/200\n",
      "600/600 [==============================] - 1s 2ms/step - loss: 0.0571 - val_loss: 0.0567\n",
      "Epoch 170/200\n",
      "600/600 [==============================] - 1s 2ms/step - loss: 0.0570 - val_loss: 0.0566\n",
      "Epoch 171/200\n",
      "600/600 [==============================] - 1s 2ms/step - loss: 0.0570 - val_loss: 0.0565\n",
      "Epoch 172/200\n",
      "600/600 [==============================] - 1s 2ms/step - loss: 0.0568 - val_loss: 0.0563\n",
      "Epoch 173/200\n",
      "600/600 [==============================] - 1s 2ms/step - loss: 0.0567 - val_loss: 0.0562\n",
      "Epoch 174/200\n",
      "600/600 [==============================] - 1s 2ms/step - loss: 0.0564 - val_loss: 0.0561\n",
      "Epoch 175/200\n",
      "600/600 [==============================] - 1s 2ms/step - loss: 0.0564 - val_loss: 0.0560\n",
      "Epoch 176/200\n",
      "600/600 [==============================] - 1s 2ms/step - loss: 0.0563 - val_loss: 0.0559\n",
      "Epoch 177/200\n",
      "600/600 [==============================] - 1s 2ms/step - loss: 0.0560 - val_loss: 0.0557\n",
      "Epoch 178/200\n",
      "600/600 [==============================] - 1s 2ms/step - loss: 0.0559 - val_loss: 0.0556\n",
      "Epoch 179/200\n",
      "600/600 [==============================] - 1s 2ms/step - loss: 0.0559 - val_loss: 0.0555\n",
      "Epoch 180/200\n",
      "600/600 [==============================] - 1s 2ms/step - loss: 0.0557 - val_loss: 0.0554\n",
      "Epoch 181/200\n",
      "600/600 [==============================] - 1s 2ms/step - loss: 0.0556 - val_loss: 0.0552\n",
      "Epoch 182/200\n",
      "600/600 [==============================] - 1s 2ms/step - loss: 0.0555 - val_loss: 0.0551\n",
      "Epoch 183/200\n",
      "600/600 [==============================] - 1s 2ms/step - loss: 0.0556 - val_loss: 0.0550\n",
      "Epoch 184/200\n",
      "600/600 [==============================] - 1s 2ms/step - loss: 0.0552 - val_loss: 0.0549\n",
      "Epoch 185/200\n",
      "600/600 [==============================] - 1s 2ms/step - loss: 0.0553 - val_loss: 0.0548\n",
      "Epoch 186/200\n",
      "600/600 [==============================] - 1s 2ms/step - loss: 0.0551 - val_loss: 0.0547\n",
      "Epoch 187/200\n",
      "600/600 [==============================] - 1s 2ms/step - loss: 0.0549 - val_loss: 0.0545\n",
      "Epoch 188/200\n",
      "600/600 [==============================] - 1s 2ms/step - loss: 0.0547 - val_loss: 0.0544\n",
      "Epoch 189/200\n",
      "600/600 [==============================] - 2s 3ms/step - loss: 0.0548 - val_loss: 0.0543\n",
      "Epoch 190/200\n",
      "600/600 [==============================] - 1s 2ms/step - loss: 0.0547 - val_loss: 0.0542\n",
      "Epoch 191/200\n",
      "600/600 [==============================] - 1s 2ms/step - loss: 0.0545 - val_loss: 0.0541\n",
      "Epoch 192/200\n",
      "600/600 [==============================] - 1s 2ms/step - loss: 0.0545 - val_loss: 0.0540\n",
      "Epoch 193/200\n",
      "600/600 [==============================] - 1s 2ms/step - loss: 0.0544 - val_loss: 0.0538\n",
      "Epoch 194/200\n",
      "600/600 [==============================] - 1s 2ms/step - loss: 0.0543 - val_loss: 0.0537\n",
      "Epoch 195/200\n",
      "600/600 [==============================] - 1s 2ms/step - loss: 0.0542 - val_loss: 0.0536\n",
      "Epoch 196/200\n",
      "600/600 [==============================] - 1s 2ms/step - loss: 0.0540 - val_loss: 0.0535\n",
      "Epoch 197/200\n",
      "600/600 [==============================] - 1s 2ms/step - loss: 0.0539 - val_loss: 0.0534\n",
      "Epoch 198/200\n",
      "600/600 [==============================] - 1s 2ms/step - loss: 0.0539 - val_loss: 0.0533\n",
      "Epoch 199/200\n",
      "600/600 [==============================] - 1s 2ms/step - loss: 0.0537 - val_loss: 0.0531\n",
      "Epoch 200/200\n",
      "600/600 [==============================] - 1s 2ms/step - loss: 0.0535 - val_loss: 0.0530\n"
     ]
    }
   ],
   "source": [
    "history64_sig = model_digits64_sig.fit(x_train, x_train, \n",
    "                                       validation_data=(x_test, x_test), \n",
    "                                       epochs=200, batch_size=100, verbose=1)"
   ]
  },
  {
   "cell_type": "code",
   "execution_count": 60,
   "metadata": {
    "colab": {
     "base_uri": "https://localhost:8080/",
     "height": 350
    },
    "colab_type": "code",
    "id": "dQFxJHtbR2RV",
    "outputId": "2d6bf216-76bc-4e05-9638-f998e2f932c0"
   },
   "outputs": [
    {
     "data": {
      "text/plain": [
       "Text(0.5, 0, 'iteration')"
      ]
     },
     "execution_count": 60,
     "metadata": {},
     "output_type": "execute_result"
    },
    {
     "data": {
      "image/png": "[encoded data removed]",
      "text/plain": [
       "<Figure size 720x360 with 1 Axes>"
      ]
     },
     "metadata": {
      "needs_background": "light"
     },
     "output_type": "display_data"
    }
   ],
   "source": [
    "pl.plot(np.array(history64_sig.history['loss']))\n",
    "pl.ylabel('loss')\n",
    "pl.xlabel('iteration')\n",
    "#pl.yscale('log')\n",
    "#pl.xscale('log')"
   ]
  },
  {
   "cell_type": "markdown",
   "metadata": {
    "colab_type": "text",
    "id": "ZipOD2qLNYQq"
   },
   "source": [
    "The loss fuctionis plotted and because it is still decreasingn quite rapidly (slope of the curve not near 0 yet) I know I did not run enough epochs. Try and run for 200 epochs!"
   ]
  },
  {
   "cell_type": "code",
   "execution_count": 61,
   "metadata": {
    "colab": {
     "base_uri": "https://localhost:8080/",
     "height": 1000
    },
    "colab_type": "code",
    "id": "1yOJ8s_xR2L3",
    "outputId": "c0e070b0-13ed-491a-9b68-203b144303fc"
   },
   "outputs": [
    {
     "data": {
      "image/png": "[encoded data removed]",
      "text/plain": [
       "<Figure size 720x360 with 2 Axes>"
      ]
     },
     "metadata": {
      "needs_background": "light"
     },
     "output_type": "display_data"
    },
    {
     "data": {
      "image/png": "[encoded data removed]",
      "text/plain": [
       "<Figure size 720x360 with 2 Axes>"
      ]
     },
     "metadata": {
      "needs_background": "light"
     },
     "output_type": "display_data"
    },
    {
     "data": {
      "image/png": "[encoded data removed]",
      "text/plain": [
       "<Figure size 720x360 with 2 Axes>"
      ]
     },
     "metadata": {
      "needs_background": "light"
     },
     "output_type": "display_data"
    },
    {
     "data": {
      "image/png": "[encoded data removed]",
      "text/plain": [
       "<Figure size 720x360 with 2 Axes>"
      ]
     },
     "metadata": {
      "needs_background": "light"
     },
     "output_type": "display_data"
    },
    {
     "data": {
      "image/png": "[encoded data removed]",
      "text/plain": [
       "<Figure size 720x360 with 2 Axes>"
      ]
     },
     "metadata": {
      "needs_background": "light"
     },
     "output_type": "display_data"
    },
    {
     "data": {
      "image/png": "[encoded data removed]",
      "text/plain": [
       "<Figure size 720x360 with 2 Axes>"
      ]
     },
     "metadata": {
      "needs_background": "light"
     },
     "output_type": "display_data"
    },
    {
     "data": {
      "image/png": "[encoded data removed]",
      "text/plain": [
       "<Figure size 720x360 with 2 Axes>"
      ]
     },
     "metadata": {
      "needs_background": "light"
     },
     "output_type": "display_data"
    },
    {
     "data": {
      "image/png": "[encoded data removed]",
      "text/plain": [
       "<Figure size 720x360 with 2 Axes>"
      ]
     },
     "metadata": {
      "needs_background": "light"
     },
     "output_type": "display_data"
    },
    {
     "data": {
      "image/png": "[encoded data removed]",
      "text/plain": [
       "<Figure size 720x360 with 2 Axes>"
      ]
     },
     "metadata": {
      "needs_background": "light"
     },
     "output_type": "display_data"
    },
    {
     "data": {
      "image/png": "[encoded data removed]",
      "text/plain": [
       "<Figure size 720x360 with 2 Axes>"
      ]
     },
     "metadata": {
      "needs_background": "light"
     },
     "output_type": "display_data"
    }
   ],
   "source": [
    "output_image64_sig = model_digits64_sig.predict(x_test)\n",
    "for i in range(10):\n",
    "  compareinout(i, output_image64_sig, x_test)"
   ]
  },
  {
   "cell_type": "markdown",
   "metadata": {
    "colab_type": "text",
    "id": "7A14pdeQNOb8"
   },
   "source": [
    "Much better! Let me choose a loss function that is more appropriate for a nbinary classificaton."
   ]
  },
  {
   "cell_type": "code",
   "execution_count": 62,
   "metadata": {
    "colab": {},
    "colab_type": "code",
    "id": "mBCGc4CLTXJ9"
   },
   "outputs": [],
   "source": [
    "# sigmoid and binary cross entropy loss\n",
    "model_digits64_bce = model_digits64_sig"
   ]
  },
  {
   "cell_type": "code",
   "execution_count": 63,
   "metadata": {
    "colab": {
     "base_uri": "https://localhost:8080/",
     "height": 683
    },
    "colab_type": "code",
    "id": "ZH8X_lDVTlCs",
    "outputId": "0fd22cbf-3321-4a1a-ecbe-19464257a497"
   },
   "outputs": [
    {
     "name": "stdout",
     "output_type": "stream",
     "text": [
      "Epoch 1/20\n",
      "600/600 [==============================] - 2s 3ms/step - loss: 0.2363 - val_loss: 0.2318\n",
      "Epoch 2/20\n",
      "600/600 [==============================] - 2s 3ms/step - loss: 0.2327 - val_loss: 0.2299\n",
      "Epoch 3/20\n",
      "600/600 [==============================] - 2s 3ms/step - loss: 0.2314 - val_loss: 0.2284\n",
      "Epoch 4/20\n",
      "600/600 [==============================] - 2s 3ms/step - loss: 0.2298 - val_loss: 0.2272\n",
      "Epoch 5/20\n",
      "600/600 [==============================] - 2s 3ms/step - loss: 0.2284 - val_loss: 0.2261\n",
      "Epoch 6/20\n",
      "600/600 [==============================] - 1s 2ms/step - loss: 0.2274 - val_loss: 0.2250\n",
      "Epoch 7/20\n",
      "600/600 [==============================] - 2s 3ms/step - loss: 0.2262 - val_loss: 0.2240\n",
      "Epoch 8/20\n",
      "600/600 [==============================] - 1s 2ms/step - loss: 0.2255 - val_loss: 0.2230\n",
      "Epoch 9/20\n",
      "600/600 [==============================] - 1s 2ms/step - loss: 0.2245 - val_loss: 0.2220\n",
      "Epoch 10/20\n",
      "600/600 [==============================] - 1s 2ms/step - loss: 0.2234 - val_loss: 0.2210\n",
      "Epoch 11/20\n",
      "600/600 [==============================] - 1s 2ms/step - loss: 0.2224 - val_loss: 0.2200\n",
      "Epoch 12/20\n",
      "600/600 [==============================] - 1s 2ms/step - loss: 0.2218 - val_loss: 0.2191\n",
      "Epoch 13/20\n",
      "600/600 [==============================] - 1s 2ms/step - loss: 0.2204 - val_loss: 0.2181\n",
      "Epoch 14/20\n",
      "600/600 [==============================] - 1s 2ms/step - loss: 0.2199 - val_loss: 0.2172\n",
      "Epoch 15/20\n",
      "600/600 [==============================] - 1s 2ms/step - loss: 0.2192 - val_loss: 0.2163\n",
      "Epoch 16/20\n",
      "600/600 [==============================] - 1s 2ms/step - loss: 0.2181 - val_loss: 0.2154\n",
      "Epoch 17/20\n",
      "600/600 [==============================] - 1s 2ms/step - loss: 0.2167 - val_loss: 0.2145\n",
      "Epoch 18/20\n",
      "600/600 [==============================] - 1s 2ms/step - loss: 0.2164 - val_loss: 0.2137\n",
      "Epoch 19/20\n",
      "600/600 [==============================] - 1s 2ms/step - loss: 0.2151 - val_loss: 0.2128\n",
      "Epoch 20/20\n",
      "600/600 [==============================] - 1s 2ms/step - loss: 0.2146 - val_loss: 0.2119\n"
     ]
    }
   ],
   "source": [
    "# model_digits64_bce.compile(optimizer=\"adadelta\", loss=\"binary_crossentropy\")\n",
    "model_digits64_bce.compile(optimizer = keras.optimizers.Adadelta(lr=0.01), loss=\"binary_crossentropy\")\n",
    "history64_bce = model_digits64_bce.fit(x_train, x_train, \n",
    "                                       validation_data=(x_test, x_test), \n",
    "                                       epochs=20, batch_size=100, verbose=1)"
   ]
  },
  {
   "cell_type": "code",
   "execution_count": 64,
   "metadata": {
    "colab": {
     "base_uri": "https://localhost:8080/",
     "height": 350
    },
    "colab_type": "code",
    "id": "g94anP0NT4ET",
    "outputId": "9a910449-f1cc-4cfd-c3f9-09108d38a4b8"
   },
   "outputs": [
    {
     "data": {
      "text/plain": [
       "Text(0.5, 0, 'iteration')"
      ]
     },
     "execution_count": 64,
     "metadata": {},
     "output_type": "execute_result"
    },
    {
     "data": {
      "image/png": "[encoded data removed]",
      "text/plain": [
       "<Figure size 720x360 with 1 Axes>"
      ]
     },
     "metadata": {
      "needs_background": "light"
     },
     "output_type": "display_data"
    }
   ],
   "source": [
    "pl.plot(np.array(history64_bce.history['loss']))\n",
    "pl.ylabel('loss')\n",
    "pl.xlabel('iteration')\n",
    "#pl.yscale('log')\n",
    "#pl.xscale('log')"
   ]
  },
  {
   "cell_type": "markdown",
   "metadata": {
    "colab_type": "text",
    "id": "q4jlTB2zN_0Y"
   },
   "source": [
    "This loss fuction is also decreasing to steeply. Too few epochs!"
   ]
  },
  {
   "cell_type": "code",
   "execution_count": 65,
   "metadata": {
    "colab": {
     "base_uri": "https://localhost:8080/",
     "height": 1000
    },
    "colab_type": "code",
    "id": "_HuqPELWT380",
    "outputId": "386f4449-6f94-4d0b-f986-f650db428325"
   },
   "outputs": [
    {
     "data": {
      "image/png": "[encoded data removed]",
      "text/plain": [
       "<Figure size 720x360 with 2 Axes>"
      ]
     },
     "metadata": {
      "needs_background": "light"
     },
     "output_type": "display_data"
    },
    {
     "data": {
      "image/png": "[encoded data removed]",
      "text/plain": [
       "<Figure size 720x360 with 2 Axes>"
      ]
     },
     "metadata": {
      "needs_background": "light"
     },
     "output_type": "display_data"
    },
    {
     "data": {
      "image/png": "[encoded data removed]",
      "text/plain": [
       "<Figure size 720x360 with 2 Axes>"
      ]
     },
     "metadata": {
      "needs_background": "light"
     },
     "output_type": "display_data"
    },
    {
     "data": {
      "image/png": "[encoded data removed]",
      "text/plain": [
       "<Figure size 720x360 with 2 Axes>"
      ]
     },
     "metadata": {
      "needs_background": "light"
     },
     "output_type": "display_data"
    },
    {
     "data": {
      "image/png": "[encoded data removed]",
      "text/plain": [
       "<Figure size 720x360 with 2 Axes>"
      ]
     },
     "metadata": {
      "needs_background": "light"
     },
     "output_type": "display_data"
    },
    {
     "data": {
      "image/png": "[encoded data removed]",
      "text/plain": [
       "<Figure size 720x360 with 2 Axes>"
      ]
     },
     "metadata": {
      "needs_background": "light"
     },
     "output_type": "display_data"
    },
    {
     "data": {
      "image/png": "[encoded data removed]",
      "text/plain": [
       "<Figure size 720x360 with 2 Axes>"
      ]
     },
     "metadata": {
      "needs_background": "light"
     },
     "output_type": "display_data"
    },
    {
     "data": {
      "image/png": "[encoded data removed]",
      "text/plain": [
       "<Figure size 720x360 with 2 Axes>"
      ]
     },
     "metadata": {
      "needs_background": "light"
     },
     "output_type": "display_data"
    },
    {
     "data": {
      "image/png": "[encoded data removed]",
      "text/plain": [
       "<Figure size 720x360 with 2 Axes>"
      ]
     },
     "metadata": {
      "needs_background": "light"
     },
     "output_type": "display_data"
    },
    {
     "data": {
      "image/png": "[encoded data removed]",
      "text/plain": [
       "<Figure size 720x360 with 2 Axes>"
      ]
     },
     "metadata": {
      "needs_background": "light"
     },
     "output_type": "display_data"
    }
   ],
   "source": [
    "output_image64_bce = model_digits64_bce.predict(x_test)\n",
    "for i in range(10):\n",
    "  compareinout(i, output_image64_bce, x_test)"
   ]
  },
  {
   "cell_type": "markdown",
   "metadata": {
    "colab_type": "text",
    "id": "OvSx1rU4OHrp"
   },
   "source": [
    "This is a pretty good result!"
   ]
  },
  {
   "cell_type": "code",
   "execution_count": 66,
   "metadata": {
    "colab": {
     "base_uri": "https://localhost:8080/",
     "height": 702
    },
    "colab_type": "code",
    "id": "5yWtDsH3T30C",
    "outputId": "82f5a425-2780-4787-8c8e-ea646120d2ef"
   },
   "outputs": [
    {
     "data": {
      "text/plain": [
       "Text(0.5, 1.0, 'the 3 loss functions, log scale')"
      ]
     },
     "execution_count": 66,
     "metadata": {},
     "output_type": "execute_result"
    },
    {
     "data": {
      "image/png": "[encoded data removed]",
      "text/plain": [
       "<Figure size 720x360 with 1 Axes>"
      ]
     },
     "metadata": {
      "needs_background": "light"
     },
     "output_type": "display_data"
    },
    {
     "data": {
      "image/png": "[encoded data removed]",
      "text/plain": [
       "<Figure size 720x360 with 1 Axes>"
      ]
     },
     "metadata": {
      "needs_background": "light"
     },
     "output_type": "display_data"
    }
   ],
   "source": [
    "pl.plot(np.array(history64.history['loss']), label=\"linear\")\n",
    "pl.plot(np.array(history64_sig.history['loss']), label=\"sigmoid\")\n",
    "pl.plot(np.array(history64_bce.history['loss']), label=\"bce\")\n",
    "pl.ylabel('loss')\n",
    "pl.xlabel('iteration')\n",
    "pl.legend()\n",
    "pl.title(\"the 3 loss functions\")\n",
    "pl.figure()\n",
    "pl.plot(np.array(history64.history['loss']), label=\"linear\")\n",
    "pl.plot(np.array(history64_sig.history['loss']), label=\"sigmoid\")\n",
    "pl.plot(np.array(history64_bce.history['loss']), label=\"bce\")\n",
    "pl.ylabel('loss')\n",
    "pl.xlabel('iteration')\n",
    "pl.xscale('log')\n",
    "pl.yscale('log')\n",
    "pl.legend()\n",
    "pl.title(\"the 3 loss functions, log scale\")"
   ]
  },
  {
   "cell_type": "markdown",
   "metadata": {
    "colab_type": "text",
    "id": "tXbrVpAUOeJF"
   },
   "source": [
    "All loss functions plotted: topin natural, bottomin logscale for enhanced visibility. It does not look like any of them is done learning (all decreasing rapidly still), especially the one for the the sigmoid-based mean square error loss."
   ]
  },
  {
   "cell_type": "markdown",
   "metadata": {
    "colab_type": "text",
    "id": "tWUnoBqkKg9K"
   },
   "source": [
    "# try more compression\n",
    "\n",
    "Now we shrink the bottle neck to 16 neurons: a much more ambitions model!"
   ]
  },
  {
   "cell_type": "code",
   "execution_count": 67,
   "metadata": {
    "colab": {},
    "colab_type": "code",
    "id": "IXbjHrYSfwIP"
   },
   "outputs": [],
   "source": [
    "model_digits = Sequential()\n",
    "#encoder\n",
    "model_digits.add(Dense(128, activation='relu', input_dim=ndim))\n",
    "model_digits.add(Dense(64, activation='relu'))\n",
    "model_digits.add(Dense(32, activation='relu'))\n",
    "#bottle neck\n",
    "model_digits.add(Dense(16, activation='relu'))\n",
    "#decoder\n",
    "model_digits.add(Dense(32, activation='relu'))\n",
    "model_digits.add(Dense(64, activation='relu'))\n",
    "model_digits.add(Dense(128, activation='relu'))\n",
    "model_digits.add(Dense(ndim, activation='sigmoid'))\n"
   ]
  },
  {
   "cell_type": "code",
   "execution_count": 68,
   "metadata": {
    "colab": {},
    "colab_type": "code",
    "id": "K6lGMsQki6RC"
   },
   "outputs": [],
   "source": [
    "# model_digits.compile(optimizer=\"adadelta\", loss=\"binary_crossentropy\")\n",
    "model_digits.compile(optimizer = keras.optimizers.Adadelta(lr=0.01), loss=\"binary_crossentropy\")"
   ]
  },
  {
   "cell_type": "code",
   "execution_count": 69,
   "metadata": {
    "colab": {
     "base_uri": "https://localhost:8080/",
     "height": 423
    },
    "colab_type": "code",
    "id": "6QXiwgL0kPsy",
    "outputId": "76f66256-5621-4322-9972-65d0f853eddd"
   },
   "outputs": [
    {
     "name": "stdout",
     "output_type": "stream",
     "text": [
      "Model: \"sequential_6\"\n",
      "_________________________________________________________________\n",
      "Layer (type)                 Output Shape              Param #   \n",
      "=================================================================\n",
      "dense_28 (Dense)             (None, 128)               100480    \n",
      "_________________________________________________________________\n",
      "dense_29 (Dense)             (None, 64)                8256      \n",
      "_________________________________________________________________\n",
      "dense_30 (Dense)             (None, 32)                2080      \n",
      "_________________________________________________________________\n",
      "dense_31 (Dense)             (None, 16)                528       \n",
      "_________________________________________________________________\n",
      "dense_32 (Dense)             (None, 32)                544       \n",
      "_________________________________________________________________\n",
      "dense_33 (Dense)             (None, 64)                2112      \n",
      "_________________________________________________________________\n",
      "dense_34 (Dense)             (None, 128)               8320      \n",
      "_________________________________________________________________\n",
      "dense_35 (Dense)             (None, 784)               101136    \n",
      "=================================================================\n",
      "Total params: 223,456\n",
      "Trainable params: 223,456\n",
      "Non-trainable params: 0\n",
      "_________________________________________________________________\n",
      "None\n"
     ]
    }
   ],
   "source": [
    "print(model_digits.summary())"
   ]
  },
  {
   "cell_type": "code",
   "execution_count": 70,
   "metadata": {
    "colab": {
     "base_uri": "https://localhost:8080/",
     "height": 1000
    },
    "colab_type": "code",
    "id": "65mlyV5hj8Od",
    "outputId": "11dcb931-5d61-47cd-e030-78a5115efab4"
   },
   "outputs": [
    {
     "name": "stdout",
     "output_type": "stream",
     "text": [
      "Epoch 1/200\n",
      "600/600 [==============================] - 2s 2ms/step - loss: 0.6927\n",
      "Epoch 2/200\n",
      "600/600 [==============================] - 1s 2ms/step - loss: 0.6910\n",
      "Epoch 3/200\n",
      "600/600 [==============================] - 1s 2ms/step - loss: 0.6892\n",
      "Epoch 4/200\n",
      "600/600 [==============================] - 1s 2ms/step - loss: 0.6869\n",
      "Epoch 5/200\n",
      "600/600 [==============================] - 1s 2ms/step - loss: 0.6831\n",
      "Epoch 6/200\n",
      "600/600 [==============================] - 1s 2ms/step - loss: 0.6727\n",
      "Epoch 7/200\n",
      "600/600 [==============================] - 1s 2ms/step - loss: 0.6004\n",
      "Epoch 8/200\n",
      "600/600 [==============================] - 1s 2ms/step - loss: 0.3380\n",
      "Epoch 9/200\n",
      "600/600 [==============================] - 1s 2ms/step - loss: 0.2806\n",
      "Epoch 10/200\n",
      "600/600 [==============================] - 1s 2ms/step - loss: 0.2746\n",
      "Epoch 11/200\n",
      "600/600 [==============================] - 1s 2ms/step - loss: 0.2715\n",
      "Epoch 12/200\n",
      "600/600 [==============================] - 1s 2ms/step - loss: 0.2703\n",
      "Epoch 13/200\n",
      "600/600 [==============================] - 1s 2ms/step - loss: 0.2687\n",
      "Epoch 14/200\n",
      "600/600 [==============================] - 1s 2ms/step - loss: 0.2683\n",
      "Epoch 15/200\n",
      "600/600 [==============================] - 1s 2ms/step - loss: 0.2672\n",
      "Epoch 16/200\n",
      "600/600 [==============================] - 1s 2ms/step - loss: 0.2657\n",
      "Epoch 17/200\n",
      "600/600 [==============================] - 1s 2ms/step - loss: 0.2653\n",
      "Epoch 18/200\n",
      "600/600 [==============================] - 1s 2ms/step - loss: 0.2647\n",
      "Epoch 19/200\n",
      "600/600 [==============================] - 1s 2ms/step - loss: 0.2642\n",
      "Epoch 20/200\n",
      "600/600 [==============================] - 2s 3ms/step - loss: 0.2644\n",
      "Epoch 21/200\n",
      "600/600 [==============================] - 2s 3ms/step - loss: 0.2632\n",
      "Epoch 22/200\n",
      "600/600 [==============================] - 1s 2ms/step - loss: 0.2635\n",
      "Epoch 23/200\n",
      "600/600 [==============================] - 1s 2ms/step - loss: 0.2623\n",
      "Epoch 24/200\n",
      "600/600 [==============================] - 1s 2ms/step - loss: 0.2625\n",
      "Epoch 25/200\n",
      "600/600 [==============================] - 1s 2ms/step - loss: 0.2617\n",
      "Epoch 26/200\n",
      "600/600 [==============================] - 1s 2ms/step - loss: 0.2616\n",
      "Epoch 27/200\n",
      "600/600 [==============================] - 1s 2ms/step - loss: 0.2613\n",
      "Epoch 28/200\n",
      "600/600 [==============================] - 1s 2ms/step - loss: 0.2609\n",
      "Epoch 29/200\n",
      "600/600 [==============================] - 1s 2ms/step - loss: 0.2602\n",
      "Epoch 30/200\n",
      "600/600 [==============================] - 1s 2ms/step - loss: 0.2598\n",
      "Epoch 31/200\n",
      "600/600 [==============================] - 1s 2ms/step - loss: 0.2590\n",
      "Epoch 32/200\n",
      "600/600 [==============================] - 1s 2ms/step - loss: 0.2588\n",
      "Epoch 33/200\n",
      "600/600 [==============================] - 1s 2ms/step - loss: 0.2587\n",
      "Epoch 34/200\n",
      "600/600 [==============================] - 1s 2ms/step - loss: 0.2581\n",
      "Epoch 35/200\n",
      "600/600 [==============================] - 1s 2ms/step - loss: 0.2578\n",
      "Epoch 36/200\n",
      "600/600 [==============================] - 1s 2ms/step - loss: 0.2575\n",
      "Epoch 37/200\n",
      "600/600 [==============================] - 1s 2ms/step - loss: 0.2569\n",
      "Epoch 38/200\n",
      "600/600 [==============================] - 1s 2ms/step - loss: 0.2563\n",
      "Epoch 39/200\n",
      "600/600 [==============================] - 1s 2ms/step - loss: 0.2567\n",
      "Epoch 40/200\n",
      "600/600 [==============================] - 1s 2ms/step - loss: 0.2562\n",
      "Epoch 41/200\n",
      "600/600 [==============================] - 1s 2ms/step - loss: 0.2564\n",
      "Epoch 42/200\n",
      "600/600 [==============================] - 1s 2ms/step - loss: 0.2556\n",
      "Epoch 43/200\n",
      "600/600 [==============================] - 1s 2ms/step - loss: 0.2553\n",
      "Epoch 44/200\n",
      "600/600 [==============================] - 1s 2ms/step - loss: 0.2547\n",
      "Epoch 45/200\n",
      "600/600 [==============================] - 1s 2ms/step - loss: 0.2551\n",
      "Epoch 46/200\n",
      "600/600 [==============================] - 1s 2ms/step - loss: 0.2542\n",
      "Epoch 47/200\n",
      "600/600 [==============================] - 1s 2ms/step - loss: 0.2543\n",
      "Epoch 48/200\n",
      "600/600 [==============================] - 1s 2ms/step - loss: 0.2537\n",
      "Epoch 49/200\n",
      "600/600 [==============================] - 1s 2ms/step - loss: 0.2536\n",
      "Epoch 50/200\n",
      "600/600 [==============================] - 1s 2ms/step - loss: 0.2536\n",
      "Epoch 51/200\n",
      "600/600 [==============================] - 1s 2ms/step - loss: 0.2536\n",
      "Epoch 52/200\n",
      "600/600 [==============================] - 1s 2ms/step - loss: 0.2530\n",
      "Epoch 53/200\n",
      "600/600 [==============================] - 1s 2ms/step - loss: 0.2527\n",
      "Epoch 54/200\n",
      "600/600 [==============================] - 1s 2ms/step - loss: 0.2525\n",
      "Epoch 55/200\n",
      "600/600 [==============================] - 1s 2ms/step - loss: 0.2521\n",
      "Epoch 56/200\n",
      "600/600 [==============================] - 1s 2ms/step - loss: 0.2520\n",
      "Epoch 57/200\n",
      "600/600 [==============================] - 1s 2ms/step - loss: 0.2524\n",
      "Epoch 58/200\n",
      "600/600 [==============================] - 1s 2ms/step - loss: 0.2519\n",
      "Epoch 59/200\n",
      "600/600 [==============================] - 1s 2ms/step - loss: 0.2513\n",
      "Epoch 60/200\n",
      "600/600 [==============================] - 1s 2ms/step - loss: 0.2519\n",
      "Epoch 61/200\n",
      "600/600 [==============================] - 1s 2ms/step - loss: 0.2513\n",
      "Epoch 62/200\n",
      "600/600 [==============================] - 1s 2ms/step - loss: 0.2516\n",
      "Epoch 63/200\n",
      "600/600 [==============================] - 1s 2ms/step - loss: 0.2511\n",
      "Epoch 64/200\n",
      "600/600 [==============================] - 1s 2ms/step - loss: 0.2513\n",
      "Epoch 65/200\n",
      "600/600 [==============================] - 1s 2ms/step - loss: 0.2509\n",
      "Epoch 66/200\n",
      "600/600 [==============================] - 1s 2ms/step - loss: 0.2513\n",
      "Epoch 67/200\n",
      "600/600 [==============================] - 1s 2ms/step - loss: 0.2504\n",
      "Epoch 68/200\n",
      "600/600 [==============================] - 1s 2ms/step - loss: 0.2502\n",
      "Epoch 69/200\n",
      "600/600 [==============================] - 1s 2ms/step - loss: 0.2500\n",
      "Epoch 70/200\n",
      "600/600 [==============================] - 1s 2ms/step - loss: 0.2506\n",
      "Epoch 71/200\n",
      "600/600 [==============================] - 1s 2ms/step - loss: 0.2500\n",
      "Epoch 72/200\n",
      "600/600 [==============================] - 1s 2ms/step - loss: 0.2501\n",
      "Epoch 73/200\n",
      "600/600 [==============================] - 1s 2ms/step - loss: 0.2495\n",
      "Epoch 74/200\n",
      "600/600 [==============================] - 1s 2ms/step - loss: 0.2498\n",
      "Epoch 75/200\n",
      "600/600 [==============================] - 1s 2ms/step - loss: 0.2488\n",
      "Epoch 76/200\n",
      "600/600 [==============================] - 1s 2ms/step - loss: 0.2492\n",
      "Epoch 77/200\n",
      "600/600 [==============================] - 1s 2ms/step - loss: 0.2489\n",
      "Epoch 78/200\n",
      "600/600 [==============================] - 1s 2ms/step - loss: 0.2486\n",
      "Epoch 79/200\n",
      "600/600 [==============================] - 1s 2ms/step - loss: 0.2482\n",
      "Epoch 80/200\n",
      "600/600 [==============================] - 1s 2ms/step - loss: 0.2477\n",
      "Epoch 81/200\n",
      "600/600 [==============================] - 1s 2ms/step - loss: 0.2475\n",
      "Epoch 82/200\n",
      "600/600 [==============================] - 1s 2ms/step - loss: 0.2474\n",
      "Epoch 83/200\n",
      "600/600 [==============================] - 1s 2ms/step - loss: 0.2469\n",
      "Epoch 84/200\n",
      "600/600 [==============================] - 1s 2ms/step - loss: 0.2467\n",
      "Epoch 85/200\n",
      "600/600 [==============================] - 1s 2ms/step - loss: 0.2467\n",
      "Epoch 86/200\n",
      "600/600 [==============================] - 1s 2ms/step - loss: 0.2458\n",
      "Epoch 87/200\n",
      "600/600 [==============================] - 1s 2ms/step - loss: 0.2456\n",
      "Epoch 88/200\n",
      "600/600 [==============================] - 1s 2ms/step - loss: 0.2448\n",
      "Epoch 89/200\n",
      "600/600 [==============================] - 1s 2ms/step - loss: 0.2447\n",
      "Epoch 90/200\n",
      "600/600 [==============================] - 1s 2ms/step - loss: 0.2443\n",
      "Epoch 91/200\n",
      "600/600 [==============================] - 1s 2ms/step - loss: 0.2444\n",
      "Epoch 92/200\n",
      "600/600 [==============================] - 1s 2ms/step - loss: 0.2440\n",
      "Epoch 93/200\n",
      "600/600 [==============================] - 1s 2ms/step - loss: 0.2436\n",
      "Epoch 94/200\n",
      "600/600 [==============================] - 1s 2ms/step - loss: 0.2432\n",
      "Epoch 95/200\n",
      "600/600 [==============================] - 1s 2ms/step - loss: 0.2430\n",
      "Epoch 96/200\n",
      "600/600 [==============================] - 1s 2ms/step - loss: 0.2432\n",
      "Epoch 97/200\n",
      "600/600 [==============================] - 2s 3ms/step - loss: 0.2431\n",
      "Epoch 98/200\n",
      "600/600 [==============================] - 1s 2ms/step - loss: 0.2428\n",
      "Epoch 99/200\n"
     ]
    },
    {
     "name": "stdout",
     "output_type": "stream",
     "text": [
      "600/600 [==============================] - 1s 2ms/step - loss: 0.2424\n",
      "Epoch 100/200\n",
      "600/600 [==============================] - 1s 2ms/step - loss: 0.2421\n",
      "Epoch 101/200\n",
      "600/600 [==============================] - 1s 2ms/step - loss: 0.2414\n",
      "Epoch 102/200\n",
      "600/600 [==============================] - 1s 2ms/step - loss: 0.2420\n",
      "Epoch 103/200\n",
      "600/600 [==============================] - 1s 2ms/step - loss: 0.2415\n",
      "Epoch 104/200\n",
      "600/600 [==============================] - 1s 2ms/step - loss: 0.2409\n",
      "Epoch 105/200\n",
      "600/600 [==============================] - 1s 2ms/step - loss: 0.2411\n",
      "Epoch 106/200\n",
      "600/600 [==============================] - 1s 2ms/step - loss: 0.2408\n",
      "Epoch 107/200\n",
      "600/600 [==============================] - 1s 2ms/step - loss: 0.2404\n",
      "Epoch 108/200\n",
      "600/600 [==============================] - 1s 2ms/step - loss: 0.2408\n",
      "Epoch 109/200\n",
      "600/600 [==============================] - 1s 2ms/step - loss: 0.2397\n",
      "Epoch 110/200\n",
      "600/600 [==============================] - 1s 2ms/step - loss: 0.2396\n",
      "Epoch 111/200\n",
      "600/600 [==============================] - 1s 2ms/step - loss: 0.2391\n",
      "Epoch 112/200\n",
      "600/600 [==============================] - 1s 2ms/step - loss: 0.2392\n",
      "Epoch 113/200\n",
      "600/600 [==============================] - 1s 2ms/step - loss: 0.2388\n",
      "Epoch 114/200\n",
      "600/600 [==============================] - 1s 2ms/step - loss: 0.2385\n",
      "Epoch 115/200\n",
      "600/600 [==============================] - 1s 2ms/step - loss: 0.2381\n",
      "Epoch 116/200\n",
      "600/600 [==============================] - 1s 2ms/step - loss: 0.2378\n",
      "Epoch 117/200\n",
      "600/600 [==============================] - 1s 2ms/step - loss: 0.2377\n",
      "Epoch 118/200\n",
      "600/600 [==============================] - 1s 2ms/step - loss: 0.2371\n",
      "Epoch 119/200\n",
      "600/600 [==============================] - 1s 2ms/step - loss: 0.2361\n",
      "Epoch 120/200\n",
      "600/600 [==============================] - 1s 2ms/step - loss: 0.2359\n",
      "Epoch 121/200\n",
      "600/600 [==============================] - 1s 2ms/step - loss: 0.2352\n",
      "Epoch 122/200\n",
      "600/600 [==============================] - 1s 2ms/step - loss: 0.2353\n",
      "Epoch 123/200\n",
      "600/600 [==============================] - 1s 2ms/step - loss: 0.2351\n",
      "Epoch 124/200\n",
      "600/600 [==============================] - 1s 2ms/step - loss: 0.2339\n",
      "Epoch 125/200\n",
      "600/600 [==============================] - 1s 2ms/step - loss: 0.2338\n",
      "Epoch 126/200\n",
      "600/600 [==============================] - 1s 2ms/step - loss: 0.2332\n",
      "Epoch 127/200\n",
      "600/600 [==============================] - 1s 2ms/step - loss: 0.2321\n",
      "Epoch 128/200\n",
      "600/600 [==============================] - 1s 2ms/step - loss: 0.2318\n",
      "Epoch 129/200\n",
      "600/600 [==============================] - 1s 2ms/step - loss: 0.2314\n",
      "Epoch 130/200\n",
      "600/600 [==============================] - 1s 2ms/step - loss: 0.2306\n",
      "Epoch 131/200\n",
      "600/600 [==============================] - 1s 2ms/step - loss: 0.2303\n",
      "Epoch 132/200\n",
      "600/600 [==============================] - 1s 2ms/step - loss: 0.2292\n",
      "Epoch 133/200\n",
      "600/600 [==============================] - 1s 2ms/step - loss: 0.2301\n",
      "Epoch 134/200\n",
      "600/600 [==============================] - 1s 2ms/step - loss: 0.2290\n",
      "Epoch 135/200\n",
      "600/600 [==============================] - 1s 2ms/step - loss: 0.2280\n",
      "Epoch 136/200\n",
      "600/600 [==============================] - 1s 2ms/step - loss: 0.2282\n",
      "Epoch 137/200\n",
      "600/600 [==============================] - 1s 2ms/step - loss: 0.2279\n",
      "Epoch 138/200\n",
      "600/600 [==============================] - 1s 2ms/step - loss: 0.2274\n",
      "Epoch 139/200\n",
      "600/600 [==============================] - 1s 2ms/step - loss: 0.2276\n",
      "Epoch 140/200\n",
      "600/600 [==============================] - 1s 2ms/step - loss: 0.2268\n",
      "Epoch 141/200\n",
      "600/600 [==============================] - 1s 2ms/step - loss: 0.2267\n",
      "Epoch 142/200\n",
      "600/600 [==============================] - 1s 2ms/step - loss: 0.2266\n",
      "Epoch 143/200\n",
      "600/600 [==============================] - 1s 2ms/step - loss: 0.2266\n",
      "Epoch 144/200\n",
      "600/600 [==============================] - 1s 2ms/step - loss: 0.2258\n",
      "Epoch 145/200\n",
      "600/600 [==============================] - 1s 2ms/step - loss: 0.2260\n",
      "Epoch 146/200\n",
      "600/600 [==============================] - 1s 2ms/step - loss: 0.2256\n",
      "Epoch 147/200\n",
      "600/600 [==============================] - 1s 2ms/step - loss: 0.2252\n",
      "Epoch 148/200\n",
      "600/600 [==============================] - 1s 2ms/step - loss: 0.2251\n",
      "Epoch 149/200\n",
      "600/600 [==============================] - 1s 2ms/step - loss: 0.2254\n",
      "Epoch 150/200\n",
      "600/600 [==============================] - 1s 2ms/step - loss: 0.2246\n",
      "Epoch 151/200\n",
      "600/600 [==============================] - 1s 2ms/step - loss: 0.2248\n",
      "Epoch 152/200\n",
      "600/600 [==============================] - 1s 2ms/step - loss: 0.2245\n",
      "Epoch 153/200\n",
      "600/600 [==============================] - 1s 2ms/step - loss: 0.2245\n",
      "Epoch 154/200\n",
      "600/600 [==============================] - 1s 2ms/step - loss: 0.2239\n",
      "Epoch 155/200\n",
      "600/600 [==============================] - 1s 2ms/step - loss: 0.2242\n",
      "Epoch 156/200\n",
      "600/600 [==============================] - 1s 2ms/step - loss: 0.2235\n",
      "Epoch 157/200\n",
      "600/600 [==============================] - 1s 2ms/step - loss: 0.2239\n",
      "Epoch 158/200\n",
      "600/600 [==============================] - 1s 2ms/step - loss: 0.2232\n",
      "Epoch 159/200\n",
      "600/600 [==============================] - 1s 2ms/step - loss: 0.2235\n",
      "Epoch 160/200\n",
      "600/600 [==============================] - 1s 2ms/step - loss: 0.2237\n",
      "Epoch 161/200\n",
      "600/600 [==============================] - 1s 2ms/step - loss: 0.2231\n",
      "Epoch 162/200\n",
      "600/600 [==============================] - 1s 2ms/step - loss: 0.2231\n",
      "Epoch 163/200\n",
      "600/600 [==============================] - 1s 2ms/step - loss: 0.2230\n",
      "Epoch 164/200\n",
      "600/600 [==============================] - 1s 2ms/step - loss: 0.2225\n",
      "Epoch 165/200\n",
      "600/600 [==============================] - 1s 2ms/step - loss: 0.2227\n",
      "Epoch 166/200\n",
      "600/600 [==============================] - 1s 2ms/step - loss: 0.2224\n",
      "Epoch 167/200\n",
      "600/600 [==============================] - 1s 2ms/step - loss: 0.2221\n",
      "Epoch 168/200\n",
      "600/600 [==============================] - 1s 2ms/step - loss: 0.2219\n",
      "Epoch 169/200\n",
      "600/600 [==============================] - 1s 2ms/step - loss: 0.2224\n",
      "Epoch 170/200\n",
      "600/600 [==============================] - 1s 2ms/step - loss: 0.2220\n",
      "Epoch 171/200\n",
      "600/600 [==============================] - 2s 3ms/step - loss: 0.2217\n",
      "Epoch 172/200\n",
      "600/600 [==============================] - 1s 2ms/step - loss: 0.2219\n",
      "Epoch 173/200\n",
      "600/600 [==============================] - 1s 2ms/step - loss: 0.2222\n",
      "Epoch 174/200\n",
      "600/600 [==============================] - 1s 2ms/step - loss: 0.2222\n",
      "Epoch 175/200\n",
      "600/600 [==============================] - 1s 2ms/step - loss: 0.2218\n",
      "Epoch 176/200\n",
      "600/600 [==============================] - 1s 2ms/step - loss: 0.2209\n",
      "Epoch 177/200\n",
      "600/600 [==============================] - 1s 2ms/step - loss: 0.2213\n",
      "Epoch 178/200\n",
      "600/600 [==============================] - 1s 2ms/step - loss: 0.2215\n",
      "Epoch 179/200\n",
      "600/600 [==============================] - 1s 2ms/step - loss: 0.2207\n",
      "Epoch 180/200\n",
      "600/600 [==============================] - 1s 2ms/step - loss: 0.2207\n",
      "Epoch 181/200\n",
      "600/600 [==============================] - 1s 2ms/step - loss: 0.2211\n",
      "Epoch 182/200\n",
      "600/600 [==============================] - 1s 2ms/step - loss: 0.2203\n",
      "Epoch 183/200\n",
      "600/600 [==============================] - 1s 2ms/step - loss: 0.2206\n",
      "Epoch 184/200\n",
      "600/600 [==============================] - 1s 2ms/step - loss: 0.2201\n",
      "Epoch 185/200\n",
      "600/600 [==============================] - 1s 2ms/step - loss: 0.2202\n",
      "Epoch 186/200\n",
      "600/600 [==============================] - 1s 2ms/step - loss: 0.2205\n",
      "Epoch 187/200\n",
      "600/600 [==============================] - 1s 2ms/step - loss: 0.2198\n",
      "Epoch 188/200\n",
      "600/600 [==============================] - 1s 2ms/step - loss: 0.2199\n",
      "Epoch 189/200\n",
      "600/600 [==============================] - 1s 2ms/step - loss: 0.2195\n",
      "Epoch 190/200\n",
      "600/600 [==============================] - 1s 2ms/step - loss: 0.2195\n",
      "Epoch 191/200\n",
      "600/600 [==============================] - 1s 2ms/step - loss: 0.2192\n",
      "Epoch 192/200\n",
      "600/600 [==============================] - 1s 2ms/step - loss: 0.2192\n",
      "Epoch 193/200\n",
      "600/600 [==============================] - 1s 2ms/step - loss: 0.2190\n",
      "Epoch 194/200\n",
      "600/600 [==============================] - 1s 2ms/step - loss: 0.2187\n",
      "Epoch 195/200\n",
      "600/600 [==============================] - 1s 2ms/step - loss: 0.2191\n",
      "Epoch 196/200\n"
     ]
    },
    {
     "name": "stdout",
     "output_type": "stream",
     "text": [
      "600/600 [==============================] - 1s 2ms/step - loss: 0.2191\n",
      "Epoch 197/200\n",
      "600/600 [==============================] - 1s 2ms/step - loss: 0.2190\n",
      "Epoch 198/200\n",
      "600/600 [==============================] - 1s 2ms/step - loss: 0.2192\n",
      "Epoch 199/200\n",
      "600/600 [==============================] - 1s 2ms/step - loss: 0.2183\n",
      "Epoch 200/200\n",
      "600/600 [==============================] - 1s 2ms/step - loss: 0.2187\n"
     ]
    }
   ],
   "source": [
    "history = model_digits.fit(x_train, x_train, epochs=200, batch_size=100, verbose=1)"
   ]
  },
  {
   "cell_type": "code",
   "execution_count": 71,
   "metadata": {
    "colab": {
     "base_uri": "https://localhost:8080/",
     "height": 327
    },
    "colab_type": "code",
    "id": "nAbZDuXOlCZi",
    "outputId": "b2bb18b2-7913-415f-e9df-31de8809a95e"
   },
   "outputs": [
    {
     "data": {
      "image/png": "[encoded data removed]",
      "text/plain": [
       "<Figure size 720x360 with 1 Axes>"
      ]
     },
     "metadata": {
      "needs_background": "light"
     },
     "output_type": "display_data"
    }
   ],
   "source": [
    "pl.plot(np.array(history.history['loss']))\n",
    "pl.yscale('log')\n",
    "pl.xscale('log')"
   ]
  },
  {
   "cell_type": "markdown",
   "metadata": {
    "colab_type": "text",
    "id": "eNcw-N9EPxib"
   },
   "source": [
    "the loss fuction: once again it did not finish learning. "
   ]
  },
  {
   "cell_type": "code",
   "execution_count": 72,
   "metadata": {
    "colab": {
     "base_uri": "https://localhost:8080/",
     "height": 1000
    },
    "colab_type": "code",
    "id": "31mTTaI4mCKw",
    "outputId": "f405e842-6d4e-4005-be1e-d73384ff01c5"
   },
   "outputs": [
    {
     "data": {
      "image/png": "[encoded data removed]",
      "text/plain": [
       "<Figure size 720x360 with 2 Axes>"
      ]
     },
     "metadata": {
      "needs_background": "light"
     },
     "output_type": "display_data"
    },
    {
     "data": {
      "image/png": "[encoded data removed]",
      "text/plain": [
       "<Figure size 720x360 with 2 Axes>"
      ]
     },
     "metadata": {
      "needs_background": "light"
     },
     "output_type": "display_data"
    },
    {
     "data": {
      "image/png": "[encoded data removed]",
      "text/plain": [
       "<Figure size 720x360 with 2 Axes>"
      ]
     },
     "metadata": {
      "needs_background": "light"
     },
     "output_type": "display_data"
    },
    {
     "data": {
      "image/png": "[encoded data removed]",
      "text/plain": [
       "<Figure size 720x360 with 2 Axes>"
      ]
     },
     "metadata": {
      "needs_background": "light"
     },
     "output_type": "display_data"
    },
    {
     "data": {
      "image/png": "[encoded data removed]",
      "text/plain": [
       "<Figure size 720x360 with 2 Axes>"
      ]
     },
     "metadata": {
      "needs_background": "light"
     },
     "output_type": "display_data"
    },
    {
     "data": {
      "image/png": "[encoded data removed]",
      "text/plain": [
       "<Figure size 720x360 with 2 Axes>"
      ]
     },
     "metadata": {
      "needs_background": "light"
     },
     "output_type": "display_data"
    },
    {
     "data": {
      "image/png": "[encoded data removed]",
      "text/plain": [
       "<Figure size 720x360 with 2 Axes>"
      ]
     },
     "metadata": {
      "needs_background": "light"
     },
     "output_type": "display_data"
    },
    {
     "data": {
      "image/png": "[encoded data removed]",
      "text/plain": [
       "<Figure size 720x360 with 2 Axes>"
      ]
     },
     "metadata": {
      "needs_background": "light"
     },
     "output_type": "display_data"
    },
    {
     "data": {
      "image/png": "[encoded data removed]",
      "text/plain": [
       "<Figure size 720x360 with 2 Axes>"
      ]
     },
     "metadata": {
      "needs_background": "light"
     },
     "output_type": "display_data"
    },
    {
     "data": {
      "image/png": "[encoded data removed]",
      "text/plain": [
       "<Figure size 720x360 with 2 Axes>"
      ]
     },
     "metadata": {
      "needs_background": "light"
     },
     "output_type": "display_data"
    }
   ],
   "source": [
    "output_image = model_digits.predict(x_test)\n",
    "\n",
    "for i in range(10):\n",
    "  compareinout(i, output_image, x_test)"
   ]
  },
  {
   "cell_type": "markdown",
   "metadata": {
    "colab_type": "text",
    "id": "L_tHRpkkP1y8"
   },
   "source": [
    "The result is not bad! The decoder can recreate the image from only 16 numbers!"
   ]
  },
  {
   "cell_type": "markdown",
   "metadata": {
    "colab_type": "text",
    "id": "CNcgMuEWd_m-"
   },
   "source": [
    "# Extract feature"
   ]
  },
  {
   "cell_type": "code",
   "execution_count": 73,
   "metadata": {
    "colab": {
     "base_uri": "https://localhost:8080/",
     "height": 87
    },
    "colab_type": "code",
    "id": "yHA4zE6xmacQ",
    "outputId": "1b7f7451-acb0-4b19-fd16-450a7a515465"
   },
   "outputs": [
    {
     "data": {
      "image/png": "[encoded data removed]",
      "text/plain": [
       "<Figure size 720x360 with 1 Axes>"
      ]
     },
     "metadata": {
      "needs_background": "light"
     },
     "output_type": "display_data"
    }
   ],
   "source": [
    "from keras import backend as K\n",
    "# input placeholder\n",
    "inp = model_digits.input                   \n",
    "# extract the bottle neck outputs\n",
    "outputs = model_digits.layers[3].output     \n",
    "# create a function to evaluate the output of the bottle neck layer for a given input\n",
    "functors = K.function([inp], [outputs])    \n",
    "\n",
    "# Testing\n",
    "layer_outs = functors(x_test[:1])\n",
    "pl.imshow(layer_outs[0]);"
   ]
  },
  {
   "cell_type": "markdown",
   "metadata": {
    "colab_type": "text",
    "id": "pR-aIb-XQQhY"
   },
   "source": [
    "This is the reducted representation of the first image in the test sample: a 16-values representation of the NxN pixel image"
   ]
  },
  {
   "cell_type": "code",
   "execution_count": 74,
   "metadata": {
    "colab": {},
    "colab_type": "code",
    "id": "QoT7vdpjWfk8"
   },
   "outputs": [],
   "source": [
    "def compareinout_encoded(i, outim, testimg, initialshape=(28,28)):\n",
    "    fig = pl.figure(figsize(10,5))\n",
    "    ax = fig.add_subplot(131) \n",
    "    ax.imshow(testimg[i].reshape(initialshape) , cmap=\"bone\")\n",
    "    ax.get_xaxis().set_visible(False)\n",
    "    ax.get_yaxis().set_visible(False)\n",
    "    ax = fig.add_subplot(132)\n",
    "    pl.imshow(functors(testimg[i:i+1])[0])\n",
    "    pl.yticks([])\n",
    "    ax = fig.add_subplot(133) \n",
    "    ax.imshow(outim[i].reshape(initialshape) , cmap=\"bone\")\n",
    "    ax.get_xaxis().set_visible(False)\n",
    "    ax.get_yaxis().set_visible(False)\n"
   ]
  },
  {
   "cell_type": "code",
   "execution_count": 75,
   "metadata": {
    "colab": {
     "base_uri": "https://localhost:8080/",
     "height": 1000
    },
    "colab_type": "code",
    "id": "HvFp8cTbcdKa",
    "outputId": "60e6664b-09ae-4261-ba51-706bc7b11381"
   },
   "outputs": [
    {
     "data": {
      "image/png": "[encoded data removed]",
      "text/plain": [
       "<Figure size 720x360 with 3 Axes>"
      ]
     },
     "metadata": {
      "needs_background": "light"
     },
     "output_type": "display_data"
    },
    {
     "data": {
      "image/png": "[encoded data removed]",
      "text/plain": [
       "<Figure size 720x360 with 3 Axes>"
      ]
     },
     "metadata": {
      "needs_background": "light"
     },
     "output_type": "display_data"
    },
    {
     "data": {
      "image/png": "[encoded data removed]",
      "text/plain": [
       "<Figure size 720x360 with 3 Axes>"
      ]
     },
     "metadata": {
      "needs_background": "light"
     },
     "output_type": "display_data"
    },
    {
     "data": {
      "image/png": "[encoded data removed]",
      "text/plain": [
       "<Figure size 720x360 with 3 Axes>"
      ]
     },
     "metadata": {
      "needs_background": "light"
     },
     "output_type": "display_data"
    },
    {
     "data": {
      "image/png": "[encoded data removed]",
      "text/plain": [
       "<Figure size 720x360 with 3 Axes>"
      ]
     },
     "metadata": {
      "needs_background": "light"
     },
     "output_type": "display_data"
    },
    {
     "data": {
      "image/png": "[encoded data removed]",
      "text/plain": [
       "<Figure size 720x360 with 3 Axes>"
      ]
     },
     "metadata": {
      "needs_background": "light"
     },
     "output_type": "display_data"
    },
    {
     "data": {
      "image/png": "[encoded data removed]",
      "text/plain": [
       "<Figure size 720x360 with 3 Axes>"
      ]
     },
     "metadata": {
      "needs_background": "light"
     },
     "output_type": "display_data"
    },
    {
     "data": {
      "image/png": "[encoded data removed]",
      "text/plain": [
       "<Figure size 720x360 with 3 Axes>"
      ]
     },
     "metadata": {
      "needs_background": "light"
     },
     "output_type": "display_data"
    },
    {
     "data": {
      "image/png": "[encoded data removed]",
      "text/plain": [
       "<Figure size 720x360 with 3 Axes>"
      ]
     },
     "metadata": {
      "needs_background": "light"
     },
     "output_type": "display_data"
    },
    {
     "data": {
      "image/png": "[encoded data removed]",
      "text/plain": [
       "<Figure size 720x360 with 3 Axes>"
      ]
     },
     "metadata": {
      "needs_background": "light"
     },
     "output_type": "display_data"
    }
   ],
   "source": [
    "for i in range(10):\n",
    "  compareinout_encoded(i, output_image, x_test)"
   ]
  },
  {
   "cell_type": "markdown",
   "metadata": {
    "colab_type": "text",
    "id": "ivBrwoxqddZv"
   },
   "source": [
    "left: original imate\n",
    "\n",
    "center: compressed representation\n",
    "\n",
    "right: predicted image"
   ]
  }
 ],
 "metadata": {
  "accelerator": "GPU",
  "colab": {
   "authorship_tag": "ABX9TyPY/hTm665Fbnfb78tP9exh",
   "include_colab_link": true,
   "name": "autoencode_digits.ipynb",
   "provenance": []
  },
  "kernelspec": {
   "display_name": "base",
   "language": "python",
   "name": "python3"
  },
  "language_info": {
   "codemirror_mode": {
    "name": "ipython",
    "version": 3
   },
   "file_extension": ".py",
   "mimetype": "text/x-python",
   "name": "python",
   "nbconvert_exporter": "python",
   "pygments_lexer": "ipython3",
   "version": "3.9.16"
  }
 },
 "nbformat": 4,
 "nbformat_minor": 1
}
